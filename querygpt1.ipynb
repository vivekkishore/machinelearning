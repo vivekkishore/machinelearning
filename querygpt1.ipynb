{
  "nbformat": 4,
  "nbformat_minor": 0,
  "metadata": {
    "colab": {
      "provenance": [],
      "authorship_tag": "ABX9TyMhV+NxhLN4XGwcqLRLCMTh",
      "include_colab_link": true
    },
    "kernelspec": {
      "name": "python3",
      "display_name": "Python 3"
    },
    "language_info": {
      "name": "python"
    }
  },
  "cells": [
    {
      "cell_type": "markdown",
      "metadata": {
        "id": "view-in-github",
        "colab_type": "text"
      },
      "source": [
        "<a href=\"https://colab.research.google.com/github/vivekkishore/machinelearning/blob/main/querygpt1.ipynb\" target=\"_parent\"><img src=\"https://colab.research.google.com/assets/colab-badge.svg\" alt=\"Open In Colab\"/></a>"
      ]
    },
    {
      "cell_type": "markdown",
      "source": [
        "###Attempt to query excel using unstructured excel loader"
      ],
      "metadata": {
        "id": "5bVGnGVohlqG"
      }
    },
    {
      "cell_type": "code",
      "execution_count": null,
      "metadata": {
        "id": "Vif2xOoQn__S"
      },
      "outputs": [],
      "source": [
        "!pip install python-dotenv\n",
        "!pip install openai\n",
        "!pip install --upgrade langchain\n",
        "!pip install tiktoken\n",
        "!pip install chromadb\n",
        "!pip install unstructured\n",
        "import warnings\n",
        "warnings.filterwarnings('ignore')\n",
        "import langchain\n",
        "langchain.debug=False\n",
        "import os, openai\n",
        "from dotenv import load_dotenv, find_dotenv\n",
        "_=load_dotenv(find_dotenv())\n",
        "openai.api_key=os.environ['API_KEY']"
      ]
    },
    {
      "cell_type": "code",
      "source": [
        "from langchain.text_splitter import CharacterTextSplitter,RecursiveCharacterTextSplitter\n",
        "from langchain.document_loaders import UnstructuredExcelLoader\n",
        "#Load\n",
        "loader = UnstructuredExcelLoader(\"/content/Sample2.xlsx\")\n",
        "docs = loader.load()\n",
        "\n",
        "# # Split\n",
        "text_splitter=RecursiveCharacterTextSplitter(chunk_size=1000, chunk_overlap=0,separators=[\"\\n\\n\\n\"])\n",
        "texts=text_splitter.split_documents(docs)\n"
      ],
      "metadata": {
        "id": "TsfFGPe4oLDS"
      },
      "execution_count": 15,
      "outputs": []
    },
    {
      "cell_type": "code",
      "source": [
        "# docs\n",
        "# texts"
      ],
      "metadata": {
        "id": "2RCogGP6o-oy"
      },
      "execution_count": null,
      "outputs": []
    },
    {
      "cell_type": "code",
      "source": [
        "from langchain.embeddings.openai import OpenAIEmbeddings\n",
        "embedding = OpenAIEmbeddings(openai_api_key=openai.api_key)\n",
        "\n",
        "\n",
        "from langchain.vectorstores import Chroma\n",
        "persist_directory = '/content/chroma/'\n",
        "\n",
        "# to remove old database files\n",
        "# !rm -rf /content/chroma/\n",
        "\n",
        "db=Chroma.from_documents(documents=docs, embedding=embedding, persist_directory=persist_directory)\n"
      ],
      "metadata": {
        "id": "gXqQLhiDoN9L"
      },
      "execution_count": 30,
      "outputs": []
    },
    {
      "cell_type": "code",
      "source": [
        "#fetching relevant data directly from vector db using similarilty search\n",
        "# Query='What is the NameID for Pluralsight vendor'\n",
        "# result=db.similarity_search(Query, k=2)\n",
        "# result1=db.max_marginal_relevance_search(Query,fetch_k=4,k=3)\n",
        "\n",
        "# print(result1)\n",
        "\n",
        "from langchain.chat_models import ChatOpenAI\n",
        "llm=ChatOpenAI(model_name='gpt-3.5-turbo',temperature=0,openai_api_key= openai.api_key)\n",
        "\n",
        "# Build prompt\n",
        "from langchain.prompts import PromptTemplate\n",
        "template = \"\"\"Use the following pieces of context to answer the question at the end. If you don't know the answer, just say that you don't know, don't try to make up an answer. Use three sentences maximum. Keep the answer as concise as possible.\n",
        "{context}\n",
        "Question: {question}\n",
        "Helpful Answer:\"\"\"\n",
        "QA_CHAIN_PROMPT = PromptTemplate(input_variables=[\"context\", \"question\"],template=template)\n",
        "\n",
        "# Run chain\n",
        "from langchain.chains import RetrievalQA\n",
        "\n",
        "def run_model(question):\n",
        "  qa_chain = RetrievalQA.from_chain_type(llm,\n",
        "                                       retriever=db.as_retriever(search_type='mmr',search_kwargs={'k': 3, 'fetch_k':4 }),\n",
        "                                       return_source_documents=True,\n",
        "                                       chain_type_kwargs={\"prompt\": QA_CHAIN_PROMPT}, verbose =True)\n",
        "  result=qa_chain({\"query\":question})\n",
        "  return result"
      ],
      "metadata": {
        "id": "Pq7zeN7boZ6A",
        "outputId": "4633bb88-8ab8-4f23-8a90-eca57a5ac94f",
        "colab": {
          "base_uri": "https://localhost:8080/"
        }
      },
      "execution_count": 34,
      "outputs": [
        {
          "output_type": "stream",
          "name": "stderr",
          "text": [
            "WARNING:chromadb.segment.impl.vector.local_persistent_hnsw:Number of requested results 4 is greater than number of elements in index 1, updating n_results = 1\n"
          ]
        },
        {
          "output_type": "stream",
          "name": "stdout",
          "text": [
            "[Document(page_content=\"\\n\\n\\nAIR ID\\nVendor Name\\nApplication Status\\nIntegration Specific\\nIntegration Approach\\nSP/IDP\\nIntermediate screen present to enter UPN?\\nAD Group Restriction\\nSupported by LVA Team\\n(Yes/No)\\nRoles\\nSupports Separate Stage & Production Environments\\nSuperGroup\\nYes/No\\nGroup name vs Object ID\\nStage AD Group/Stage SuperGroup Name\\nProduction AD Group/Production SuperGroup Name\\nProduction AD Group Owner/s\\nAuto Provisioning\\nName ID\\nIf Name ID is not People Key. What is it & why?\\nName ID format\\nSupport for Prejoiners\\nSupport for Contractors\\nSupport for V&A\\nMobile SSO\\nmyL Asset - Yes/No\\nIf Q= Yes, then Course Information\\nADFS Relying Parties/Azure SSO Decommossioned\\nDecommission RITMs\\nVendor Contact\\nBusiness Owner Contact\\nVendor Server Hosting Location Country\\nStage Cert Exp\\nProd cert Exp\\nStage Active / Inactive\\n\\n\\n\\n\\n10040\\nPluralsight\\nActive\\nMigrated to Azure AD\\nSP\\nNo\\nYes, multiple AD groups inside the SG to put users in specific learning paths.\\nYes\\nUser, Team Manager, Admin\\nYes\\nYes\\nObject IDs are being passed under groups claim in SAML.\\nPluralsight_SSO_SG\\nPluralsight_SSO_SG\\ncorina.dobos\\\\noana.florica\\\\ndijosh.thannikkattil\\nYes\\nPeopleKey\\nNot available\\nunspecified\\nNo\\nNo\\nNo\\nNot available\\nYes\\nhttps://mylearning.accenture.com/mylearningui/learner/coursedetail/1671589\\nYes\\nStage: RITM12217565 \\\\nProduction: RITM12217657\\n\\\\nSecurity related - support@pluralsight.com\\\\nandrew-tueller@pluralsight.com\\nanna.au-yeung@accenture.com\\nUS(west coast)\\n10/2/2023, 11:32:41 AM\\n3/10/2024, 7:52:26 AM\\nActive\\n\\n\\n11204\\nACloudGuru\\nActive\\nMigrated to Azure AD\\nSP\\nNo\\nYes\\nYes\\nUser, Team Manager, Admin\\nYes\\nNo\\nGroupnames are being sent under Group claim.\\nACloudGuru_SSO_FY21\\nACloudGuru_SSO_FY21\\nsuneeta.warrier.b\\\\njasmin.c.caballero\\\\ncorina.dobos\\\\nritu.eapen\\\\neichelle.l.mercado\\\\nmamatha.p.s\\\\ndijosh.thannikkattil\\nYes\\nPeopleKey\\nNot available\\nemailaddress\\nNo\\nNo\\nNo\\nNot available\\nNot available\\nNot available\\nYes\\nStage: RITM10409938\\\\nProduction: RITM10409988\\njay.dombroski@acloud.guru, jennifer.brigman@acloudguru.com\\nsaumi.mitra@accenture.com\\nUS-East-1 region of AWS\\n7/23/2023, 10:44:17 AM\\n11/3/2023, 5:33:25 PM\\nInactive\\n\\n\\n3366\\nAccenture Academy\\nDecommissioned\\nMigrated to Azure AD\\nSP\\nNo\\nNot available\\nNo\\nUser,Admin\\nYes\\nYes\\nObject IDs are being passed under groups claim in SAML.\\nAccentureAcademy_SSO_SG\\nAccentureAcademy_SSO_SG\\nashish.l.bhatt\\\\nchristopher.jepson\\\\nreshmi.kunda\\\\njoanna.j.rodriguez\\\\nlinda.m.westphal\\nYes\\nPeopleKey\\nNot available\\nunspecified\\nNo\\nNo\\nNo\\nNot available\\nNot available\\nNot available\\nYes\\nStage: RITM10898717\\\\nProduction: RITM10898753\\\\nAzure SSO decommision RITMs\\\\nStage RITM: RITM20798562\\\\nProduction RITM: RITM20798638\\nchristopher.jepson\\nJennifer brown\\nNot maNot availableged by Tfo\\n9/28/2023, 8:34:50 PM\\n12/8/2023, 1:12:24 PM\\nDecommissioned\\n\\n\\n10038\\ngetAbstract\\nActive\\nMigrated to Azure AD\\nSP\\nNo\\nNo\\nYes\\nUser, Admin\\nYes\\nNo\\nNot available\\nNot available\\nNot available\\nNot available\\nYes\\nPeopleKey\\nNot available\\nemailaddress\\nNo\\nNo\\nNo\\nNot available\\nNot available\\nNot available\\nYes\\nStage: RITM10195310 \\\\nProduction: RITM10195410\\nSSO.ITSupport@getAbstract.com\\nthais.marella@accenture.com\\nSwitzerland\\\\n\\n9/18/2023, 1:06:18 AM\\n10/7/2023, 9:37:26 PM\\nActive\\n\\n\\n10041\\nSAP Learning Hub\\nDecommissioned\\nMigrated to Azure AD\\nIDP\\nNot available\\nYes\\nYes\\nUser, Admin\\nYes\\nNo\\nNo Groups claim, AD is created for User restriction\\nSAPLearningHub_SSO_CloudAD\\nSAPLearningHub_SSO_CloudAD\\nNot available\\nNo, User needs to be added on the vendor system prior to access.\\nemailaddress\\nVendor cannot support PeopleKey. Hence emailaddress is primary key.\\\\nComments from Vendor: The IDs should always be in lowercase . We are required to provision the ID in lower case on our system .\\nemailaddress\\nNo\\nNot available\\nNot available\\nNot available\\nNot available\\nNot available\\nYes\\nADFS relying parties Decommission RITMs\\\\n Stage: RITM11081420 \\\\nProduction: RITM11081458 \\\\n\\\\nAzure SSO decommision RITMs\\\\nStage: RITM15217800 \\\\nProduction: RITM15217934 \\\\n\\nNot available\\nNot available\\nNot available\\nNot available\\nNot available\\nDecommissioned\\n\\n\\n9930\\nSkillsoft\\nActive\\nMigrated to Azure AD\\nSP\\nNo\\nNo\\nYes\\nUser, Admin\\nYes\\nNo\\nNot available\\nNot available\\nNot available\\nNot available\\nYes\\nPeopleKey\\nNot available\\nunspecified\\nNo\\nYes, Contractors.Regular.All.7 and \\\\nContractors.Restricted.All is added to the Production configuration\\nNo\\nNot available\\nNot available\\nNot available\\nNot available\\nNot available\\nvictoria.shelves@skillsoft.com,  support@skillsoft.com\\namy.howard\\nUS\\n3/20/2024, 2:39:06 AM\\n3/20/2024, 3:15:59 AM\\nActive\\n\\n\\n21769\\nRehearsal\\nDecommissioned\\nMigrated to Azure AD\\nSP\\nNot available\\nYes\\nNo\\nUser\\nYes\\nNo\\nObject IDs are being passed under memberofgroups claim in SAML.\\nRehearsal_SSO_CloudAD\\\\nAzure.All.Personnel.Accenture.Leadership\\nRehearsal_SSO_CloudAD\\\\nAzure.All.Personnel.Accenture.Leadership\\ntodd.k.cook@accenture.com,\\nYes\\nPeopleKey\\nNot available\\nunspecified\\nNo\\nNot available\\nNot available\\nNot available\\nNot available\\nNot available\\nYes\\nStage: RITM11563647\\\\nProduction: RITM11563689\\nNot available\\nNot available\\nNot available\\nNot available\\nNot available\\nDecommissioned\\n\\n\\n10072\\nedX\\nDecommissioned\\nUnder Migration\\nSP\\nNot available\\nYes\\nYes\\nUser, Admin\\nNo, Vendor doesn't have two separate environments. To test in stage they are switching their production SSO to stage and when stage testing is done they will switch it back to Production again.\\nNo\\nObject IDs are being passed under Group claim in SAML.\\nedX_SSO\\nNot available\\nNot available\\nYes\\nPeopleKey\\nNot available\\nunspecified\\nNo\\nNot available\\nNot available\\nNot available\\nNot available\\nNot available\\nNot available\\nStage: RITM16475079\\nNot available\\nNot available\\nNot available\\nNot available\\nNot available\\nDecommissioned\\n\\n\\n13126\\nTidWit\\nDecommissioned\\nMigrated to Azure AD\\nSP\\nNot available\\nNo\\nNo\\nUser\\nYes\\nNo\\nNot available\\nNot available\\nNot available\\nNot available\\nYes\\nPeopleKey\\nNot available\\nemailaddress\\nNo\\nYes, Contractors.Regular.All is added to the Production configuration\\nNot available\\nNot available\\nNot available\\nNot available\\nNot available\\nStage: RITM7501370\\\\nProduction: RITM7501432\\nNot available\\nNot available\\nNot available\\nNot available\\nNot available\\nDecommissioned\\n\\n\\n22090\\nSkillsoft Percipio\\nActive\\nMigration through B2C\\nSP\\nNo\\nNo\\nYes\\nUser, Admin\\nYes\\nNo\\nNot available\\nNot available\\nNot available\\nNot available\\nYes\\nPeopleKey\\nNot available\\nNot available\\nYes\\nYes, Contractors.Regular.All.7 and \\\\nContractors.Restricted.All is added to the Production configuration\\nNo\\nNot available\\nNot available\\nNot available\\nNot available\\nAzure decommission Production RITM: RITM16679920\\nsupport@skillsoft.com\\\\n\\\\nFor Chat /Phone -  https://support.skillsoft.com\\namy.howard@accenture.com\\nUS\\n2/27/2022, 9:01:32 PM(Decommisioned on Azure)\\n1/15/2022, 12:27:45 PM (Decommisioned on Azure)\\nActive\\n\\n\\n11873\\nRosetta Stone\\nActive\\nMigration through B2C\\nSP\\nNo\\nNo\\nYes\\nUser\\nYes\\nNo\\nNot available\\nNot available\\nNot available\\nNot available\\nYes\\nPeopleKey\\nNot available\\nNot available\\nYes\\nYes, Contractors.Regular.All.7 and \\\\nContractors.Restricted.All is added to the Production configuration\\nNo\\nNot available\\nNot available\\nNot available\\nNot available\\nNot available\\nenenon@rosettastone.com\\namy.howard@accenture.com\\nUS\\nNot availableF\\nNot availableF\\nActive\\n\\n\\n10071\\nCognician\\nActive\\nMigrated to Azure AD\\nSP\\nNo\\nNo\\nYes\\nUser\\nYes\\nNo\\nNot available\\nNot available\\nNot available\\nNot available\\nYes\\nPeopleKey\\nNot available\\nunspecified\\nNo\\nYes, Contractors.Regular.All is added to the Production configuration\\nNo\\nNot available\\nNot available\\nNot available\\nYes\\nStage: RITM7501534\\\\nProduction: RITM7501616\\nrobert@cognician.com\\njitka.hejdova@accenture.com\\nAWS EU-west-1 in Ireland\\n11/7/2022, 3:07:47 PM (INot availablective)\\n1/19/2026, 1:04:15 PM\\nInactive\\n\\n\\n9902\\nDesire2Learn - D2L\\nActive\\nMigrated to Azure AD\\nSP\\nNo\\nNo\\nNo\\nStudent,\\\\nFaculty,\\\\nFaculty Assistant,\\\\nCourse Developer,\\\\nContent Champion,\\\\nATCI Course Developer,\\\\nLPS Reporting,\\\\nDelivery Reporting,\\\\nSelf-Serve Analytics,\\\\nAL Test Team,\\\\nLimited Tech Admin,\\\\nAL Classroom Tech,\\\\nAdministrator,\\\\nSuper Admin\\\\n\\\\n\\nYes\\nNo\\nNot available\\nNot available\\nSSO.9902_D2L_Client_Demo_Group along with Accenture managed groups\\njames.gorrell\\\\ni.jaffe\\\\nbrian.g.rheaume\\nYes\\nPeopleKey\\nNot available\\nemailaddress\\nNo\\nYes, Contractors.Regular.All.7 is added to the Production configuration\\nNo\\nNot available\\nNot available\\nNot available\\nYes\\nStage: RITM8117481\\\\nProduction: RITM8117587\\nandrew.ko@d2l.com\\nBusiness - brian.ahern@accenture.com\\\\nTechnical - i.jaffe@accenture.com\\nAWS US-east-1 in Virginia\\n4/20/2025, 12:25:13 PM\\n4/25/2025, 4:53:10 PM\\nActive\\n\\n\\n103803\\nSecurity Innovation_Best Buy\\nDecommissioned\\nAzure AD\\nSP\\nNot available\\nNo\\nYes\\nUser\\nNo, Vendor doesn't have two separate environments. To test in stage they are switching their production SSO to stage and when stage testing is done they will switch it back to Production again.\\nNot available\\nNot available\\nNot available\\nNot available\\nNot available\\nNo, User needs to be added on the vendor system prior to access.\\nPeopleKey\\nNot available\\nemailaddress\\nNo\\nNo\\nNot available\\nNot available\\nYes\\nA33378\\\\nSecure Application Development Program - Best Buy Account\\\\nhttps://mylearning.accenture.com/Atlas/home.aspx?url=%23%2FactivityDetailsqmqmactivityID%3D1763822%26activitySource%3DLMS\\nNot available\\nNot available\\nNot available\\nchristopher.r.arlick@accenture.com\\nNot available\\nNot available\\nNot available\\nDecommissioned\\n\\n\\n9939\\nAdobe connect\\nDecommissioned\\nAzure AD\\nNot available\\nNot available\\nNot available\\nNot available\\nNot available\\nNot available\\nNot available\\nNot available\\nNot available\\nNot available\\nNot available\\nNot available\\nNot available\\nNot available\\nNot available\\nNot available\\nNot available\\nNot available\\nNot available\\nNot available\\nNot available\\nNot available\\nStage: RITM6553588\\\\nProduction: RITM6553875\\nNot available\\nNot available\\nNot available\\nNot available\\nNot available\\nDecommissioned\\n\\n\\n47176\\nPeergrade\\nActive\\nAzure AD\\nSP\\nNo\\nNo\\nNo\\nInstitution owner,Institution admin,Course owner,Teacher,Student\\nYes\\nNo\\nNot available\\nNot available\\nNot available\\nNot available\\nYes\\nPeopleKey\\nNot available\\nunspecified\\nNo\\nYes, Contractors.Regular.All & Contractors.Restricted.All is added to the Production configuration\\nNo\\nNot available\\nNot available\\nNot available\\nNot available\\nNot available\\ntony@peergrade.io\\ni.jaffe\\nIreland (EU-west-1)\\n4/15/2025, 10:13:57 PM\\n5/9/2025, 5:37:08 PM\\nActive\\n\\n\\n53250\\nDataCamp\\nActive\\nAzure AD\\nSP\\nYes\\nNo\\nYes\\nUser, Admin\\nYes\\nNo\\nNot available\\nNot available\\nNot available\\nNot available\\nYes\\nPeopleKey\\nNot available\\nunspecified\\nNo\\nNo\\nNo\\nNot available\\nNot available\\nNot available\\nNot available\\nNot available\\nmiNot available.badawi@datacamp.com\\nsurendra.bisht\\nNorth Virginia ('us-east-1' on AWS)\\n\\\\n7/18/2025, 10:01:28 AM\\n7/27/2025, 5:32:44 PM\\nActive\\n\\n\\n53335\\nIvy Knowledge Services\\nDecommissioned\\nAzure AD\\nIDP\\nNo\\nNo\\nNo\\nUser\\nYes\\nNo\\nNot available\\nNot available\\nNot available\\nNot available\\nYes\\nPeopleKey\\nNot available\\nemailaddress\\nNo\\nYes, Contractors.Regular.All.3 is added to the Production configuration\\nNot available\\nNot available\\nNot available\\nNot available\\nYes\\nAzure Decommission details\\\\nStage: RITM17051528\\\\nProduction: RITM17051812\\nshristy.a@ivyproschool.com\\nsiddharth.a.banerjee\\nNot available\\nNot available\\nNot available\\nDecommissioned\\n\\n\\n185952\\nJosh Bersin Academy - JBA\\nActive\\nAzure AD\\nSP\\nNo\\nYes\\nYes\\nUser, Admin\\nYes\\nYes\\nNo Groups claim, AD groups are created for User restriction\\nJBA_SSO_SG\\nJBA_SSO_SG\\ncorina.dobos\\\\noana.florica\\\\nusha.j.m\\\\navalon.john\\\\ndarina.stavarache\\\\nrenny.vareed\\nYes\\nPeopleKey\\nNot available\\nPersistent\\nNo\\nNo\\nNo\\nNot available\\nNot available\\nNot available\\nNot available\\nNot available\\neduardo@nomadiclearning.com\\nrenny.vareed@accenture.com\\nAWS us-east-1 and eu-west-1\\n\\\\n9/23/2025, 9:46:33 PM\\n10/3/2025, 3:03:30 PM\\nActive\\n\\n\\n65144\\nZoom\\nNot in our list\\nAzure AD\\nSP\\nNo\\nNo\\nNo\\nUser\\nYes\\nNo\\nNot available\\nNot available\\nFew dynamic groups along with other Accenture managed groups\\nDynamic group, Owner - taruna.a.gupta\\\\njames.s.macvicar\\\\n\\\\n\\nYes\\nPeopleKey\\nNot available\\nPersistent\\nNo\\nYes\\\\nContractors.Client, Contractors.Regular.All.3 & Contractors.Restricted.All are added to Production SSO configuration\\nNo\\nNot available\\nNot available\\nNot available\\nNot available\\nNot available\\nNot available\\nNot available\\nNot available\\n11/25/2022, 12:58:03 PM\\n2/27/2023, 12:56:11 PM\\nNot in our list\\n\\n\\n79784\\nAttensi\\nActive\\nAzure AD\\nSP\\nNo\\nNo\\nNo\\nUser\\nYes\\nNo\\n\\n\\n\\nNot available\\nYes\\nPeopleKey\\nNot available\\nunspecified\\nNo\\nNo\\nNo\\nNot available\\nNot available\\nNot available\\nNot available\\nNot available\\nhuw.newton.hill@attensi.com, anNot availablebel.whyte@attensi.com, maria.escayola.ravell@attensi.com\\nstephanie.c.taylor@accenture.com\\nGermany (AWS)  and Amsterdam, Netherlands (Azure)\\n2/15/2026, 11:47:34 AM\\n2/22/2026, 2:32:55 PM\\nActive\\n\\n\\n83043\\nMIT Horizon\\nDecommissioned\\nAzure AD\\nSP\\nNo\\nNo\\nNo\\nUser\\nYes\\nNo\\nNot available\\nNot available\\nNot available\\nNot available\\nYes\\nPeopleKey\\nNot available\\nemailaddress\\nNo\\nNo\\nNot available\\nNot available\\nNot available\\nNot available\\nNot available\\nStage RITM: RITM18041704\\\\nProduction RITM: RITM18041772\\nyanyyu@mit.edu\\nmichelle.buechler@accenture.com\\nUS(Heroku)\\nNot available\\nNot available\\nDecommissioned\\n\\n\\n82244\\nIntrado\\nActive\\nAzure AD\\nSP\\nNo\\nNo\\nNo\\nParticipants, Presenters\\nYes\\nNo\\n\\n\\n\\nNot available\\nYes\\nPeopleKey\\nNot available\\nunspecified\\nNo\\nContractors.Regular.All is an accessible group\\nNo\\nNot available\\nNot available\\nNot available\\nNot available\\nNot available\\nlisa.boyce@notified.com,krista.aders@qcenter.com\\ndan.dupre\\nIllinois, USA\\n2/13/2026, 2:08:05 PM\\n3/14/2026, 5:08:38 PM\\nActive\\n\\n\\n10035\\nAperian Global\\nActive\\nMigrated to Azure AD\\nSP\\nYes\\nNo\\nNo\\nUser,Organization Owners\\nYes\\nNo\\nNot available\\nNot available\\nNot available\\nNot available\\nYes\\nUPN\\nVendor cannot support PeopleKey as Not availablemeID. Hence UPN is Not availablemeID\\nemailaddress\\nNo\\nYes, Contractors.Regular.All.3 is added to the Production configuration\\nNo\\nNo\\nNot available\\nNot available\\nYes\\nStage: RITM9720594\\\\nProduction: RITM9720642\\ndtroxler@aperianglobal.com, support@aperianglobal.com\\nalana.stewart@accenture.com\\nAWS US\\n1/14/2025, 2:40:03 AM\\n3/31/2025, 6:33:56 PM\\nInactive\\n\\n\\n136074(in stage)\\\\n139870(in Production)\\nThrive Global\\nNot in our list\\nAzure AD\\nSP\\nYes\\nNo\\nNo\\nUser\\nYes\\nNo\\nNot available\\nNot available\\nNot available\\nNot available\\nYes\\nPeopleKey\\nNot available\\nunspecified\\nNo\\nNo\\nNo\\nYes\\nNot available\\nNot available\\nNot available\\nNot available\\ntara.dixon@thriveglobal.com\\nalison.r.cupito@accenture.com\\nUS\\n2/1/2024, 5:19:29 PM\\n4/6/2024, 7:52:33 PM\\nNot in our list\\n\\n\\n143398\\nCalm SSO\\nNot in our list\\nAzure AD\\nIDP\\nNo\\nNo\\nNo\\nUser, partner_portal_role_partner_admin\\nYes\\nNo\\nNot available\\nNot available\\nNot available\\nNot available\\nYes\\nPeopleKey\\nNot available\\nunspecified\\nNo\\nYes, Contractors.Regular.All.7 and \\\\nContractors.Restricted.All is added  Production configurations\\nYes\\nNot available\\nNo\\nNot available\\nNot available\\nNot available\\ndarren.koepp@calm.com\\nalison.r.cupito\\nAWS us-east1\\n3/5/2024, 7:38:28 PM\\n4/14/2024, 2:36:05 AM\\nNot in our list\\n\\n\\n134912\\nFIT Learning Systems\\nActive\\nAzure AD\\nSP\\nNo\\nNo\\nNo\\nUser,Technician,Admin\\nYes\\nNo\\nNot available\\nNot available\\nNot available\\nNot available\\nYes\\nPeopleKey\\nNot available\\nunspecified\\nNo\\nNo\\nNo\\nNot available\\nNot available\\nNot available\\nNot available\\nAzure Decommission details\\\\nStage: RITM19872962\\\\nProduction: RITM19872966\\nivan.estrella@fitls.com\\narkaitz.gamino@accenture.com, oscar.ruiz@accenture.com\\nNetherlands (azure west europe)\\n2/9/2024, 10:50:45 PM\\n4/8/2024, 1:08:13 AM\\nActive\\n\\n\\n127108\\nImmersive Labs\\nActive\\nAzure AD\\nSP\\nNo\\nyes\\nYes\\nUser, Team Manager, Admin\\nYes\\nNo\\n\\n\\\\t Immersivelabs_SSO_AARO\\\\nImmersivelabs_SSO_AFS\\\\nImmersivelabs_SSO_CIFR\\n\\\\t Immersivelabs_SSO_AARO\\\\nImmersivelabs_SSO_AFS\\\\nImmersivelabs_SSO_CIFR\\njasmin.c.caballero\\\\ndeepmala.singh\\nYes\\nPeopleKey\\nNot available\\nunspecified\\nNo\\nNo\\nNo\\nNot available\\nNot available\\nNot available\\nNot available\\nNot available\\nkevin.yaconiello@immersivelabs.com\\ndeepmala.singh\\nAWS Ireland region (EU-West-1). \\\\nBackups: AWS London (EU-West-2)\\n12/23/2023, 10:29:18 PM\\n2/12/2024, 9:58:06 PM\\nInactive\\n\\n\\n112434\\nThoughtMachine\\nDecommissioned\\nAzure AD\\nSP\\nNot available\\nNo\\nNo\\nUser\\nNo, Vendor doesn't have two separate environments. To test in stage they are switching their production SSO to stage and when stage testing is done they will switch it back to Production again.\\nNo\\nNot available\\nNot available\\nNot available\\nNot available\\nNo, User needs to be added on the vendor system prior to access.\\nGarbage Value\\\\n\\\\t- Vendor is not making use of any claim in the SAML Response. Basically SSO Auto Provisioning is not supported.\\\\n\\\\t- User details need to be shared before and they will create records manually prior to their login.\\\\n\\\\t- They don't care about the Garbage value that being passed as Not availablemeID\\nNot available\\nNot available\\nNot available\\nNo\\nNot available\\nNot available\\nNot available\\nNot available\\nYes\\nAzure Decommission details\\\\nStage: RITM17227728\\\\nProduction: RITM17227845\\nanthony@thoughtmachine.net\\nasheeth.govindia@accenture.com\\nNot available\\nNot available\\nNot available\\nDecommissioned\\n\\n\\n102068\\nIntel\\nActive\\nAzure AD\\nSP\\nNo\\nNo\\nNo\\nUser,Admin\\nYes\\nNo\\n\\n\\n\\nNot available\\nYes\\nPeopleKey\\nNot available\\nunspecified\\nNo\\nNo\\nNo\\nNot available\\nYes\\nA09963\\\\nINTEL Learning Pathways on Telco, Network and 5G\\\\nhttps://mylearning.accenture.com/mylearningui/learner/coursedetail/1762536\\\\n\\nNot available\\nNot available\\npeeyush@onsumaye.com, contact@networkbuilders.intel.com\\ntimothy.j.schneider@accenture.com\\nAWS USA\\n8/24/2023, 11:14:49 AM\\n9/11/2023, 4:59:57 PM\\nInactive\\n\\n\\n27728\\nSANS\\nDecommissioned\\nAzure AD\\nSP\\nNot available\\nNo\\nYes\\nUser\\nNo, Vendor doesn't have two separate environments. To test in stage they are switching their production SSO to stage and when stage testing is done they will switch it back to Production again.\\nNo\\nNot available\\nNot available\\nNot available\\nNot available\\nYes\\nemailaddress\\nVendor cannot support PeopleKey. Hence emailaddress is primary key.\\\\n\\nemailaddress\\nNo\\nYes, Contractors.Regular.All is added to the Production configuration\\nNot available\\nNot available\\nNot available\\nNot available\\nYes\\nStage: RITM15218250 \\\\nProduction: RITM15218292\\nNot available\\nNot available\\nNot available\\nNot available\\nNot available\\nDecommissioned\\n\\n\\n159312\\nWorkera\\nActive\\nAzure AD\\nIDP\\nNo\\nNo\\nYes\\nUser, Admin\\nYes\\nNo\\nNot available\\nNot available\\nNot available\\nNot available\\nNo\\nPeopleKey\\nNot available\\nemailaddress\\nNo\\nNo\\nNo\\nNo\\nYes\\nhttps://mylearning.accenture.com/mylearningui/learner/coursedetail/1824595\\nNot available\\nNot available\\nshane@workera.ai\\nsyeda.kauser@accenture.com\\nAWS Hosting: East Region 2 and West Region 2\\n5/7/2024, 4:48:12 PM\\n5/26/2024, 12:43:28 AM\\nActive\\n\\n\\n147804\\nBetterUp\\nActive\\nAzure AD\\nSP\\nYes\\nNo\\nNo\\nPartner, Member, Assessment Contributor ,Manager\\nYes\\nNo\\nNot available\\nNot available\\nNot available\\nNot available\\nNo, User needs to be added on the vendor system prior to access.\\nUPN\\nVendor cannot support PeopleKey. Hence UPN is primary key.\\\\n\\nemailaddress\\nNo\\nYes, Contractors.Regular.All.7 and \\\\nContractors.Restricted.All is added to both Stage & Production configurations\\nNo\\nYes, We have tested Mobile only in Production.\\nNot available\\nNot available\\nNot available\\nNot available\\nian.ritchey@betterup.co\\neric.d.feuerlicht@accenture.com\\nGreater Virginia, USA (Heroku private space)\\n3/19/2024, 6:37:11 PM\\n6/19/2024, 1:41:48 AM\\nActive\\n\\n\\n161850\\nLeadX\\nDecommissioned\\nAzure AD\\nSP\\nYes\\nNo\\nYes\\nUser\\nNo, Vendor doesn't have two separate environments. To test in stage they are switching their production SSO to stage and when stage testing is done they switch it back to Production again.\\nNo\\nNot available\\nNot available\\nNot available\\nNot available\\nYes\\nPeopleKey\\nNot available\\nunspecified\\nNo\\nNo\\nNot available\\nYes\\nNot available\\nNot available\\nNot available\\nStage: RITM18645719\\\\nProduction: RITM18645823\\nmatthew@southriverstudios.com\\nCalina.Mircea(On 1 year leave)\\\\nsharon.van.zyl@accenture.com\\nDigital Ocean NYC, USA\\nNot available\\nNot available\\nDecommissioned\\n\\n\\n162710\\nCoursera\\nActive\\nAzure AD\\nSP\\nNo\\nNo\\nYes\\nUser, Admin\\nNo, Vendor doesn't have two separate environments. To test in stage they are switching their production SSO to stage and when stage testing is done they switch it back to Production again.\\nNo\\nNot available\\nNot available\\nNot available\\nNot available\\nYes\\nPeopleKey\\nNot available\\nemailaddress\\nNo\\nNo\\nNo\\nNo\\nNot available\\nNot available\\nNot available\\nNot available\\njtreasure@coursera.org\\nsyeda.kauser@accenture.com\\nVirginia (US-East-1) on  AWS\\n5/27/2024, 7:22:26 AM\\n6/21/2024, 11:37:53 PM\\nActive\\n\\n\\n171159\\nTracom Learning\\nActive\\nAzure AD\\nSP\\nNo\\nNo\\nYes\\nUser\\nYes\\nNo\\nNot available\\nNot available\\nNot available\\nNot available\\nNo, User first need to register on Tracom AE portal\\nPeopleKey\\nNot available\\nunspecified\\nNo\\nNo\\nNo\\nNo\\nNot available\\nNot available\\nNot available\\nNot available\\nddavis@tracom.com\\nfrancine.tatari@accenture.com\\nAWS Ohio USA\\n7/4/2024, 4:15:13 PM\\n10/1/2024, 8:30:52 PM\\nActive\\n\\n\\n171159\\nTracom Max\\nActive\\nAzure AD\\nSP\\nNo\\nNo\\nYes\\nAdmin\\nYes\\nNo\\nNot available\\nNot available\\nNot available\\nNot available\\nNo\\nPeopleKey\\nNot available\\nunspecified\\nNo\\nNo\\nNo\\nNo\\nNot available\\nNot available\\nNot available\\nNot available\\nddavis@tracom.com\\nfrancine.tatari@accenture.com\\nAWS Ohio USA\\n7/5/2024, 1:09:06 PM\\n10/1/2024, 8:17:06 PM\\nActive\\n\\n\\n171159\\nTracom AE\\nActive\\nAzure AD\\nSP\\nNo\\nNo\\nYes\\nUser\\nYes\\nNo\\nNot available\\nNot available\\nNot available\\nNot available\\nYes\\nPeopleKey\\nNot available\\nunspecified\\nNo\\nNo\\nNo\\nNo\\nNot available\\nmyL - 360 Multi Rater Assessment -\\xa0https://mylearning.accenture.com/mylearningui/learner/coursedetail/1822850\\nNot available\\nNot available\\nddavis@tracom.com\\nfrancine.tatari@accenture.com\\nAWS Ohio USA\\n7/5/2024, 11:56:35 AM\\n10/1/2024, 8:08:12 PM\\nActive\\n\\n\\n163354\\nGoogle\\nActive\\nAzure AD\\nIDP\\nNo\\nNo\\nNo\\nUser\\nYes\\nNo\\nNot available\\nNot available\\nNot available\\nNot available\\nNo, User needs to be added on the vendor system prior to access.\\nPeopleKey\\nNot available\\nunspecified\\nNo\\nNo\\nNo\\nNo\\nNot available\\nNot available\\nNot available\\nNot available\\ntbooth@google.com\\\\nMartin Jones <jonesey@google.com>\\nurvashi.j.srivastava@accenture.com\\nEmail sent\\n6/9/2024, 10:20:12 PM\\n9/20/2024, 1:42:43 PM\\nActive\\n\\n\\n161172\\nAWS SSO\\nActive\\nAzure AD\\nSP\\nNo\\nYes\\nNo\\nUser\\nYes\\nNo\\nNot available\\nNot available\\nNot available\\nNot available\\nYes\\nUPN\\nVendor cannot support PeopleKey. Hence UPN is primary key.\\\\n\\nemailaddress\\nNo\\nNo\\nNo\\nNo\\nNot available\\nNot available\\nNot available\\nNot available\\ncchitale@amazon.com\\nBusiness owner - saumi.mitra@accenture.com\\\\nBusiness sponsor - jeffrey.s.s.hammond@accenture.com\\nGandalf service in IAD (US)\\n5/27/2024, 11:16:02 AM-   For deletion stage 5/17/2024, 8:21:40 AM\\n11/17/2024, 3:48:48 PM\\nActive\\n\\n\\n8119\\nLUMA workplace\\nActive\\nAzure AD\\nSP\\nYes\\nyes\\nYes\\nUser\\nYes\\nyes\\nGroup Name is being passed as roles claim.\\nLuma_SSO_SG\\nLuma_SSO_SG\\ncorina.dobos\\\\nritu.eapen\\\\noana.florica\\\\nmamatha.p.s\\nYes\\nPeopleKey\\nNot available\\nunspecified\\nNo\\nNo\\nNo\\nNo\\nNot available\\nNot available\\nNot available\\nNot available\\nmichaelS@luma-institute.com\\nfernanda.s.amadei@accenture.com\\nAWS.  us-east-1\\n3/14/2026, 6:32:37 PM\\n3/20/2026, 6:32:37 PM\\nActive\\n\\n\\n172344\\nPalo Alto\\nActive\\nAzure AD\\nIDP\\nNo\\nNo\\nNo\\nUser\\nYes\\nNo\\nNot available\\nNot available\\nNot available\\nNot available\\nYes\\nPeopleKey\\nNot available\\nunspecified\\nNo\\nNo\\nNo\\nNo\\nYes\\nCourse Code: A87560\\\\nCourse Not availableme: Palo Alto Networks (Ecosystem Partner) - Self Paced Zero cost e-trainings\\\\nCourse link: https://mylearning.accenture.com/mylearningui/learner/coursedetail/1793295\\nNot available\\nNot available\\ndtademaru@paloaltonetworks.com\\nvandaNot available.shah@accenture.com\\nUSA\\n9/3/2024, 11:33:23 AM\\n8/10/2024, 1:12:18 PM\\nInactive\\n\\n\\n180927\\nLinkedIn Learning\\nActive\\nAzure AD\\nIDP\\nNo\\nyes\\nNo\\nUser,Admin\\nNo\\nNo\\nGroup Name is  being passed under Roles claim in SAML.\\n\\\\nLinkedInLearning_SSO\\n\\\\nLinkedInLearning_SSO\\nsusan.a.ally\\\\nmelisa.a.mrazik\\\\ndisha.shah\\nYes\\nPeopleKey\\nNot available\\nunspecified\\nNo\\nYes, IDs present in AD group\\nNo\\nYes\\nNot available\\nNot available\\nNot available\\nNot available\\ncbource@linkedin.com, moleary@linkedin.com\\ndisha.shah@accenture.com\\nLinkedin Owned in Oregon, Texas, and Virginia\\n9/16/2024, 4:13:51 PM\\n10/12/2024, 11:58:16 PM\\nActive\\n\\n\\n183266\\nSANS SSO\\nActive\\nAzure AD\\nIDP\\nNo\\nNo\\nNo\\nUser,Admin\\nNo\\nNo\\nNot available\\nNot available\\nNot available\\nNot available\\nNo\\nPeopleKey\\nNot available\\nunspecified\\nNo\\nNo\\nNo\\nNo\\nNot available\\nNot available\\nNot available\\nNot available\\nspietrantonio@sans.org\\nrachel.fetters@accenture.com\\nReporting:  Amazon Web Services, US East Datacenter Virginia ( Primary )  with Ohio Failover ( Secondary ) . \\\\nLearning MaNot availablegement System:  SAP Litmos, Chicago Illinois with Ashburn VA Failover\\n10/5/2024, 8:45:07 AM\\n11/16/2024, 7:18:21 PM\\nInactive\\n\\n\\n190675\\nTricentis SSO\\nActive\\nAzure AD\\nSP\\nNo\\nNo\\nNot available\\nUser,Admin\\nYes\\nNo\\nNot available\\nNot available\\nNot available\\nNot available\\nYes\\nUPN\\nVendor cannot support PeopleKey. Hence UPN is primary key.\\\\n\\nemailAddress\\nNo\\nYes, Contractors.Regular.All.8 and Contractors.Restricted.All.2\\nNo\\nNo\\nNot available\\nNot available\\nNot available\\nNot available\\nj.grantham@tricentis.com\\nvenessa.arlick@accenture.com\\nUS\\n12/24/2024, 4:23:13 AM\\n3/31/2025, 1:54:50 PM\\nInactive\\n\\n\\n\\\\t203295\\nUI Path SSO\\nDecommissioned\\nAzure AD\\nSP\\nNo\\nNo\\nyes\\nNeed to check\\nYes\\nNo\\nNot available\\nNot available\\nNot available\\nNot available\\nYes\\nPeopleKey\\nNot available\\nunspecified\\nNo\\nNo\\nNo\\nNo\\nNot available\\nNot available\\nNot available\\nStage: RITM21572311 \\\\nProduction: RITM21572384\\nsatish.sampath@uipath.com\\ndeepa.caroline.durai@accenture.com\\nUS\\n4/21/2025, 11:08:54 AM\\n5/30/2025, 12:51:37 PM\\nDecommissioned\\n\\n\\n207808\\nForgeRock SSO\\nActive\\nAzure AD\\nSP\\nNo\\nNo\\nNot available\\nNeed to check\\nYes\\nNo\\nNot available\\nNot available\\nNot available\\nNot available\\nYes\\nPeopleKey\\nNot available\\nunspecified\\nNo\\nNo\\nNo\\nNo\\nNot available\\nNot available\\nNot available\\nNot available\\nzoltan.tarcsay@forgerock.com\\nhamed.hajibeik@accenture.com\\nUS\\n6/7/2025, 11:31:50 AM\\nNot available\\nInactive\\n\\n\\n221348\\nSocialTalent SSO\\nActive\\nAzure AD\\nSP\\nYes\\nYes\\nNo\\nNeed to check\\nYes\\nNo\\nNot available\\nSocialTalent_SSO\\nSocialTalent_SSO\\njulia.reich.grewal\\\\nmaria.sue.t.i.linao\\\\nk.tompkins\\nYes\\nUPN\\nVendor cannot support PeopleKey. Hence UPN is primary key.\\\\n\\nemailAddress\\nNo\\nNo\\nNo\\nYes(in prod)\\nNot available\\nNot available\\nNot available\\nNot available\\nprashant.sharma@socialtalent.com\\nmaria.sue.t.i.liNot availableo@accenture.com\\nDublin, Ireland (AWS)\\nNot available\\nNot available\\nActive\\n\\n\\n239188\\nMentorcliQ SSO\\nActive\\nAzure AD\\nSP\\nNo\\nNo\\nNot available\\nNeed to check\\nYes\\nNo\\nNot available\\nNot available\\nNot available\\nNot available\\nYes\\nPeopleKey\\nNot available\\nunspecified\\nNo\\nNo\\nNo\\nYes(in prod)\\nNot available\\nNot available\\nNot available\\nNot available\\nholly.wade@mentorcliq.com\\ntracie.m.kustra@accenture.com\\nColumbus, OH\\nNot available\\nNot available\\nActive\\n\\n\\n240856\\nTidwit SSO\\nActive\\nAzure AD\\nSP\\nNo\\nNo\\nNot available\\nNeed to check\\nYes\\nNo\\nNot available\\nNot available\\nNot available\\nNot available\\nYes\\nPeopleKey\\nNot available\\nunspecified\\nNo\\nNo\\nNo\\nNo\\nNot available\\nNot available\\nNot available\\nNot available\\ntony@tidwit.com\\\\nwill@tidwit.com\\\\nChristophe@tidwit.com\\nshipra.alok.sahoo@accenture.com\\\\n\\nUS (East Coast)\\nNot available\\nNot available\\nActive\\n\\n\\n246489\\nAccenture Skilling Academy\\nActive\\nAzure AD\\nSP\\nNo\\nYes\\nYes\\nUser, Admin\\nYes\\nNo\\nAssigned role is being passed under Division claim in SAML.\\nAccentureAcademy_SSO_Stage_Admin\\\\nAccentureAcademy_SSO_Stage_User\\nAccentureAcademy_SSO_Production_Admin\\\\nAccentureAcademy_SSO_Production_User\\nesther.m.martinez\\\\nc.rojas-flores\\nYes\\nUPN\\nVendor cannot support PeopleKey. Hence UPN is primary key.\\\\n\\nemailAddress\\nNo\\nNo\\nNo\\nNo\\nNot available\\nNot available\\nNot available\\nNot available\\nc.rojas-flores@accenture.com\\\\nesther.m.martinez@accenture.com\\nchristopher.jepson@accenture.com\\nAWS France\\nNot available\\nNot available\\nInactive\\n\\n\\n250241\\nTIP SSO\\nActive\\nAzure AD\\nSP\\nNo\\nYes\\nYes\\nUser\\nYes\\nNo\\nNot available\\nTIP_SSO_Production\\nTIP_SSO_Stage\\nNot available\\nNo\\nUPN\\nVendor cannot support PeopleKey. Hence UPN is primary key.\\\\n\\nemailAddress\\nNo\\nNo\\nNo\\nNo\\nNot available\\nNot available\\nNot available\\nNot available\\ngarrett.kramer@360learning.com\\\\nerica.suhonos@360learning.com\\\\nherman.lee@360learning.com\\nmarek.hyla@accenture.com\\\\nwojciech.karwecki@accenture.com\\nParis, France, New York City\\nNot available\\nNot available\\nActive\\n\\n\\n\", metadata={'source': '/content/Sample2.xlsx'})]\n"
          ]
        }
      ]
    },
    {
      "cell_type": "code",
      "source": [
        " run_model('What is the NameID for Pluralsight vendor')"
      ],
      "metadata": {
        "id": "WkEOpnBTNZ8Z"
      },
      "execution_count": null,
      "outputs": []
    },
    {
      "cell_type": "code",
      "source": [
        "# including memory to store past conversation\n",
        "from langchain.memory import ConversationBufferMemory\n",
        "memory = ConversationBufferMemory(\n",
        "    memory_key=\"chat_history\",\n",
        "    return_messages=True\n",
        ")\n",
        "from langchain.chains import ConversationalRetrievalChain\n",
        "\n",
        "def run_memory_chain(question):\n",
        "  qa = ConversationalRetrievalChain.from_llm(\n",
        "    llm,\n",
        "    retriever=db.as_retriever(search_type='similarity',search_kwargs={'k': 3, 'fetch_k':4 }),\n",
        "    chain_type=\"stuff\",\n",
        "    memory=memory,\n",
        "    verbose=True)\n",
        "\n",
        "  result =qa({\"question\":question})\n",
        "  return result\n",
        "\n"
      ],
      "metadata": {
        "id": "hBajIS2UoavZ"
      },
      "execution_count": null,
      "outputs": []
    },
    {
      "cell_type": "code",
      "source": [
        "run_memory_chain('What is the NameID for Pluralsight vendor?')"
      ],
      "metadata": {
        "id": "rqDcX-vXNTf1"
      },
      "execution_count": null,
      "outputs": []
    },
    {
      "cell_type": "markdown",
      "source": [
        "###using csvloader"
      ],
      "metadata": {
        "id": "wu94Nze6TQhx"
      }
    },
    {
      "cell_type": "code",
      "source": [
        "!pip install python-dotenv\n",
        "!pip install openai\n",
        "!pip install --upgrade langchain\n",
        "!pip install tiktoken\n",
        "!pip install chromadb\n",
        "import warnings\n",
        "warnings.filterwarnings('ignore')\n",
        "import langchain\n",
        "import os, openai\n",
        "from dotenv import load_dotenv, find_dotenv\n",
        "_=load_dotenv(find_dotenv())\n",
        "openai.api_key=os.environ['API_KEY']"
      ],
      "metadata": {
        "id": "hTF09WTsTWuJ"
      },
      "execution_count": null,
      "outputs": []
    },
    {
      "cell_type": "markdown",
      "source": [
        "###Load but no split"
      ],
      "metadata": {
        "id": "eNUhjhk2hDT9"
      }
    },
    {
      "cell_type": "code",
      "source": [
        "# import pandas as pd\n",
        "# pd1=pd.read_excel('Sample2.xlsx')\n",
        "# pd1.to_csv('Sample3.csv', index=False)\n",
        "\n",
        "from langchain.document_loaders import CSVLoader\n",
        "\n",
        "loader=CSVLoader('Sample3.csv')\n",
        "\n",
        "docs=loader.load()"
      ],
      "metadata": {
        "id": "lc1zTVKyTc3f"
      },
      "execution_count": 38,
      "outputs": []
    },
    {
      "cell_type": "code",
      "source": [
        "len(docs)"
      ],
      "metadata": {
        "id": "j-bPjYcziOcl",
        "outputId": "91feeedb-c88f-4395-b0e6-4c5e70b7f7bf",
        "colab": {
          "base_uri": "https://localhost:8080/"
        }
      },
      "execution_count": 40,
      "outputs": [
        {
          "output_type": "execute_result",
          "data": {
            "text/plain": [
              "52"
            ]
          },
          "metadata": {},
          "execution_count": 40
        }
      ]
    },
    {
      "cell_type": "markdown",
      "source": [
        "###putting in chromadb and quering"
      ],
      "metadata": {
        "id": "s0LhwMV_hQJp"
      }
    },
    {
      "cell_type": "code",
      "source": [
        "# docs\n",
        "from langchain.embeddings.openai import OpenAIEmbeddings\n",
        "embedding = OpenAIEmbeddings(openai_api_key=openai.api_key)\n",
        "\n",
        "#doc itself is already splitted as pr number of rows and have context attached according to the excel headers.\n",
        "\n",
        "from langchain.vectorstores import Chroma\n",
        "persist_directory = '/content/chroma/'\n",
        "\n",
        "db=Chroma.from_documents(documents=docs, embedding=embedding, persist_directory=persist_directory)\n",
        "\n",
        "# to remove old database files\n",
        "# !rm -rf /content/chroma/\n",
        "\n",
        "#fetching relevant data directly from vector db using similarilty search\n",
        "# Query='What is the NameID for Pluralsight vendor'\n",
        "# result=db.similarity_search(Query, k=2)\n",
        "# result1=db.max_marginal_relevance_search(Query,fetch_k=4,k=3)\n",
        "\n",
        "# result1\n"
      ],
      "metadata": {
        "id": "ynCd5_nDWBP2"
      },
      "execution_count": null,
      "outputs": []
    },
    {
      "cell_type": "markdown",
      "source": [
        "### query using LLM"
      ],
      "metadata": {
        "id": "tlEkTW-KjqEl"
      }
    },
    {
      "cell_type": "code",
      "source": [
        "from langchain.chat_models import ChatOpenAI\n",
        "llm=ChatOpenAI(model_name='gpt-3.5-turbo',temperature=0,openai_api_key= openai.api_key)\n",
        "\n",
        "# Build prompt\n",
        "from langchain.prompts import PromptTemplate\n",
        "template = \"\"\"Use the following pieces of context to answer the question at the end. If you don't know the answer, just say that you don't know, don't try to make up an answer. Use three sentences maximum. Keep the answer as concise as possible.\n",
        "{context}\n",
        "Question: {question}\n",
        "Helpful Answer:\"\"\"\n",
        "QA_CHAIN_PROMPT = PromptTemplate(input_variables=[\"context\", \"question\"],template=template)\n",
        "\n",
        "# Run chain\n",
        "from langchain.chains import RetrievalQA\n",
        "\n",
        "def run_model(question):\n",
        "  qa_chain = RetrievalQA.from_chain_type(llm,\n",
        "                                       retriever=db.as_retriever(search_type='mmr',search_kwargs={'k': 3, 'fetch_k':4 }),\n",
        "                                       return_source_documents=True,\n",
        "                                       chain_type_kwargs={\"prompt\": QA_CHAIN_PROMPT}, verbose =True)\n",
        "  result=qa_chain({\"query\":question})\n",
        "  return result"
      ],
      "metadata": {
        "id": "Lvdcx-j3WBSi"
      },
      "execution_count": 44,
      "outputs": []
    },
    {
      "cell_type": "code",
      "source": [
        "run_model('what is nameid for pluralsight?')"
      ],
      "metadata": {
        "id": "mZ-4PZU2WBvJ",
        "outputId": "1e06a4a5-0d7b-438d-816f-f0de27790308",
        "colab": {
          "base_uri": "https://localhost:8080/"
        }
      },
      "execution_count": 45,
      "outputs": [
        {
          "output_type": "stream",
          "name": "stdout",
          "text": [
            "\n",
            "\n",
            "\u001b[1m> Entering new RetrievalQA chain...\u001b[0m\n",
            "\n",
            "\u001b[1m> Finished chain.\u001b[0m\n"
          ]
        },
        {
          "output_type": "execute_result",
          "data": {
            "text/plain": [
              "{'query': 'what is nameid for pluralsight?',\n",
              " 'result': 'The name ID for Pluralsight is PeopleKey.',\n",
              " 'source_documents': [Document(page_content='AIR ID: 10040\\nVendor Name: Pluralsight\\nApplication Status: Active\\nIntegration Specific: Migrated to Azure AD\\nIntegration Approach\\nSP/IDP: SP\\nIntermediate screen present to enter UPN?: No\\nAD Group Restriction: Yes, multiple AD groups inside the SG to put users in specific learning paths.\\nSupported by LVA Team\\n(Yes/No): Yes\\nRoles: User, Team Manager, Admin\\nSupports Separate Stage & Production Environments: Yes\\nSuperGroup\\nYes/No: Yes\\nGroup name vs Object ID: Object IDs are being passed under groups claim in SAML.\\nStage AD Group/Stage SuperGroup Name: Pluralsight_SSO_SG\\nProduction AD Group/Production SuperGroup Name: Pluralsight_SSO_SG\\nProduction AD Group Owner/s: corina.dobos\\noana.florica\\ndijosh.thannikkattil\\nAuto Provisioning: Yes\\nName ID: PeopleKey\\nIf Name ID is not People Key. What is it & why?: Not available\\nName ID format: unspecified\\nSupport for Prejoiners: No\\nSupport for Contractors: No\\nSupport for V&A: No\\nMobile SSO: Not available\\nmyL Asset - Yes/No: Yes\\nIf Q= Yes, then Course Information: https://mylearning.accenture.com/mylearningui/learner/coursedetail/1671589\\nADFS Relying Parties/Azure SSO Decommossioned: Yes\\nDecommission RITMs: Stage: RITM12217565 \\nProduction: RITM12217657\\nVendor Contact: Security related - support@pluralsight.com\\nandrew-tueller@pluralsight.com\\nBusiness Owner Contact: anna.au-yeung@accenture.com\\nVendor Server Hosting Location Country: US(west coast)\\nStage Cert Exp: 10/2/2023, 11:32:41 AM\\nProd cert Exp: 3/10/2024, 7:52:26 AM\\nStage Active / Inactive: Active', metadata={'row': 0, 'source': 'Sample3.csv'}),\n",
              "  Document(page_content='AIR ID: 9930\\nVendor Name: Skillsoft\\nApplication Status: Active\\nIntegration Specific: Migrated to Azure AD\\nIntegration Approach\\nSP/IDP: SP\\nIntermediate screen present to enter UPN?: No\\nAD Group Restriction: No\\nSupported by LVA Team\\n(Yes/No): Yes\\nRoles: User, Admin\\nSupports Separate Stage & Production Environments: Yes\\nSuperGroup\\nYes/No: No\\nGroup name vs Object ID: Not available\\nStage AD Group/Stage SuperGroup Name: Not available\\nProduction AD Group/Production SuperGroup Name: Not available\\nProduction AD Group Owner/s: Not available\\nAuto Provisioning: Yes\\nName ID: PeopleKey\\nIf Name ID is not People Key. What is it & why?: Not available\\nName ID format: unspecified\\nSupport for Prejoiners: No\\nSupport for Contractors: Yes, Contractors.Regular.All.7 and \\nContractors.Restricted.All is added to the Production configuration\\nSupport for V&A: No\\nMobile SSO: Not available\\nmyL Asset - Yes/No: Not available\\nIf Q= Yes, then Course Information: Not available\\nADFS Relying Parties/Azure SSO Decommossioned: Not available\\nDecommission RITMs: Not available\\nVendor Contact: victoria.shelves@skillsoft.com,  support@skillsoft.com\\nBusiness Owner Contact: amy.howard\\nVendor Server Hosting Location Country: US\\nStage Cert Exp: 3/20/2024, 2:39:06 AM\\nProd cert Exp: 3/20/2024, 3:15:59 AM\\nStage Active / Inactive: Active', metadata={'row': 5, 'source': 'Sample3.csv'}),\n",
              "  Document(page_content='AIR ID: 240856\\nVendor Name: Tidwit SSO\\nApplication Status: Active\\nIntegration Specific: Azure AD\\nIntegration Approach\\nSP/IDP: SP\\nIntermediate screen present to enter UPN?: No\\nAD Group Restriction: No\\nSupported by LVA Team\\n(Yes/No): Not available\\nRoles: Need to check\\nSupports Separate Stage & Production Environments: Yes\\nSuperGroup\\nYes/No: No\\nGroup name vs Object ID: Not available\\nStage AD Group/Stage SuperGroup Name: Not available\\nProduction AD Group/Production SuperGroup Name: Not available\\nProduction AD Group Owner/s: Not available\\nAuto Provisioning: Yes\\nName ID: PeopleKey\\nIf Name ID is not People Key. What is it & why?: Not available\\nName ID format: unspecified\\nSupport for Prejoiners: No\\nSupport for Contractors: No\\nSupport for V&A: No\\nMobile SSO: No\\nmyL Asset - Yes/No: Not available\\nIf Q= Yes, then Course Information: Not available\\nADFS Relying Parties/Azure SSO Decommossioned: Not available\\nDecommission RITMs: Not available\\nVendor Contact: tony@tidwit.com\\nwill@tidwit.com\\nChristophe@tidwit.com\\nBusiness Owner Contact: shipra.alok.sahoo@accenture.com\\nVendor Server Hosting Location Country: US (East Coast)\\nStage Cert Exp: Not available\\nProd cert Exp: Not available\\nStage Active / Inactive: Active', metadata={'row': 49, 'source': 'Sample3.csv'})]}"
            ]
          },
          "metadata": {},
          "execution_count": 45
        }
      ]
    },
    {
      "cell_type": "markdown",
      "source": [
        "###query with memory buffer"
      ],
      "metadata": {
        "id": "tMWX0srCjy3u"
      }
    },
    {
      "cell_type": "code",
      "source": [
        "# including memory to store past conversation\n",
        "from langchain.memory import ConversationBufferMemory\n",
        "memory = ConversationBufferMemory(\n",
        "    memory_key=\"chat_history\",\n",
        "    return_messages=True\n",
        ")\n",
        "from langchain.chains import ConversationalRetrievalChain\n",
        "\n",
        "def run_memory_chain(question):\n",
        "  qa = ConversationalRetrievalChain.from_llm(\n",
        "    llm,\n",
        "    retriever=db.as_retriever(search_type='similarity',search_kwargs={'k': 3, 'fetch_k':4 }),\n",
        "    chain_type=\"stuff\",\n",
        "    memory=memory,\n",
        "    verbose=True)\n",
        "\n",
        "  result =qa({\"question\":question})\n",
        "  return result\n",
        "\n"
      ],
      "metadata": {
        "id": "Jby_eaqPV-2a"
      },
      "execution_count": 46,
      "outputs": []
    },
    {
      "cell_type": "code",
      "source": [
        "run_memory_chain('what is nameid for pluralsight?')"
      ],
      "metadata": {
        "id": "mJou2F5Tj2p6",
        "outputId": "f7d17220-087a-4ed3-d88a-aa544874ebd2",
        "colab": {
          "base_uri": "https://localhost:8080/"
        }
      },
      "execution_count": 47,
      "outputs": [
        {
          "output_type": "stream",
          "name": "stdout",
          "text": [
            "\n",
            "\n",
            "\u001b[1m> Entering new StuffDocumentsChain chain...\u001b[0m\n",
            "\n",
            "\n",
            "\u001b[1m> Entering new LLMChain chain...\u001b[0m\n",
            "Prompt after formatting:\n",
            "\u001b[32;1m\u001b[1;3mSystem: Use the following pieces of context to answer the users question. \n",
            "If you don't know the answer, just say that you don't know, don't try to make up an answer.\n",
            "----------------\n",
            "AIR ID: 10040\n",
            "Vendor Name: Pluralsight\n",
            "Application Status: Active\n",
            "Integration Specific: Migrated to Azure AD\n",
            "Integration Approach\n",
            "SP/IDP: SP\n",
            "Intermediate screen present to enter UPN?: No\n",
            "AD Group Restriction: Yes, multiple AD groups inside the SG to put users in specific learning paths.\n",
            "Supported by LVA Team\n",
            "(Yes/No): Yes\n",
            "Roles: User, Team Manager, Admin\n",
            "Supports Separate Stage & Production Environments: Yes\n",
            "SuperGroup\n",
            "Yes/No: Yes\n",
            "Group name vs Object ID: Object IDs are being passed under groups claim in SAML.\n",
            "Stage AD Group/Stage SuperGroup Name: Pluralsight_SSO_SG\n",
            "Production AD Group/Production SuperGroup Name: Pluralsight_SSO_SG\n",
            "Production AD Group Owner/s: corina.dobos\n",
            "oana.florica\n",
            "dijosh.thannikkattil\n",
            "Auto Provisioning: Yes\n",
            "Name ID: PeopleKey\n",
            "If Name ID is not People Key. What is it & why?: Not available\n",
            "Name ID format: unspecified\n",
            "Support for Prejoiners: No\n",
            "Support for Contractors: No\n",
            "Support for V&A: No\n",
            "Mobile SSO: Not available\n",
            "myL Asset - Yes/No: Yes\n",
            "If Q= Yes, then Course Information: https://mylearning.accenture.com/mylearningui/learner/coursedetail/1671589\n",
            "ADFS Relying Parties/Azure SSO Decommossioned: Yes\n",
            "Decommission RITMs: Stage: RITM12217565 \n",
            "Production: RITM12217657\n",
            "Vendor Contact: Security related - support@pluralsight.com\n",
            "andrew-tueller@pluralsight.com\n",
            "Business Owner Contact: anna.au-yeung@accenture.com\n",
            "Vendor Server Hosting Location Country: US(west coast)\n",
            "Stage Cert Exp: 10/2/2023, 11:32:41 AM\n",
            "Prod cert Exp: 3/10/2024, 7:52:26 AM\n",
            "Stage Active / Inactive: Active\n",
            "\n",
            "AIR ID: 9930\n",
            "Vendor Name: Skillsoft\n",
            "Application Status: Active\n",
            "Integration Specific: Migrated to Azure AD\n",
            "Integration Approach\n",
            "SP/IDP: SP\n",
            "Intermediate screen present to enter UPN?: No\n",
            "AD Group Restriction: No\n",
            "Supported by LVA Team\n",
            "(Yes/No): Yes\n",
            "Roles: User, Admin\n",
            "Supports Separate Stage & Production Environments: Yes\n",
            "SuperGroup\n",
            "Yes/No: No\n",
            "Group name vs Object ID: Not available\n",
            "Stage AD Group/Stage SuperGroup Name: Not available\n",
            "Production AD Group/Production SuperGroup Name: Not available\n",
            "Production AD Group Owner/s: Not available\n",
            "Auto Provisioning: Yes\n",
            "Name ID: PeopleKey\n",
            "If Name ID is not People Key. What is it & why?: Not available\n",
            "Name ID format: unspecified\n",
            "Support for Prejoiners: No\n",
            "Support for Contractors: Yes, Contractors.Regular.All.7 and \n",
            "Contractors.Restricted.All is added to the Production configuration\n",
            "Support for V&A: No\n",
            "Mobile SSO: Not available\n",
            "myL Asset - Yes/No: Not available\n",
            "If Q= Yes, then Course Information: Not available\n",
            "ADFS Relying Parties/Azure SSO Decommossioned: Not available\n",
            "Decommission RITMs: Not available\n",
            "Vendor Contact: victoria.shelves@skillsoft.com,  support@skillsoft.com\n",
            "Business Owner Contact: amy.howard\n",
            "Vendor Server Hosting Location Country: US\n",
            "Stage Cert Exp: 3/20/2024, 2:39:06 AM\n",
            "Prod cert Exp: 3/20/2024, 3:15:59 AM\n",
            "Stage Active / Inactive: Active\n",
            "\n",
            "AIR ID: 134912\n",
            "Vendor Name: FIT Learning Systems\n",
            "Application Status: Active\n",
            "Integration Specific: Azure AD\n",
            "Integration Approach\n",
            "SP/IDP: SP\n",
            "Intermediate screen present to enter UPN?: No\n",
            "AD Group Restriction: No\n",
            "Supported by LVA Team\n",
            "(Yes/No): No\n",
            "Roles: User,Technician,Admin\n",
            "Supports Separate Stage & Production Environments: Yes\n",
            "SuperGroup\n",
            "Yes/No: No\n",
            "Group name vs Object ID: Not available\n",
            "Stage AD Group/Stage SuperGroup Name: Not available\n",
            "Production AD Group/Production SuperGroup Name: Not available\n",
            "Production AD Group Owner/s: Not available\n",
            "Auto Provisioning: Yes\n",
            "Name ID: PeopleKey\n",
            "If Name ID is not People Key. What is it & why?: Not available\n",
            "Name ID format: unspecified\n",
            "Support for Prejoiners: No\n",
            "Support for Contractors: No\n",
            "Support for V&A: No\n",
            "Mobile SSO: Not available\n",
            "myL Asset - Yes/No: Not available\n",
            "If Q= Yes, then Course Information: Not available\n",
            "ADFS Relying Parties/Azure SSO Decommossioned: Not available\n",
            "Decommission RITMs: Azure Decommission details\n",
            "Stage: RITM19872962\n",
            "Production: RITM19872966\n",
            "Vendor Contact: ivan.estrella@fitls.com\n",
            "Business Owner Contact: arkaitz.gamino@accenture.com, oscar.ruiz@accenture.com\n",
            "Vendor Server Hosting Location Country: Netherlands (azure west europe)\n",
            "Stage Cert Exp: 2/9/2024, 10:50:45 PM\n",
            "Prod cert Exp: 4/8/2024, 1:08:13 AM\n",
            "Stage Active / Inactive: Active\n",
            "Human: what is nameid for pluralsight?\u001b[0m\n",
            "\n",
            "\u001b[1m> Finished chain.\u001b[0m\n",
            "\n",
            "\u001b[1m> Finished chain.\u001b[0m\n"
          ]
        },
        {
          "output_type": "execute_result",
          "data": {
            "text/plain": [
              "{'question': 'what is nameid for pluralsight?',\n",
              " 'chat_history': [HumanMessage(content='what is nameid for pluralsight?', additional_kwargs={}, example=False),\n",
              "  AIMessage(content='The Name ID for Pluralsight is \"PeopleKey\".', additional_kwargs={}, example=False)],\n",
              " 'answer': 'The Name ID for Pluralsight is \"PeopleKey\".'}"
            ]
          },
          "metadata": {},
          "execution_count": 47
        }
      ]
    },
    {
      "cell_type": "code",
      "source": [
        "# memory.clear()\n",
        "# memory"
      ],
      "metadata": {
        "id": "-Z5jynnUkDBl",
        "outputId": "105faa2b-8805-4c48-ed24-f352162f6bc2",
        "colab": {
          "base_uri": "https://localhost:8080/"
        }
      },
      "execution_count": 49,
      "outputs": [
        {
          "output_type": "execute_result",
          "data": {
            "text/plain": [
              "ConversationBufferMemory(chat_memory=ChatMessageHistory(messages=[]), output_key=None, input_key=None, return_messages=True, human_prefix='Human', ai_prefix='AI', memory_key='chat_history')"
            ]
          },
          "metadata": {},
          "execution_count": 49
        }
      ]
    },
    {
      "cell_type": "code",
      "source": [],
      "metadata": {
        "id": "PEJBqXVakNKk"
      },
      "execution_count": null,
      "outputs": []
    }
  ]
}