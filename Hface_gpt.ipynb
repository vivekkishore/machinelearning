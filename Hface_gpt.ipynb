{
  "cells": [
    {
      "cell_type": "markdown",
      "metadata": {
        "id": "xKNG_WodzxtH"
      },
      "source": [
        "### **Text Generation with GPT:**"
      ]
    },
    {
      "cell_type": "markdown",
      "metadata": {
        "id": "8mp8uWatz-xR"
      },
      "source": [
        "## it_nlanlpdj_03_enus_08"
      ]
    },
    {
      "cell_type": "code",
      "execution_count": 19,
      "metadata": {
        "colab": {
          "base_uri": "https://localhost:8080/"
        },
        "id": "T5v-MkrVRDmS",
        "outputId": "988ff2fe-5457-49ae-89d1-8e53e08b8c68"
      },
      "outputs": [
        {
          "output_type": "stream",
          "name": "stdout",
          "text": [
            "Requirement already satisfied: transformers in /usr/local/lib/python3.7/dist-packages (4.19.2)\n",
            "Requirement already satisfied: huggingface-hub<1.0,>=0.1.0 in /usr/local/lib/python3.7/dist-packages (from transformers) (0.6.0)\n",
            "Requirement already satisfied: tokenizers!=0.11.3,<0.13,>=0.11.1 in /usr/local/lib/python3.7/dist-packages (from transformers) (0.12.1)\n",
            "Requirement already satisfied: importlib-metadata in /usr/local/lib/python3.7/dist-packages (from transformers) (4.11.3)\n",
            "Requirement already satisfied: tqdm>=4.27 in /usr/local/lib/python3.7/dist-packages (from transformers) (4.64.0)\n",
            "Requirement already satisfied: numpy>=1.17 in /usr/local/lib/python3.7/dist-packages (from transformers) (1.21.6)\n",
            "Requirement already satisfied: filelock in /usr/local/lib/python3.7/dist-packages (from transformers) (3.7.0)\n",
            "Requirement already satisfied: packaging>=20.0 in /usr/local/lib/python3.7/dist-packages (from transformers) (21.3)\n",
            "Requirement already satisfied: regex!=2019.12.17 in /usr/local/lib/python3.7/dist-packages (from transformers) (2019.12.20)\n",
            "Requirement already satisfied: requests in /usr/local/lib/python3.7/dist-packages (from transformers) (2.23.0)\n",
            "Requirement already satisfied: pyyaml>=5.1 in /usr/local/lib/python3.7/dist-packages (from transformers) (6.0)\n",
            "Requirement already satisfied: typing-extensions>=3.7.4.3 in /usr/local/lib/python3.7/dist-packages (from huggingface-hub<1.0,>=0.1.0->transformers) (4.2.0)\n",
            "Requirement already satisfied: pyparsing!=3.0.5,>=2.0.2 in /usr/local/lib/python3.7/dist-packages (from packaging>=20.0->transformers) (3.0.9)\n",
            "Requirement already satisfied: zipp>=0.5 in /usr/local/lib/python3.7/dist-packages (from importlib-metadata->transformers) (3.8.0)\n",
            "Requirement already satisfied: idna<3,>=2.5 in /usr/local/lib/python3.7/dist-packages (from requests->transformers) (2.10)\n",
            "Requirement already satisfied: urllib3!=1.25.0,!=1.25.1,<1.26,>=1.21.1 in /usr/local/lib/python3.7/dist-packages (from requests->transformers) (1.24.3)\n",
            "Requirement already satisfied: certifi>=2017.4.17 in /usr/local/lib/python3.7/dist-packages (from requests->transformers) (2021.10.8)\n",
            "Requirement already satisfied: chardet<4,>=3.0.2 in /usr/local/lib/python3.7/dist-packages (from requests->transformers) (3.0.4)\n"
          ]
        }
      ],
      "source": [
        "!pip install transformers"
      ]
    },
    {
      "cell_type": "code",
      "execution_count": 20,
      "metadata": {
        "id": "dPJCPpHSRYJW"
      },
      "outputs": [],
      "source": [
        "import tensorflow as tf\n",
        "from transformers import GPT2LMHeadModel, GPT2Tokenizer"
      ]
    },
    {
      "cell_type": "code",
      "execution_count": 21,
      "metadata": {
        "id": "JxUZriw8ResZ"
      },
      "outputs": [],
      "source": [
        "tokenizer = GPT2Tokenizer.from_pretrained(\"gpt2-large\")"
      ]
    },
    {
      "cell_type": "code",
      "execution_count": 22,
      "metadata": {
        "id": "i04EwBM5Rgyx"
      },
      "outputs": [],
      "source": [
        "model = GPT2LMHeadModel.from_pretrained(\"gpt2-large\", pad_token_id=tokenizer.eos_token_id)"
      ]
    },
    {
      "cell_type": "code",
      "execution_count": 23,
      "metadata": {
        "id": "56azI0WCR5zJ"
      },
      "outputs": [],
      "source": [
        "sentence = 'The internet is a'"
      ]
    },
    {
      "cell_type": "code",
      "execution_count": 24,
      "metadata": {
        "colab": {
          "base_uri": "https://localhost:8080/"
        },
        "id": "F26BnJQ5R8np",
        "outputId": "a826d8bb-f914-4fc6-a8e7-42c731dec98a"
      },
      "outputs": [
        {
          "output_type": "execute_result",
          "data": {
            "text/plain": [
              "tensor([[ 464, 5230,  318,  257]])"
            ]
          },
          "metadata": {},
          "execution_count": 24
        }
      ],
      "source": [
        "input_ids = tokenizer.encode(sentence, return_tensors='pt')\n",
        "input_ids"
      ]
    },
    {
      "cell_type": "code",
      "execution_count": 25,
      "metadata": {
        "colab": {
          "base_uri": "https://localhost:8080/"
        },
        "id": "55Or2CocSDqx",
        "outputId": "c2c982f9-a7ce-4991-e8b0-fef66340ef35"
      },
      "outputs": [
        {
          "output_type": "execute_result",
          "data": {
            "text/plain": [
              "tensor([[  464,  5230,   318,   257,  7932,  1517,    11,   475,   340,   460,\n",
              "           635,   307,   257,  7818,  1517,    13,   632,   460,   307,   973,\n",
              "           355,   257,  2891,   284,  7671,    11, 27410,    11,   290, 34903,\n",
              "           661,    11,  2592,  1466,    13,   198,   198,    40,  1101,   407,\n",
              "          1016,   284,   467,   656,   477,   262,  2842,   326,   262,  5230]])"
            ]
          },
          "metadata": {},
          "execution_count": 25
        }
      ],
      "source": [
        "# generate text until the output length (which includes the context length) reaches 50\n",
        "output = model.generate(input_ids, max_length=50, num_beams=5, no_repeat_ngram_size=2, early_stopping=True)\n",
        "output"
      ]
    },
    {
      "cell_type": "code",
      "execution_count": 26,
      "metadata": {
        "colab": {
          "base_uri": "https://localhost:8080/"
        },
        "id": "XL1uSceHSJab",
        "outputId": "ba55e4f3-2307-45d6-8aeb-4fa1078ef95d"
      },
      "outputs": [
        {
          "output_type": "stream",
          "name": "stdout",
          "text": [
            "The internet is a wonderful thing, but it can also be a terrible thing. It can be used as a tool to harass, bully, and intimidate people, especially women.\n",
            "\n",
            "I'm not going to go into all the ways that the internet\n"
          ]
        }
      ],
      "source": [
        "print(tokenizer.decode(output[0], skip_special_tokens=True))"
      ]
    },
    {
      "cell_type": "markdown",
      "metadata": {
        "id": "OA7Axded0WJY"
      },
      "source": [
        "## it_nlanlpdj_03_enus_09"
      ]
    },
    {
      "cell_type": "markdown",
      "metadata": {
        "id": "JkRuTiexmDlR"
      },
      "source": [
        "### **Greedy Search:**"
      ]
    },
    {
      "cell_type": "code",
      "execution_count": 27,
      "metadata": {
        "colab": {
          "base_uri": "https://localhost:8080/"
        },
        "id": "AVm7gKqOlENz",
        "outputId": "3796509e-dfa5-4e57-9cd4-572752fa3b6a"
      },
      "outputs": [
        {
          "output_type": "stream",
          "name": "stdout",
          "text": [
            "Output:\n",
            "----------------------------------------------------------------------------------------------------\n",
            "Python is a very powerful computer language, but it is not a programming language in the traditional sense of the word. It is more like a set of tools that you can use to write programs.\n",
            "\n",
            "In Python, a program is just a collection\n"
          ]
        }
      ],
      "source": [
        "# encode context the generation is conditioned on\n",
        "input_ids = tokenizer.encode('Python is a very powerful computer language', return_tensors='pt')\n",
        "\n",
        "# generate text until the output length (which includes the context length) reaches 50\n",
        "greedy_output = model.generate(input_ids, max_length=50, num_beams=5, no_repeat_ngram_size=2, early_stopping=True)\n",
        "\n",
        "print(\"Output:\\n\" + 100 * '-')\n",
        "print(tokenizer.decode(greedy_output[0], skip_special_tokens=True))"
      ]
    },
    {
      "cell_type": "markdown",
      "metadata": {
        "id": "VnwGBEbwm1pj"
      },
      "source": [
        "### **Beam search:**"
      ]
    },
    {
      "cell_type": "code",
      "execution_count": 28,
      "metadata": {
        "colab": {
          "base_uri": "https://localhost:8080/"
        },
        "id": "m1T8XiWVm41r",
        "outputId": "3aff5d05-109f-4df0-a399-a0bc1716c615"
      },
      "outputs": [
        {
          "output_type": "stream",
          "name": "stdout",
          "text": [
            "Output:\n",
            "----------------------------------------------------------------------------------------------------\n",
            "Python is a very powerful computer language, but it is not a programming language in the traditional sense of the word. Instead, it is an object-oriented programming language.\n",
            "\n",
            "Object-oriented programming is a programming paradigm that emphasizes the separation of concerns\n"
          ]
        }
      ],
      "source": [
        "# activate beam search and early_stopping\n",
        "beam_output = model.generate(\n",
        "    input_ids,  \n",
        "    max_length=50, \n",
        "    num_beams=5, \n",
        "    early_stopping=True\n",
        ")\n",
        "\n",
        "print(\"Output:\\n\" + 100 * '-')\n",
        "print(tokenizer.decode(beam_output[0], skip_special_tokens=True))"
      ]
    },
    {
      "cell_type": "code",
      "execution_count": 29,
      "metadata": {
        "colab": {
          "base_uri": "https://localhost:8080/"
        },
        "id": "PLiiYAfcnJHP",
        "outputId": "7ed466d4-6e5f-476b-a69c-039728f76ca2"
      },
      "outputs": [
        {
          "output_type": "stream",
          "name": "stdout",
          "text": [
            "Output:\n",
            "----------------------------------------------------------------------------------------------------\n",
            "Python is a very powerful computer language, but it is not a programming language in the traditional sense of the word. It is more like a set of tools that you can use to write programs.\n",
            "\n",
            "In Python, a program is just a collection\n"
          ]
        }
      ],
      "source": [
        "# set no_repeat_ngram_size to 2\n",
        "beam_output = model.generate(\n",
        "    input_ids, \n",
        "    max_length=50, \n",
        "    num_beams=5, \n",
        "    no_repeat_ngram_size=2, \n",
        "    early_stopping=True\n",
        ")\n",
        "\n",
        "print(\"Output:\\n\" + 100 * '-')\n",
        "print(tokenizer.decode(beam_output[0], skip_special_tokens=True))"
      ]
    },
    {
      "cell_type": "code",
      "execution_count": 30,
      "metadata": {
        "colab": {
          "base_uri": "https://localhost:8080/"
        },
        "id": "_l-QkPtInUnv",
        "outputId": "1cf844ba-24d4-4135-b6ba-39ad646cd4a3"
      },
      "outputs": [
        {
          "output_type": "stream",
          "name": "stdout",
          "text": [
            "Output:\n",
            "----------------------------------------------------------------------------------------------------\n",
            "0: Python is a very powerful computer language, but it is not a programming language in the traditional sense of the word. It is more like a set of tools that you can use to write programs.\n",
            "\n",
            "In Python, a program is just a collection\n",
            "1: Python is a very powerful computer language, but it is not a programming language in the traditional sense of the word. It is more like a set of tools that you can use to write programs.\n",
            "\n",
            "In Python, a program is just a sequence\n",
            "2: Python is a very powerful computer language, but it is not a programming language in the traditional sense of the word. It is more like a set of tools that you can use to write programs.\n",
            "\n",
            "In Python, you write a program, and\n",
            "3: Python is a very powerful computer language, but it is not a programming language in the traditional sense of the word. It is more like a set of tools that you can use to write programs.\n",
            "\n",
            "In Python, a program is just a series\n",
            "4: Python is a very powerful computer language, but it is not a programming language in the traditional sense of the word. It is more like a set of tools that you can use to write programs.\n",
            "\n",
            "In Python, you define a function, and\n"
          ]
        }
      ],
      "source": [
        "# set return_num_sequences > 1\n",
        "beam_outputs = model.generate(\n",
        "    input_ids, \n",
        "    max_length=50, \n",
        "    num_beams=5, \n",
        "    no_repeat_ngram_size=2, \n",
        "    num_return_sequences=5, \n",
        "    early_stopping=True\n",
        ")\n",
        "\n",
        "# now we have 3 output sequences\n",
        "print(\"Output:\\n\" + 100 * '-')\n",
        "for i, beam_output in enumerate(beam_outputs):\n",
        "  print(\"{}: {}\".format(i, tokenizer.decode(beam_output, skip_special_tokens=True)))"
      ]
    },
    {
      "cell_type": "markdown",
      "metadata": {
        "id": "CLDCuZe6njKO"
      },
      "source": [
        "### **Sampling:**"
      ]
    },
    {
      "cell_type": "code",
      "execution_count": 31,
      "metadata": {
        "colab": {
          "base_uri": "https://localhost:8080/"
        },
        "id": "XoUOxoo6nlkf",
        "outputId": "52023d3d-2fa0-4711-b949-a2884042dbca"
      },
      "outputs": [
        {
          "output_type": "stream",
          "name": "stdout",
          "text": [
            "Output:\n",
            "----------------------------------------------------------------------------------------------------\n",
            "Python is a very powerful computer language. But, if the language is too punishing as a producer of errors, you risk losing the benefit of a lot of useful and powerful software tools. This is true whether you call it monkey-patching, which\n"
          ]
        }
      ],
      "source": [
        "# set seed to reproduce results. Feel free to change the seed though to get different results\n",
        "tf.random.set_seed(0)\n",
        "\n",
        "# activate sampling and deactivate top_k by setting top_k sampling to 0\n",
        "sample_output = model.generate(\n",
        "    input_ids, \n",
        "    do_sample=True, \n",
        "    max_length=50, \n",
        "    top_k=0\n",
        ")\n",
        "\n",
        "print(\"Output:\\n\" + 100 * '-')\n",
        "print(tokenizer.decode(sample_output[0], skip_special_tokens=True))"
      ]
    },
    {
      "cell_type": "code",
      "execution_count": 32,
      "metadata": {
        "colab": {
          "base_uri": "https://localhost:8080/"
        },
        "id": "hOn_qomdnzYN",
        "outputId": "0f2d0ac1-858f-4850-d8e4-56d7453aae21"
      },
      "outputs": [
        {
          "output_type": "stream",
          "name": "stdout",
          "text": [
            "Output:\n",
            "----------------------------------------------------------------------------------------------------\n",
            "Python is a very powerful computer language. If you want a memory-intensive programming language, you can get by with a scripting language.\n",
            "\n",
            "Python is very powerful in its ability to translate your code into machine code, but it does have a few\n"
          ]
        }
      ],
      "source": [
        "# set seed to reproduce results. Feel free to change the seed though to get different results\n",
        "tf.random.set_seed(0)\n",
        "\n",
        "# use temperature to decrease the sensitivity to low probability candidates\n",
        "sample_output = model.generate(\n",
        "    input_ids, \n",
        "    do_sample=True, \n",
        "    max_length=50, \n",
        "    top_k=0, \n",
        "    temperature=0.7\n",
        ")\n",
        "\n",
        "print(\"Output:\\n\" + 100 * '-')\n",
        "print(tokenizer.decode(sample_output[0], skip_special_tokens=True))"
      ]
    },
    {
      "cell_type": "markdown",
      "metadata": {
        "id": "dHFW7Ky70mm0"
      },
      "source": [
        "## it_nlanlpdj_03_enus_10"
      ]
    },
    {
      "cell_type": "markdown",
      "metadata": {
        "id": "V8zEGWjpn3Ro"
      },
      "source": [
        "### **Top K Sampling:**"
      ]
    },
    {
      "cell_type": "code",
      "execution_count": 33,
      "metadata": {
        "colab": {
          "base_uri": "https://localhost:8080/"
        },
        "id": "c5oQYWzHn53W",
        "outputId": "5d967688-e656-445a-a815-10045f37730e"
      },
      "outputs": [
        {
          "output_type": "stream",
          "name": "stdout",
          "text": [
            "Output:\n",
            "----------------------------------------------------------------------------------------------------\n",
            "Python is a very powerful computer language. It has many built-in functions, and many of those functions are built the same way in all languages, including Perl 2. Perl 2 has a good number of built-in functions to simplify Perl's API\n"
          ]
        }
      ],
      "source": [
        "# set seed to reproduce results. Feel free to change the seed though to get different results\n",
        "tf.random.set_seed(0)\n",
        "\n",
        "# set top_k to 50\n",
        "sample_output = model.generate(\n",
        "    input_ids, \n",
        "    do_sample=True, \n",
        "    max_length=50, \n",
        "    top_k=50\n",
        ")\n",
        "\n",
        "print(\"Output:\\n\" + 100 * '-')\n",
        "print(tokenizer.decode(sample_output[0], skip_special_tokens=True))"
      ]
    },
    {
      "cell_type": "markdown",
      "metadata": {
        "id": "Z2Pyl3rZ0syP"
      },
      "source": [
        "### **Top P Sampling:**"
      ]
    },
    {
      "cell_type": "code",
      "execution_count": 34,
      "metadata": {
        "colab": {
          "base_uri": "https://localhost:8080/"
        },
        "id": "iK27Veg9oBBn",
        "outputId": "06445138-9fc0-492b-a5ab-1a419b570f90"
      },
      "outputs": [
        {
          "output_type": "stream",
          "name": "stdout",
          "text": [
            "Output:\n",
            "----------------------------------------------------------------------------------------------------\n",
            "Python is a very powerful computer language that runs on a variety of processor types and runs at speed exceeding 1,000,000 lines of code per second (though you'll never have that many lines of code running on your own computer). It is used\n"
          ]
        }
      ],
      "source": [
        "# set seed to reproduce results. Feel free to change the seed though to get different results\n",
        "tf.random.set_seed(0)\n",
        "\n",
        "# deactivate top_k sampling and sample only from 92% most likely words\n",
        "sample_output = model.generate(\n",
        "    input_ids, \n",
        "    do_sample=True, \n",
        "    max_length=50, \n",
        "    top_p=0.92, \n",
        "    top_k=0\n",
        ")\n",
        "\n",
        "print(\"Output:\\n\" + 100 * '-')\n",
        "print(tokenizer.decode(sample_output[0], skip_special_tokens=True))"
      ]
    },
    {
      "cell_type": "markdown",
      "metadata": {
        "id": "4r3xwRai05eQ"
      },
      "source": [
        "## it_nlanlpdj_03_enus_11"
      ]
    },
    {
      "cell_type": "code",
      "execution_count": 35,
      "metadata": {
        "colab": {
          "base_uri": "https://localhost:8080/"
        },
        "id": "1vr8uye-oEud",
        "outputId": "1af5bbfd-2aaa-4e40-c010-17aa28c4320e"
      },
      "outputs": [
        {
          "output_type": "stream",
          "name": "stdout",
          "text": [
            "Output:\n",
            "----------------------------------------------------------------------------------------------------\n",
            "0: Python is a very powerful computer language. It is used to construct algorithms and computer programs for various tasks such as image processing, language translation and machine learning.\n",
            "\n",
            "Python is popular with computer scientists and developers because of its ease of use, its support\n",
            "1: Python is a very powerful computer language that supports efficient programming by providing a set of convenient primitives to facilitate programming in the languages with the most expressive syntax. It also facilitates code organization, documentation, and maintenance, as well as the development of libraries for\n",
            "2: Python is a very powerful computer language with a very diverse set of libraries in different languages. It is a powerful development system that compiles to machine code (a \"program\" in other words). When compiled into machine code it can be compiled into many\n"
          ]
        }
      ],
      "source": [
        "# set seed to reproduce results. Feel free to change the seed though to get different results\n",
        "tf.random.set_seed(0)\n",
        "\n",
        "# set top_k = 50 and set top_p = 0.95 and num_return_sequences = 3\n",
        "sample_outputs = model.generate(\n",
        "    input_ids,\n",
        "    do_sample=True, \n",
        "    max_length=50, \n",
        "    top_k=50, \n",
        "    top_p=0.95, \n",
        "    num_return_sequences=3\n",
        ")\n",
        "\n",
        "print(\"Output:\\n\" + 100 * '-')\n",
        "for i, sample_output in enumerate(sample_outputs):\n",
        "  print(\"{}: {}\".format(i, tokenizer.decode(sample_output, skip_special_tokens=True)))"
      ]
    }
  ],
  "metadata": {
    "colab": {
      "name": "it_nlanlpdj_03_enus.ipynb",
      "provenance": []
    },
    "kernelspec": {
      "display_name": "Python 3",
      "name": "python3"
    },
    "language_info": {
      "name": "python"
    }
  },
  "nbformat": 4,
  "nbformat_minor": 0
}
