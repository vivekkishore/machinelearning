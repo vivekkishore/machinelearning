{
  "nbformat": 4,
  "nbformat_minor": 0,
  "metadata": {
    "colab": {
      "provenance": [],
      "gpuType": "T4"
    },
    "kernelspec": {
      "name": "python3",
      "display_name": "Python 3"
    },
    "language_info": {
      "name": "python"
    },
    "accelerator": "GPU"
  },
  "cells": [
    {
      "cell_type": "code",
      "execution_count": null,
      "metadata": {
        "colab": {
          "base_uri": "https://localhost:8080/",
          "height": 705
        },
        "id": "ZykARO9c-UST",
        "outputId": "3ae0b2f8-61ee-473d-8452-da636920c060"
      },
      "outputs": [
        {
          "output_type": "stream",
          "name": "stderr",
          "text": [
            "Some weights of the model checkpoint at dslim/bert-base-NER were not used when initializing BertForTokenClassification: ['bert.pooler.dense.weight', 'bert.pooler.dense.bias']\n",
            "- This IS expected if you are initializing BertForTokenClassification from the checkpoint of a model trained on another task or with another architecture (e.g. initializing a BertForSequenceClassification model from a BertForPreTraining model).\n",
            "- This IS NOT expected if you are initializing BertForTokenClassification from the checkpoint of a model that you expect to be exactly identical (initializing a BertForSequenceClassification model from a BertForSequenceClassification model).\n"
          ]
        },
        {
          "output_type": "stream",
          "name": "stdout",
          "text": [
            "Closing server running on port: 7860\n",
            "Colab notebook detected. To show errors in colab notebook, set debug=True in launch()\n",
            "Note: opening Chrome Inspector may crash demo inside Colab notebooks.\n",
            "\n",
            "To create a public link, set `share=True` in `launch()`.\n"
          ]
        },
        {
          "output_type": "display_data",
          "data": {
            "text/plain": [
              "<IPython.core.display.Javascript object>"
            ],
            "application/javascript": [
              "(async (port, path, width, height, cache, element) => {\n",
              "                        if (!google.colab.kernel.accessAllowed && !cache) {\n",
              "                            return;\n",
              "                        }\n",
              "                        element.appendChild(document.createTextNode(''));\n",
              "                        const url = await google.colab.kernel.proxyPort(port, {cache});\n",
              "\n",
              "                        const external_link = document.createElement('div');\n",
              "                        external_link.innerHTML = `\n",
              "                            <div style=\"font-family: monospace; margin-bottom: 0.5rem\">\n",
              "                                Running on <a href=${new URL(path, url).toString()} target=\"_blank\">\n",
              "                                    https://localhost:${port}${path}\n",
              "                                </a>\n",
              "                            </div>\n",
              "                        `;\n",
              "                        element.appendChild(external_link);\n",
              "\n",
              "                        const iframe = document.createElement('iframe');\n",
              "                        iframe.src = new URL(path, url).toString();\n",
              "                        iframe.height = height;\n",
              "                        iframe.allow = \"autoplay; camera; microphone; clipboard-read; clipboard-write;\"\n",
              "                        iframe.width = width;\n",
              "                        iframe.style.border = 0;\n",
              "                        element.appendChild(iframe);\n",
              "                    })(7860, \"/\", \"100%\", 500, false, window.element)"
            ]
          },
          "metadata": {}
        },
        {
          "output_type": "execute_result",
          "data": {
            "text/plain": []
          },
          "metadata": {},
          "execution_count": 16
        }
      ],
      "source": [
        "#Named entity recognition app\n",
        "# !pip install transformers\n",
        "# !pip install gradio\n",
        "from transformers import pipeline\n",
        "import gradio as gr\n",
        "\n",
        "get_completion = pipeline(\"ner\", model=\"dslim/bert-base-NER\")\n",
        "\n",
        "def ner(input):\n",
        "    output = get_completion(input)\n",
        "    return {\"text\": input, \"entities\": output}\n",
        "\n",
        "gr.close_all()\n",
        "demo = gr.Interface(fn=ner,\n",
        "                    inputs=[gr.Textbox(label=\"Text to find entities\", lines=2)],\n",
        "                    outputs=[gr.HighlightedText(label=\"Text with entities\")],\n",
        "                    title=\"NER with dslim/bert-base-NER\",\n",
        "                    description=\"Find entities using the `dslim/bert-base-NER` model under the hood!\",\n",
        "                    allow_flagging=\"never\",\n",
        "                    #Here we introduce a new tag, examples, easy to use examples for your application\n",
        "                    examples=[\"My name is Andrew and I live in California\", \"My name is Poli and work at HuggingFace\"])\n",
        "demo.launch()\n"
      ]
    },
    {
      "cell_type": "code",
      "source": [],
      "metadata": {
        "id": "fteUJKdi-eTL"
      },
      "execution_count": null,
      "outputs": []
    },
    {
      "cell_type": "code",
      "source": [
        "from torch.optim.adamw import AdamW\n",
        "!pip install transformers\n",
        "!pip install datasets\n",
        "from transformers import AutoTokenizer, AutoModelForSequenceClassification, AdamW\n",
        "import torch\n",
        "checkpoint=\"bert-base-uncased\"\n",
        "Tokenizer=AutoTokenizer.from_pretrained(checkpoint)\n",
        "Model= AutoModelForSequenceClassification.from_pretrained(checkpoint)\n",
        "\n",
        "sequences= [ \"I've been waiting for a HuggingFace course my whole life.\", \"This course is amazing!\"]\n",
        "\n",
        "batch=Tokenizer(sequences, padding=True, truncation=True, return_tensors=\"pt\")\n",
        "\n",
        "print(batch)\n",
        "batch[\"labels\"] = torch.tensor([1, 1])\n",
        "# print(batch)\n",
        "optimizer= AdamW(Model.parameters())\n",
        "loss=Model(**batch).loss  #forward flow\n",
        "loss.backward() # backward flow\n",
        "optimizer.step()\n",
        "\n",
        "\n",
        "\n",
        "\n",
        "\n"
      ],
      "metadata": {
        "id": "jL8hXE5Pdu3O"
      },
      "execution_count": null,
      "outputs": []
    },
    {
      "cell_type": "code",
      "source": [
        "!pip install datasets\n",
        "from datasets import load_dataset\n",
        "new_dataset=load_dataset(\"glue\",\"mrpc\")\n",
        "print(new_dataset)\n",
        "# new_dataset[\"train\"][5]\n",
        "train_dataset=new_dataset[\"train\"]\n",
        "train_dataset.features\n",
        "\n",
        "# print(type(new_dataset),type(train_dataset))\n"
      ],
      "metadata": {
        "id": "UoJ0eRx_1tIA"
      },
      "execution_count": null,
      "outputs": []
    },
    {
      "cell_type": "code",
      "source": [
        "# #dataset preprocessing\n",
        "\n",
        "# checkpoint=\"bert-base-uncased\"\n",
        "# Tokenized=Tokenizer(\"This app does not look good\",\"Hugging face is the app\", padding=True, truncation =True)\n",
        "# print(Tokenized)\n",
        "\n",
        "# Tokenizer.convert_ids_to_tokens(Tokenized['input_ids'])\n",
        "\n",
        "#15th of training set\n",
        "\n",
        "train_dataset[15]\n",
        "\n",
        "Tokenize_15_separate=Tokenizer(train_dataset[15]['sentence1'], padding=True, truncation=True)\n",
        "\n",
        "Tokenize_15_together=Tokenizer(train_dataset[15]['sentence1'],train_dataset[15]['sentence2'], padding=True, truncation=True)\n",
        "print(Tokenize_15_separate)\n",
        "print(Tokenize_15_together)\n",
        "\n"
      ],
      "metadata": {
        "id": "5kO_YSpO_OQo",
        "outputId": "7180adb3-b8bc-48f5-bfe4-1cc2ac9d8fe5",
        "colab": {
          "base_uri": "https://localhost:8080/"
        }
      },
      "execution_count": null,
      "outputs": [
        {
          "output_type": "stream",
          "name": "stdout",
          "text": [
            "{'input_ids': [101, 24049, 2001, 2087, 3728, 3026, 3580, 2343, 2005, 1996, 9722, 1004, 4132, 9340, 12439, 2964, 2449, 1012, 102], 'token_type_ids': [0, 0, 0, 0, 0, 0, 0, 0, 0, 0, 0, 0, 0, 0, 0, 0, 0, 0, 0], 'attention_mask': [1, 1, 1, 1, 1, 1, 1, 1, 1, 1, 1, 1, 1, 1, 1, 1, 1, 1, 1]}\n",
            "{'input_ids': [101, 24049, 2001, 2087, 3728, 3026, 3580, 2343, 2005, 1996, 9722, 1004, 4132, 9340, 12439, 2964, 2449, 1012, 102, 3026, 3580, 2343, 4388, 24049, 1010, 3839, 2132, 1997, 1996, 9722, 1998, 4132, 9340, 12439, 2964, 3131, 1010, 2097, 2599, 1996, 2047, 9178, 1012, 102], 'token_type_ids': [0, 0, 0, 0, 0, 0, 0, 0, 0, 0, 0, 0, 0, 0, 0, 0, 0, 0, 0, 1, 1, 1, 1, 1, 1, 1, 1, 1, 1, 1, 1, 1, 1, 1, 1, 1, 1, 1, 1, 1, 1, 1, 1, 1], 'attention_mask': [1, 1, 1, 1, 1, 1, 1, 1, 1, 1, 1, 1, 1, 1, 1, 1, 1, 1, 1, 1, 1, 1, 1, 1, 1, 1, 1, 1, 1, 1, 1, 1, 1, 1, 1, 1, 1, 1, 1, 1, 1, 1, 1, 1]}\n"
          ]
        }
      ]
    },
    {
      "cell_type": "markdown",
      "source": [
        "###Preprocessing and fine tuning"
      ],
      "metadata": {
        "id": "hms16M3U1ws4"
      }
    },
    {
      "cell_type": "code",
      "source": [
        "#preprocessing\n",
        "!pip install accelerate -U\n",
        "!pip install transformers[torch]\n",
        "!pip install datasets\n",
        "from transformers import AutoTokenizer, AutoModelForSequenceClassification, DataCollatorWithPadding\n",
        "from datasets import load_dataset\n",
        "\n",
        "data=load_dataset('glue','mrpc')\n",
        "checkpoint=\"bert-base-uncased\"\n",
        "Tokenizer=AutoTokenizer.from_pretrained(checkpoint )\n",
        "Model=AutoModelForSequenceClassification.from_pretrained(checkpoint, num_labels=2)\n",
        "\n",
        "def tokenize_function(example):\n",
        "  return(Tokenizer(example[\"sentence1\"], example[\"sentence2\"],  truncation =True))\n",
        "\n",
        "\n",
        "\n",
        "tokenized_dataset=data.map(tokenize_function, batched=True)\n",
        "datacollator=DataCollatorWithPadding(tokenizer=Tokenizer)\n",
        "\n",
        "# print(data['train'][5])\n",
        "# print(tokenized_dataset['train'][5])\n",
        "\n"
      ],
      "metadata": {
        "id": "AbO4XNMa7A8k"
      },
      "execution_count": null,
      "outputs": []
    },
    {
      "cell_type": "code",
      "source": [
        "#training\n",
        "# from transformers import TrainingArguments\n",
        "# import numpy as np\n",
        "# !pip install evaluate\n",
        "# import evaluate\n",
        "\n",
        "def compute_metrics(eval_preds):\n",
        "    metric = evaluate.load(\"glue\", \"mrpc\")\n",
        "    logits, labels = eval_preds\n",
        "    predictions = np.argmax(logits, axis=-1)\n",
        "    return metric.compute(predictions=predictions, references=labels)\n",
        "\n",
        "training_args = TrainingArguments(\n",
        "    \"test-trainer\",\n",
        "    per_device_train_batch_size=16,\n",
        "    per_device_eval_batch_size=16,\n",
        "    num_train_epochs=3,\n",
        "    learning_rate=2e-5,\n",
        "    weight_decay=0.01,\n",
        "    evaluation_strategy=\"epoch\"\n",
        "    )\n",
        "\n",
        "from transformers import Trainer\n",
        "trainer = Trainer(Model, training_args,train_dataset=tokenized_dataset[\"train\"],\n",
        "                  eval_dataset=tokenized_dataset[\"validation\"],\n",
        "                  data_collator=datacollator, tokenizer=Tokenizer,\n",
        "                  compute_metrics=compute_metrics\n",
        "                  )\n",
        "trainer.train()\n",
        "\n"
      ],
      "metadata": {
        "id": "bBvimcqgOmeV",
        "outputId": "578b17f9-2e13-471d-b69c-c6a615ef7c4d",
        "colab": {
          "base_uri": "https://localhost:8080/",
          "height": 204
        }
      },
      "execution_count": 35,
      "outputs": [
        {
          "output_type": "display_data",
          "data": {
            "text/plain": [
              "<IPython.core.display.HTML object>"
            ],
            "text/html": [
              "\n",
              "    <div>\n",
              "      \n",
              "      <progress value='690' max='690' style='width:300px; height:20px; vertical-align: middle;'></progress>\n",
              "      [690/690 03:02, Epoch 3/3]\n",
              "    </div>\n",
              "    <table border=\"1\" class=\"dataframe\">\n",
              "  <thead>\n",
              " <tr style=\"text-align: left;\">\n",
              "      <th>Epoch</th>\n",
              "      <th>Training Loss</th>\n",
              "      <th>Validation Loss</th>\n",
              "      <th>Accuracy</th>\n",
              "      <th>F1</th>\n",
              "    </tr>\n",
              "  </thead>\n",
              "  <tbody>\n",
              "    <tr>\n",
              "      <td>1</td>\n",
              "      <td>No log</td>\n",
              "      <td>1.149444</td>\n",
              "      <td>0.821078</td>\n",
              "      <td>0.876897</td>\n",
              "    </tr>\n",
              "    <tr>\n",
              "      <td>2</td>\n",
              "      <td>No log</td>\n",
              "      <td>0.875263</td>\n",
              "      <td>0.840686</td>\n",
              "      <td>0.888889</td>\n",
              "    </tr>\n",
              "    <tr>\n",
              "      <td>3</td>\n",
              "      <td>0.072200</td>\n",
              "      <td>0.972407</td>\n",
              "      <td>0.848039</td>\n",
              "      <td>0.892361</td>\n",
              "    </tr>\n",
              "  </tbody>\n",
              "</table><p>"
            ]
          },
          "metadata": {}
        },
        {
          "output_type": "execute_result",
          "data": {
            "text/plain": [
              "TrainOutput(global_step=690, training_loss=0.06005738299825917, metrics={'train_runtime': 182.3809, 'train_samples_per_second': 60.335, 'train_steps_per_second': 3.783, 'total_flos': 430433242128000.0, 'train_loss': 0.06005738299825917, 'epoch': 3.0})"
            ]
          },
          "metadata": {},
          "execution_count": 35
        }
      ]
    },
    {
      "cell_type": "code",
      "source": [
        "\n",
        "\n"
      ],
      "metadata": {
        "id": "j9pLslDfB_td"
      },
      "execution_count": null,
      "outputs": []
    },
    {
      "cell_type": "code",
      "source": [
        "# predictions = trainer.predict(tokenized_dataset[\"validation\"])\n"
      ],
      "metadata": {
        "id": "rMQUJ8JGNn_G"
      },
      "execution_count": null,
      "outputs": []
    },
    {
      "cell_type": "code",
      "source": [],
      "metadata": {
        "id": "DH2ya1C43n_r"
      },
      "execution_count": null,
      "outputs": []
    }
  ]
}