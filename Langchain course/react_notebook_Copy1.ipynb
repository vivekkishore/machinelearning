{
  "cells": [
    {
      "cell_type": "code",
      "execution_count": 6,
      "id": "e830fcaf-5b10-4fb5-8c5c-101d23c6025f",
      "metadata": {
        "id": "e830fcaf-5b10-4fb5-8c5c-101d23c6025f"
      },
      "outputs": [],
      "source": [
        "!pip install python-dotenv\n",
        "!pip install openai\n",
        "!pip install --upgrade langchain\n",
        "\n",
        "import warnings\n",
        "warnings.filterwarnings('ignore')\n",
        "import os, openai\n",
        "from dotenv import load_dotenv, find_dotenv\n",
        "_=load_dotenv(find_dotenv())\n",
        "openai.api_key=os.environ['OPENAI_API_KEY']\n",
        "\n",
        "# import azure_authentication_client\n",
        "from langchain.chat_models import ChatOpenAI\n",
        "import langchain\n",
        "from langchain.agents import load_tools\n",
        "from langchain.agents import initialize_agent\n",
        "from langchain.agents import AgentType\n",
        "from langchain.tools import StructuredTool,tool"
      ]
    },
    {
      "cell_type": "code",
      "source": [
        "!pip install duckduckgo-search"
      ],
      "metadata": {
        "id": "zQgXH6umfcNq"
      },
      "id": "zQgXH6umfcNq",
      "execution_count": null,
      "outputs": []
    },
    {
      "cell_type": "code",
      "execution_count": 13,
      "id": "de048521-9043-47cc-b22d-5424201899f5",
      "metadata": {
        "colab": {
          "base_uri": "https://localhost:8080/",
          "height": 52
        },
        "id": "de048521-9043-47cc-b22d-5424201899f5",
        "outputId": "1ec30731-7d5f-4bbd-980e-a0f868e95e6e"
      },
      "outputs": [
        {
          "output_type": "execute_result",
          "data": {
            "text/plain": [
              "'Hello! I am an AI language model developed by OpenAI, but I am not specifically GPT-3.5 Turbo. However, I am designed to provide helpful and respectful responses to your questions. How can I assist you today?'"
            ],
            "application/vnd.google.colaboratory.intrinsic+json": {
              "type": "string"
            }
          },
          "metadata": {},
          "execution_count": 13
        }
      ],
      "source": [
        "# This is our internal authentication method. You will need to insert your own API key to interact with GPT or instantiate a local model.\n",
        "# Please refer to LangChain docs on how to authenticate and instantiate a model.\n",
        "\n",
        "# azure_authentication_client.authenticate_openai()\n",
        "llm = ChatOpenAI(temperature=0)\n",
        "llm.predict('hi, are you gpt 3.5 turbo? Please be respectful while you answer.')"
      ]
    },
    {
      "cell_type": "code",
      "execution_count": 16,
      "id": "1e53cf9a-8672-4080-a265-77c73af358d4",
      "metadata": {
        "id": "1e53cf9a-8672-4080-a265-77c73af358d4"
      },
      "outputs": [],
      "source": [
        "tools = load_tools([\"ddg-search\", \"llm-math\"], llm=llm)"
      ]
    },
    {
      "cell_type": "markdown",
      "id": "338bb230-aff0-4d08-a292-e19746fa8f0e",
      "metadata": {
        "id": "338bb230-aff0-4d08-a292-e19746fa8f0e"
      },
      "source": [
        "# Implementing our own custom tool"
      ]
    },
    {
      "cell_type": "code",
      "execution_count": 17,
      "id": "e6ec79b8-bbd4-4096-922b-bf29128daec3",
      "metadata": {
        "colab": {
          "base_uri": "https://localhost:8080/"
        },
        "id": "e6ec79b8-bbd4-4096-922b-bf29128daec3",
        "outputId": "88d69320-3c66-4882-d451-1a6f00306f66"
      },
      "outputs": [
        {
          "output_type": "execute_result",
          "data": {
            "text/plain": [
              "StructuredTool(name='cvss_score_to_severity', description='cvss_score_to_severity(input: str) -> str - A tool that can transform a cvss numerical score to a severity category. \\n    The input should be a real number and the output will be a string\\n    For Example 0.2->Low 8.3->High', args_schema=<class 'pydantic.main.cvss_score_to_severitySchemaSchema'>, return_direct=True, verbose=False, callbacks=None, callback_manager=None, tags=None, metadata=None, handle_tool_error=False, func=<function cvss_score_to_severity at 0x7d06987127a0>, coroutine=None)"
            ]
          },
          "metadata": {},
          "execution_count": 17
        }
      ],
      "source": [
        "@tool(return_direct=True)\n",
        "def cvss_score_to_severity(input:str) -> str:\n",
        "    \"\"\"\n",
        "    A tool that can transform a cvss numerical score to a severity category.\n",
        "    The input should be a real number and the output will be a string\n",
        "    For Example 0.2->Low 8.3->High\n",
        "    \"\"\"\n",
        "    input = float(input)\n",
        "    if input<0.1:\n",
        "        return \"None\"\n",
        "    elif 0.1<=input<=3.9:\n",
        "        return \"Low\"\n",
        "    elif 3.9<input<=6.9:\n",
        "        return \"Medium\"\n",
        "    elif 6.9<input<=8.9:\n",
        "        return \"High\"\n",
        "    elif 8.9<input:\n",
        "        return \"Critical\"\n",
        "\n",
        "cvss_score_to_severity"
      ]
    },
    {
      "cell_type": "code",
      "execution_count": 18,
      "id": "7d77dba3-42fd-4bae-95cf-05c35a76ce40",
      "metadata": {
        "id": "7d77dba3-42fd-4bae-95cf-05c35a76ce40"
      },
      "outputs": [],
      "source": [
        "tools.append(cvss_score_to_severity)\n",
        "agent = initialize_agent(tools, llm, agent=AgentType.CHAT_ZERO_SHOT_REACT_DESCRIPTION, verbose=True)"
      ]
    },
    {
      "cell_type": "code",
      "execution_count": 20,
      "id": "40a391e2-c787-4083-b9e3-16a84c7cfd49",
      "metadata": {
        "id": "40a391e2-c787-4083-b9e3-16a84c7cfd49"
      },
      "outputs": [],
      "source": [
        "user_query = \"What is the CVSS score of CVE-2021-44228? What is the severity of this score?\""
      ]
    },
    {
      "cell_type": "code",
      "execution_count": 21,
      "id": "6ad12add-c05d-4d62-aca6-4ab27a2b40ac",
      "metadata": {
        "colab": {
          "base_uri": "https://localhost:8080/",
          "height": 506
        },
        "id": "6ad12add-c05d-4d62-aca6-4ab27a2b40ac",
        "outputId": "7168004a-8518-49c8-d94d-dc4c5005a3ef"
      },
      "outputs": [
        {
          "output_type": "stream",
          "name": "stdout",
          "text": [
            "\n",
            "\n",
            "\u001b[1m> Entering new AgentExecutor chain...\u001b[0m\n",
            "\u001b[32;1m\u001b[1;3mThought: I need to find the CVSS score and severity of CVE-2021-44228.\n",
            "Action:\n",
            "```\n",
            "{\n",
            "  \"action\": \"duckduckgo_search\",\n",
            "  \"action_input\": \"CVSS score of CVE-2021-44228\"\n",
            "}\n",
            "```\n",
            "\u001b[0m\n",
            "Observation: \u001b[36;1m\u001b[1;3mCVE-2021-44228 Detail. CVE-2021-44228. Detail. Modified. This vulnerability has been modified since it was last analyzed by the NVD. It is awaiting reanalysis which may result in further changes to the information provided. A critical remote code execution vulnerability in Apache Log4j (a logging tool used in many Java applications) was disclosed on December 9, 2021. This vulnerability is described in CVE-2021-44228. A critical remote code execution vulnerability in Apache Log4j (a logging tool used in many Java applications) was disclosed on December 9, 2021. Kelyan Yesil Penetration Tester Updated July 12, 2023 Unless you've been on a sabbatical for the past year, you probably know how a critical vulnerability known as Log4shell took over the world. The popular Java-based logging framework, Log4J, has been the subject of numerous Common Vulnerabilities and Exposures (CVEs) in recent years. On Thursday, December 9, a zero-day vulnerability CVE-2021-44228 (a.k.a. Log4Shell, LogJam, and Log4j) was made public. This vulnerability impacts Apache Log4j versions 2.0-beta9 to 2.14.1, and it has the highest possible CVSS score of 10.0. As of today, it is widely regarded as one of the most dangerous and widespread vulnerabilities to date. While initially CVE-2021-45046 carried a lower CVSS score of 3.7 due to the impact of the initially discovered condition that can be invoked, this was re-evaluated to a 9.0 indicating limited remote code execution was possible.\u001b[0m\n",
            "Thought:\u001b[32;1m\u001b[1;3mThe CVSS score of CVE-2021-44228 is 10.0.\n",
            "Action:\n",
            "```\n",
            "{\n",
            "  \"action\": \"cvss_score_to_severity\",\n",
            "  \"action_input\": \"10.0\"\n",
            "}\n",
            "```\n",
            "\u001b[0m\n",
            "Observation: \u001b[38;5;200m\u001b[1;3mCritical\u001b[0m\n",
            "\u001b[32;1m\u001b[1;3m\u001b[0m\n",
            "\n",
            "\u001b[1m> Finished chain.\u001b[0m\n"
          ]
        },
        {
          "output_type": "execute_result",
          "data": {
            "text/plain": [
              "'Critical'"
            ],
            "application/vnd.google.colaboratory.intrinsic+json": {
              "type": "string"
            }
          },
          "metadata": {},
          "execution_count": 21
        }
      ],
      "source": [
        "langchain.debug=False\n",
        "agent.run(user_query)"
      ]
    },
    {
      "cell_type": "code",
      "execution_count": null,
      "id": "7fdca735-30b5-4936-9b21-f546a794d318",
      "metadata": {
        "id": "7fdca735-30b5-4936-9b21-f546a794d318"
      },
      "outputs": [],
      "source": [
        "langchain.debug=True\n",
        "agent.run(user_query)"
      ]
    },
    {
      "cell_type": "code",
      "execution_count": null,
      "id": "450aa8d0-816c-4fa2-9c04-94394f614d28",
      "metadata": {
        "id": "450aa8d0-816c-4fa2-9c04-94394f614d28"
      },
      "outputs": [],
      "source": []
    }
  ],
  "metadata": {
    "kernelspec": {
      "display_name": "Python 3 (ipykernel)",
      "language": "python",
      "name": "python3"
    },
    "language_info": {
      "codemirror_mode": {
        "name": "ipython",
        "version": 3
      },
      "file_extension": ".py",
      "mimetype": "text/x-python",
      "name": "python",
      "nbconvert_exporter": "python",
      "pygments_lexer": "ipython3",
      "version": "3.10.0"
    },
    "colab": {
      "provenance": []
    }
  },
  "nbformat": 4,
  "nbformat_minor": 5
}