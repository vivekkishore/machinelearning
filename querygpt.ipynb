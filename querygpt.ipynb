{
  "nbformat": 4,
  "nbformat_minor": 0,
  "metadata": {
    "colab": {
      "provenance": [],
      "authorship_tag": "ABX9TyMfDtQL5861dxEv+w0ylOHY",
      "include_colab_link": true
    },
    "kernelspec": {
      "name": "python3",
      "display_name": "Python 3"
    },
    "language_info": {
      "name": "python"
    }
  },
  "cells": [
    {
      "cell_type": "markdown",
      "metadata": {
        "id": "view-in-github",
        "colab_type": "text"
      },
      "source": [
        "<a href=\"https://colab.research.google.com/github/vivekkishore/machinelearning/blob/main/querygpt.ipynb\" target=\"_parent\"><img src=\"https://colab.research.google.com/assets/colab-badge.svg\" alt=\"Open In Colab\"/></a>"
      ]
    },
    {
      "cell_type": "markdown",
      "source": [
        "###import library and key"
      ],
      "metadata": {
        "id": "kjXeli0qpgyA"
      }
    },
    {
      "cell_type": "code",
      "source": [
        "# !pip install python-dotenv\n",
        "# !pip install openai\n",
        "# !pip install --upgrade langchain\n",
        "# !pip install tiktoken\n",
        "# !pip install chromadb\n",
        "# import warnings\n",
        "# warnings.filterwarnings('ignore')\n",
        "# import os, openai\n",
        "# from dotenv import load_dotenv, find_dotenv\n",
        "# _=load_dotenv(find_dotenv())\n",
        "# openai.api_key=os.environ['API_KEY']\n"
      ],
      "metadata": {
        "id": "-xeZPJ3NnAMh"
      },
      "execution_count": null,
      "outputs": []
    },
    {
      "cell_type": "markdown",
      "source": [
        "###Load and split"
      ],
      "metadata": {
        "id": "V1eDmh94qbrF"
      }
    },
    {
      "cell_type": "code",
      "source": [
        "from langchain.document_loaders import TextLoader\n",
        "from langchain.text_splitter import CharacterTextSplitter,RecursiveCharacterTextSplitter\n",
        "\n",
        "# #Load\n",
        "loader=TextLoader('/content/sample2.txt')\n",
        "docs=loader.load()\n",
        "\n",
        "#Split\n",
        "text_splitter=RecursiveCharacterTextSplitter(chunk_size=500, chunk_overlap=10)\n",
        "texts=text_splitter.split_documents(docs)\n",
        "\n"
      ],
      "metadata": {
        "id": "5IUUNx23q0ou"
      },
      "execution_count": 29,
      "outputs": []
    },
    {
      "cell_type": "markdown",
      "source": [
        "###LLM embedding and storing in VectorDB"
      ],
      "metadata": {
        "id": "CEjmpDMrj-BU"
      }
    },
    {
      "cell_type": "code",
      "source": [
        "from langchain.embeddings.openai import OpenAIEmbeddings\n",
        "embedding = OpenAIEmbeddings(openai_api_key=openai.api_key)\n",
        "\n",
        "\n",
        "from langchain.vectorstores import Chroma\n",
        "persist_directory = '/content/chroma/'\n",
        "\n",
        "# to remove old database files\n",
        "# !rm -rf ./content/chroma/\n",
        "\n",
        "db=Chroma.from_documents(documents=texts, embedding=embedding, persist_directory=persist_directory)\n"
      ],
      "metadata": {
        "id": "V2nRl5dVkLzJ"
      },
      "execution_count": 56,
      "outputs": []
    },
    {
      "cell_type": "markdown",
      "source": [
        "###retrieval from VectorDB/ Through LLM"
      ],
      "metadata": {
        "id": "wiwzmt3pvDZp"
      }
    },
    {
      "cell_type": "code",
      "source": [
        "Query='who is rebecca? '\n",
        "result=db.similarity_search(Query, k=3)\n",
        "\n"
      ],
      "metadata": {
        "id": "k2lNuo7rkL-L"
      },
      "execution_count": 65,
      "outputs": []
    },
    {
      "cell_type": "code",
      "source": [
        "result"
      ],
      "metadata": {
        "colab": {
          "base_uri": "https://localhost:8080/"
        },
        "id": "HZunveUukMAq",
        "outputId": "c6c5fbf0-71b4-44e9-d6fb-b5c8366d9bd7"
      },
      "execution_count": 66,
      "outputs": [
        {
          "output_type": "execute_result",
          "data": {
            "text/plain": [
              "[Document(page_content='Now, John spent his weekends doing yard work at the Tudor house Rebecca left him after their divorce. Rebecca, with her almond eyes—both in shape and in color—could never be his enemy.\\n\\nThat barista keeps looking at me. She’ll probably ask me to leave if I don’t buy something. She’s kind of attractive. Not her hair—her hair seems stringy—but her face is nice. I should really buy something.', metadata={'source': '/content/sample2.txt'}),\n",
              " Document(page_content='Their divorce was remarkably amicable. In fact, John would often tell his parents, “Rebecca and I are better friends now than when we were married!” In fact, John looked forward to the days when he and Rebecca, with their new partners, would reminisce about their marriage, seeing it in a positive light, like two mature adults.', metadata={'source': '/content/sample2.txt'}),\n",
              " Document(page_content='cancer. What did John have with Rebecca? How was that not “real”? Maybe if Rebecca’s parents had let John breathe instead of forcing their hypocritical Christian “values” down his throat every chance they got, their relationship would have been more “real.” Good luck, Steve Bowman. I hope you like having a mother-in-law with no boundaries.', metadata={'source': '/content/sample2.txt'})]"
            ]
          },
          "metadata": {},
          "execution_count": 66
        }
      ]
    },
    {
      "cell_type": "code",
      "source": [],
      "metadata": {
        "id": "VcvRXP9MkMD1"
      },
      "execution_count": null,
      "outputs": []
    },
    {
      "cell_type": "code",
      "source": [],
      "metadata": {
        "id": "JIcQelP1fQhv"
      },
      "execution_count": 51,
      "outputs": []
    },
    {
      "cell_type": "code",
      "source": [],
      "metadata": {
        "id": "lK5LMFEpfSE2"
      },
      "execution_count": 29,
      "outputs": []
    },
    {
      "cell_type": "code",
      "source": [],
      "metadata": {
        "id": "MZ3OKj_qfiyl"
      },
      "execution_count": null,
      "outputs": []
    }
  ]
}