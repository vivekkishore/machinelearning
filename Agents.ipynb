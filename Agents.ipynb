{
  "nbformat": 4,
  "nbformat_minor": 0,
  "metadata": {
    "colab": {
      "provenance": [],
      "authorship_tag": "ABX9TyPEzN0g0UVktAANZA5UxZRN",
      "include_colab_link": true
    },
    "kernelspec": {
      "name": "python3",
      "display_name": "Python 3"
    },
    "language_info": {
      "name": "python"
    }
  },
  "cells": [
    {
      "cell_type": "markdown",
      "metadata": {
        "id": "view-in-github",
        "colab_type": "text"
      },
      "source": [
        "<a href=\"https://colab.research.google.com/github/vivekkishore/machinelearning/blob/main/Agents.ipynb\" target=\"_parent\"><img src=\"https://colab.research.google.com/assets/colab-badge.svg\" alt=\"Open In Colab\"/></a>"
      ]
    },
    {
      "cell_type": "markdown",
      "source": [
        "####Practice"
      ],
      "metadata": {
        "id": "hveLfpdBx4vi"
      }
    },
    {
      "cell_type": "code",
      "source": [
        "!pip install openai"
      ],
      "metadata": {
        "colab": {
          "base_uri": "https://localhost:8080/"
        },
        "collapsed": true,
        "id": "U5DvRhgLN6MI",
        "outputId": "eb2b0c17-4284-44cf-b739-acc8c8adf32f"
      },
      "execution_count": null,
      "outputs": [
        {
          "output_type": "stream",
          "name": "stdout",
          "text": [
            "Requirement already satisfied: openai in /usr/local/lib/python3.11/dist-packages (1.61.1)\n",
            "Requirement already satisfied: anyio<5,>=3.5.0 in /usr/local/lib/python3.11/dist-packages (from openai) (3.7.1)\n",
            "Requirement already satisfied: distro<2,>=1.7.0 in /usr/local/lib/python3.11/dist-packages (from openai) (1.9.0)\n",
            "Requirement already satisfied: httpx<1,>=0.23.0 in /usr/local/lib/python3.11/dist-packages (from openai) (0.28.1)\n",
            "Requirement already satisfied: jiter<1,>=0.4.0 in /usr/local/lib/python3.11/dist-packages (from openai) (0.8.2)\n",
            "Requirement already satisfied: pydantic<3,>=1.9.0 in /usr/local/lib/python3.11/dist-packages (from openai) (2.10.6)\n",
            "Requirement already satisfied: sniffio in /usr/local/lib/python3.11/dist-packages (from openai) (1.3.1)\n",
            "Requirement already satisfied: tqdm>4 in /usr/local/lib/python3.11/dist-packages (from openai) (4.67.1)\n",
            "Requirement already satisfied: typing-extensions<5,>=4.11 in /usr/local/lib/python3.11/dist-packages (from openai) (4.12.2)\n",
            "Requirement already satisfied: idna>=2.8 in /usr/local/lib/python3.11/dist-packages (from anyio<5,>=3.5.0->openai) (3.10)\n",
            "Requirement already satisfied: certifi in /usr/local/lib/python3.11/dist-packages (from httpx<1,>=0.23.0->openai) (2025.1.31)\n",
            "Requirement already satisfied: httpcore==1.* in /usr/local/lib/python3.11/dist-packages (from httpx<1,>=0.23.0->openai) (1.0.7)\n",
            "Requirement already satisfied: h11<0.15,>=0.13 in /usr/local/lib/python3.11/dist-packages (from httpcore==1.*->httpx<1,>=0.23.0->openai) (0.14.0)\n",
            "Requirement already satisfied: annotated-types>=0.6.0 in /usr/local/lib/python3.11/dist-packages (from pydantic<3,>=1.9.0->openai) (0.7.0)\n",
            "Requirement already satisfied: pydantic-core==2.27.2 in /usr/local/lib/python3.11/dist-packages (from pydantic<3,>=1.9.0->openai) (2.27.2)\n"
          ]
        }
      ]
    },
    {
      "cell_type": "code",
      "execution_count": null,
      "metadata": {
        "id": "mw-1jN8ixlQh"
      },
      "outputs": [],
      "source": [
        "import openai\n",
        "import os\n",
        "\n",
        "from openai import AzureOpenAI\n",
        "\n",
        "client=AzureOpenAI(azure_endpoint=\"https://devicemonitoring.openai.azure.com/\",api_key=\"30b4ae5d18f74d90b9fcc563460d9f0a\",api_version=\"2024-05-01-preview\")\n",
        "\n",
        "class agent:\n",
        "    def __init__(self,sys=\"\"):\n",
        "        self.sys=sys\n",
        "        self.messages=[]\n",
        "        self.messages.append({\"role\":\"system\",\"content\":self.sys})\n",
        "\n",
        "    def __call__(self,user_input):\n",
        "        self.messages.append({\"role\":\"user\",\"content\":f\"{user_input}\"})\n",
        "        result=self.execute()\n",
        "        self.messages.append({\"role\":\"assistant\",\"content\":result})\n",
        "        return result\n",
        "\n",
        "    def execute(self):\n",
        "        response=client.chat.completions.create(model=\"gpt-4o\",messages=self.messages,temperature=0)\n",
        "        return response.choices[0].message.content\n"
      ]
    },
    {
      "cell_type": "code",
      "source": [
        "str=\"\"\"Thought: I need to find the average weight of a Border Collie and a Scottish Terrier, then add them together to get the combined weight.\n",
        "Action: average_dog_weight: Border Collie\n",
        "PAUSE\"\"\"\n",
        "lines=str.split(\"\\n\")"
      ],
      "metadata": {
        "id": "auPqsGoJEZSV"
      },
      "execution_count": 1,
      "outputs": []
    },
    {
      "cell_type": "code",
      "source": [
        "lines"
      ],
      "metadata": {
        "colab": {
          "base_uri": "https://localhost:8080/"
        },
        "id": "h5Yl2KOhEZO0",
        "outputId": "92e9c929-67ad-458a-c742-792ca4d3b972"
      },
      "execution_count": 2,
      "outputs": [
        {
          "output_type": "execute_result",
          "data": {
            "text/plain": [
              "['Thought: I need to find the average weight of a Border Collie and a Scottish Terrier, then add them together to get the combined weight.',\n",
              " 'Action: average_dog_weight: Border Collie',\n",
              " 'PAUSE']"
            ]
          },
          "metadata": {},
          "execution_count": 2
        }
      ]
    },
    {
      "cell_type": "code",
      "source": [
        "# prompt: match this pattern to pull action name and argument\n",
        "\n",
        "import re\n",
        "\n",
        "str=\"\"\"Thought: I need to find the average weight of a Border Collie and a Scottish Terrier, then add them together to get the combined weight.\n",
        "Action: average_dog_weight: Border Collie\n",
        "PAUSE\"\"\"\n",
        "lines=str.split(\"\\n\")\n",
        "\n",
        "for line in lines:\n",
        "  match = re.match(r\"Action:\\s*(\\w+):\\s*(.+)\", line)\n",
        "  if match:\n",
        "    action_name = match.group(1)\n",
        "    argument = match.group(2)\n",
        "    print(f\"Action Name: {action_name}\")\n",
        "    print(f\"Argument: {argument}\")\n"
      ],
      "metadata": {
        "id": "RLaFu9amnxgO"
      },
      "execution_count": null,
      "outputs": []
    },
    {
      "cell_type": "code",
      "source": [
        "import re\n",
        "action_re=re.compile(r\"^Action: (.+):\\s*(.+)$\")\n",
        "# action_re=re.compile(r\"^Action:\\s*[a-zA-Z]+:\\s*[a-zA-Z]+$\")"
      ],
      "metadata": {
        "id": "x3VWhETqEYm8"
      },
      "execution_count": 18,
      "outputs": []
    },
    {
      "cell_type": "code",
      "source": [
        "result=action_re.match(lines[1])\n",
        "print(result)"
      ],
      "metadata": {
        "colab": {
          "base_uri": "https://localhost:8080/"
        },
        "id": "Bkcun65xEYjf",
        "outputId": "b30f090b-62fc-4796-a3db-690831a091bb"
      },
      "execution_count": 19,
      "outputs": [
        {
          "output_type": "stream",
          "name": "stdout",
          "text": [
            "<re.Match object; span=(0, 41), match='Action: average_dog_weight: Border Collie'>\n"
          ]
        }
      ]
    },
    {
      "cell_type": "code",
      "source": [
        "result.groups()"
      ],
      "metadata": {
        "id": "Zlv5cnRUmwJQ",
        "colab": {
          "base_uri": "https://localhost:8080/"
        },
        "outputId": "93345fa6-0c82-4d8d-ce16-7254669e002f"
      },
      "execution_count": 20,
      "outputs": [
        {
          "output_type": "execute_result",
          "data": {
            "text/plain": [
              "('average_dog_weight', 'Border Collie')"
            ]
          },
          "metadata": {},
          "execution_count": 20
        }
      ]
    },
    {
      "cell_type": "markdown",
      "source": [
        "####MultiThreading and multiprocessing"
      ],
      "metadata": {
        "id": "2NRwrVcffUOH"
      }
    },
    {
      "cell_type": "code",
      "source": [
        "import threading\n",
        "import time\n",
        "\n",
        "def worker(n):\n",
        "    print(f\"Thread {n} starting\")\n",
        "    time.sleep(2)  # Simulating an I/O operation\n",
        "    print(f\"Thread {n} finished\")\n",
        "\n",
        "threads = []\n",
        "for i in range(3):  # Creating 3 threads\n",
        "    t = threading.Thread(target=worker, args=(i,))\n",
        "    threads.append(t)\n",
        "    t.start()\n",
        "\n",
        "for t in threads:  # Wait for all threads to finish\n",
        "    t.join()\n",
        "\n",
        "print(\"All threads completed.\")\n"
      ],
      "metadata": {
        "id": "gLFtFfTAmwF0",
        "colab": {
          "base_uri": "https://localhost:8080/"
        },
        "outputId": "59089a37-ab5f-4821-a665-3a8881ed5cdc"
      },
      "execution_count": 2,
      "outputs": [
        {
          "output_type": "stream",
          "name": "stdout",
          "text": [
            "Thread 0 starting\n",
            "Thread 1 starting\n",
            "Thread 2 starting\n",
            "Thread 0 finished\n",
            "Thread 1 finished\n",
            "Thread 2 finished\n",
            "All threads completed.\n"
          ]
        }
      ]
    },
    {
      "cell_type": "code",
      "source": [
        "import threading\n",
        "import requests  # Or your preferred API library\n",
        "import queue\n",
        "\n",
        "def make_api_call(data_queue, results_queue):\n",
        "    while True:\n",
        "        try:\n",
        "            data = data_queue.get_nowait()\n",
        "        except queue.Empty:\n",
        "            break  # Exit thread when queue is empty\n",
        "\n",
        "        # Replace with your actual API call logic\n",
        "        response = requests.post(\"your_api_endpoint\", json=data)\n",
        "        results_queue.put((data, response))  # Store data and response\n",
        "\n",
        "        data_queue.task_done()\n",
        "\n",
        "# Define data and number of threads\n",
        "data_list = [{\"key1\": \"value1\"}, {\"key2\": \"value2\"}, ...]  # Your 100 data items\n",
        "num_threads = 10  # Number of threads to use\n",
        "\n",
        "# Initialize queues\n",
        "data_queue = queue.Queue()\n",
        "results_queue = queue.Queue()\n",
        "\n",
        "# Populate data queue\n",
        "for data in data_list:\n",
        "    data_queue.put(data)\n",
        "\n",
        "# Create and start threads\n",
        "threads = []\n",
        "for _ in range(num_threads):\n",
        "    t = threading.Thread(target=make_api_call, args=(data_queue, results_queue))\n",
        "    threads.append(t)\n",
        "    t.start()\n",
        "\n",
        "# Wait for all tasks to complete\n",
        "data_queue.join()\n",
        "\n",
        "# Retrieve results from results_queue\n",
        "results = []\n",
        "while not results_queue.empty():\n",
        "    results.append(results_queue.get())\n",
        "\n",
        "# Process the results\n",
        "for data, response in results:\n",
        "    # ... process data and response ...\n",
        "\n",
        "print(\"All API calls completed.\")"
      ],
      "metadata": {
        "id": "vQ0Wjx-G-OjZ"
      },
      "execution_count": null,
      "outputs": []
    },
    {
      "cell_type": "code",
      "source": [
        "import multiprocessing\n",
        "\n",
        "def square(n, result, index):\n",
        "    \"\"\"Function to compute square of a number and store it in shared list.\"\"\"\n",
        "    result[index] = n * n  # Store result in shared list\n",
        "\n",
        "if __name__ == \"__main__\":\n",
        "    numbers = [1, 2, 3, 4, 5]  # List of numbers\n",
        "    manager = multiprocessing.Manager()  # Create a manager for shared memory\n",
        "    result = manager.list([0] * len(numbers))  # Shared list to store results\n",
        "\n",
        "    processes = []\n",
        "    for i, num in enumerate(numbers):\n",
        "        p = multiprocessing.Process(target=square, args=(num, result, i))\n",
        "        processes.append(p)\n",
        "        p.start()\n",
        "\n",
        "    for p in processes:\n",
        "        p.join()  # Wait for all processes to complete\n",
        "\n",
        "    print(\"Squares:\", list(result))  # Output the results\n"
      ],
      "metadata": {
        "id": "WP0PeilqmwDx",
        "colab": {
          "base_uri": "https://localhost:8080/"
        },
        "outputId": "5dfbfd82-4993-4ca1-87b3-01d21be83638"
      },
      "execution_count": 1,
      "outputs": [
        {
          "output_type": "stream",
          "name": "stdout",
          "text": [
            "Squares: [1, 4, 9, 16, 25]\n"
          ]
        }
      ]
    },
    {
      "cell_type": "code",
      "source": [],
      "metadata": {
        "id": "P3kx3i9ifSJ7"
      },
      "execution_count": null,
      "outputs": []
    },
    {
      "cell_type": "code",
      "source": [],
      "metadata": {
        "id": "IID5OaUnfSGm"
      },
      "execution_count": null,
      "outputs": []
    },
    {
      "cell_type": "code",
      "source": [],
      "metadata": {
        "id": "3dAdUByLfSDa"
      },
      "execution_count": null,
      "outputs": []
    }
  ]
}