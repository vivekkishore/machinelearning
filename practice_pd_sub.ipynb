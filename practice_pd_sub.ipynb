{
  "nbformat": 4,
  "nbformat_minor": 0,
  "metadata": {
    "colab": {
      "provenance": [],
      "authorship_tag": "ABX9TyNvQKLo+273VIt/BjaQDutO",
      "include_colab_link": true
    },
    "kernelspec": {
      "name": "python3",
      "display_name": "Python 3"
    },
    "language_info": {
      "name": "python"
    }
  },
  "cells": [
    {
      "cell_type": "markdown",
      "metadata": {
        "id": "view-in-github",
        "colab_type": "text"
      },
      "source": [
        "<a href=\"https://colab.research.google.com/github/vivekkishore/machinelearning/blob/main/practice_pd_sub.ipynb\" target=\"_parent\"><img src=\"https://colab.research.google.com/assets/colab-badge.svg\" alt=\"Open In Colab\"/></a>"
      ]
    },
    {
      "cell_type": "markdown",
      "source": [
        "###SOLID"
      ],
      "metadata": {
        "id": "z4KU7DJK_M8w"
      }
    },
    {
      "cell_type": "code",
      "execution_count": null,
      "metadata": {
        "id": "m4XaWkTO5nwn"
      },
      "outputs": [],
      "source": [
        "from abc import ABC,abstractmethod\n",
        "class shape(ABC):\n",
        "  def __init__(self,shapetype,color):\n",
        "    self.shapetype=shapetype\n",
        "    self.color=color\n",
        "\n",
        "  @abstractmethod\n",
        "  def area(self):\n",
        "    pass\n",
        "  def get_color(self):\n",
        "    return self.color\n",
        "  def get_shapetype(self):\n",
        "    return self.shapetype\n",
        "\n",
        "class square(shape):\n",
        "  def __init__(self,side,color):\n",
        "    self.side=side\n",
        "    super().__init__('square',color)\n",
        "  def area(self):\n",
        "    return self.side*self.side\n",
        "\n",
        "class circle(shape):\n",
        "  def __init__(self,radius,color):\n",
        "    self.radius=radius\n",
        "    super().__init__('circle',color)\n",
        "  def area(self):\n",
        "    return 3.14*self.radius*self.radius\n",
        "\n",
        "class rectangle(shape):\n",
        "  def __init__(self,length,width,color):\n",
        "    self.length=length\n",
        "    self.width=width\n",
        "    super().__init__('rectangle',color)\n",
        "  def area(self):\n",
        "    pass\n",
        "\n"
      ]
    },
    {
      "cell_type": "code",
      "source": [
        "# sq1=square(5,'red')\n",
        "print(sq1.area())\n",
        "print(sq1.get_color())\n",
        "print(sq1.get_shapetype())"
      ],
      "metadata": {
        "id": "64TFtFhN5unp",
        "outputId": "bf2ab1f0-8149-4071-f005-c4999488fc9d",
        "colab": {
          "base_uri": "https://localhost:8080/"
        }
      },
      "execution_count": null,
      "outputs": [
        {
          "output_type": "stream",
          "name": "stdout",
          "text": [
            "25\n",
            "red\n",
            "square\n"
          ]
        }
      ]
    },
    {
      "cell_type": "markdown",
      "source": [
        "###Agent and worflows"
      ],
      "metadata": {
        "id": "FpqCLhLsovnM"
      }
    },
    {
      "cell_type": "code",
      "source": [
        "# !pip install -qU langchain-groq\n",
        "# from google.colab import userdata\n",
        "# import os\n",
        "# from langchain_groq import ChatGroq\n",
        "# from langchain_core.prompts import PromptTemplate\n",
        "# from langchain_core.output_parsers import StrOutputParser\n",
        "# from pprint import pprint\n",
        "# from IPython.display import display, Markdown\n",
        "\n",
        "# os.environ['GROQ_API_KEY']=userdata.get('groq_key')\n",
        "\n",
        "# model=ChatGroq(model='llama-3.3-70b-versatile')\n",
        "\n",
        "# basic_prompt = \"\"\"\n",
        "# You are a knowledgeable AI assistant specializing in trend analysis and reporting.\n",
        "# Please address the following inquiry:\n",
        "# Query: {query}\n",
        "# \"\"\"\n",
        "\n",
        "# template_obj = PromptTemplate(\n",
        "#     input_variables=[\"query\"],\n",
        "#     template=basic_prompt\n",
        "# )\n",
        "\n",
        "# llmchain= template_obj | model | StrOutputParser()\n",
        "result=llmchain.invoke({'query':'How does AI affect the global healthcare landscape?'})\n",
        "\n",
        "print(f\"Agent reply: {result}\")\n"
      ],
      "metadata": {
        "id": "AWsJ_V5M5ur3",
        "collapsed": true
      },
      "execution_count": null,
      "outputs": []
    },
    {
      "cell_type": "code",
      "source": [
        "# from langchain_core.messages import HumanMessage, SystemMessage\n",
        "\n",
        "# messages = [\n",
        "#     SystemMessage(\"Translate the following from English into Italian\"),\n",
        "#     HumanMessage(\"hi!\"),\n",
        "# ]\n",
        "# model.invoke(messages)\n",
        "\n",
        "# from groq import Groq\n",
        "\n",
        "# client = Groq()\n",
        "# completion = client.chat.completions.create(\n",
        "#     model=\"llama-3.3-70b-versatile\",\n",
        "#     messages=[\n",
        "#         {\n",
        "#             \"role\": \"user\",\n",
        "#             \"content\": \"who are you?\"\n",
        "#         }\n",
        "#     ],\n",
        "#     temperature=1,\n",
        "#     max_tokens=1024,\n",
        "#     top_p=1,\n",
        "#     stream=False,\n",
        "#     stop=None,\n",
        "# )\n",
        "\n",
        "# print(completion.choices[0].message)\n"
      ],
      "metadata": {
        "colab": {
          "base_uri": "https://localhost:8080/"
        },
        "id": "-QrNhrMEtPzC",
        "outputId": "0e407c9a-3ade-4aff-82cb-2fe92490fb63"
      },
      "execution_count": null,
      "outputs": [
        {
          "output_type": "stream",
          "name": "stdout",
          "text": [
            "ChatCompletionMessage(content='I\\'m an artificial intelligence model known as Llama. Llama stands for \"Large Language Model Meta AI.\"', role='assistant', function_call=None, tool_calls=None)\n"
          ]
        }
      ]
    },
    {
      "cell_type": "markdown",
      "source": [
        "###doc extraction"
      ],
      "metadata": {
        "id": "jXU-_KZQlZfO"
      }
    },
    {
      "cell_type": "code",
      "source": [
        "!pip install python-pptx"
      ],
      "metadata": {
        "colab": {
          "base_uri": "https://localhost:8080/"
        },
        "id": "LDtkRSwtG2HP",
        "outputId": "68fd9089-35de-426a-b45c-b92b2abc280c"
      },
      "execution_count": 12,
      "outputs": [
        {
          "output_type": "stream",
          "name": "stdout",
          "text": [
            "Requirement already satisfied: python-pptx in /usr/local/lib/python3.11/dist-packages (1.0.2)\n",
            "Requirement already satisfied: Pillow>=3.3.2 in /usr/local/lib/python3.11/dist-packages (from python-pptx) (11.1.0)\n",
            "Requirement already satisfied: XlsxWriter>=0.5.7 in /usr/local/lib/python3.11/dist-packages (from python-pptx) (3.2.2)\n",
            "Requirement already satisfied: lxml>=3.1.0 in /usr/local/lib/python3.11/dist-packages (from python-pptx) (5.3.0)\n",
            "Requirement already satisfied: typing-extensions>=4.9.0 in /usr/local/lib/python3.11/dist-packages (from python-pptx) (4.12.2)\n"
          ]
        }
      ]
    },
    {
      "cell_type": "code",
      "source": [
        "from pptx import Presentation\n",
        "from pptx.enum.shapes import MSO_SHAPE_TYPE\n",
        "\n",
        "# Open the PowerPoint file\n",
        "prs = Presentation(\"MOBILE APP Sol 258 Copy Deck 2024.10.31 - ENGLISH.pptx\")\n",
        "\n",
        "# Iterate over slides (each slide can be considered a page)\n",
        "for slide_index, slide in enumerate(prs.slides, start=1):\n",
        "    print(f\"Slide {slide_index}:\")\n",
        "\n",
        "    for shape in slide.shapes:\n",
        "        # Extract text if available\n",
        "        if hasattr(shape, \"text\") and shape.text.strip():\n",
        "            print(\"Text:\", shape.text.strip())\n",
        "\n",
        "        # Check if the shape is a table\n",
        "        if shape.shape_type == MSO_SHAPE_TYPE.TABLE:\n",
        "            table = shape.table\n",
        "            for row in table.rows:\n",
        "                row_text = [cell.text for cell in row.cells]\n",
        "                print(\"Table row:\", row_text)\n",
        "\n",
        "        # Check if the shape is a picture\n",
        "        if shape.shape_type == MSO_SHAPE_TYPE.PICTURE:\n",
        "            image = shape.image\n",
        "            image_bytes = image.blob\n",
        "            image_filename = f\"slide{slide_index}_image{shape.shape_id}.png\"\n",
        "            with open(f\"images/{image_filename}\", \"wb\") as f:\n",
        "                f.write(image_bytes)\n",
        "            print(\"Saved image:\", image_filename)\n",
        "        if shape.shape_type == MSO_SHAPE_TYPE.GROUP:\n",
        "          for shape in shape.shapes:\n",
        "            if hasattr(shape, \"text\") and shape.text.strip():\n",
        "                print(\"Text:\", shape.text.strip())\n",
        "            if shape.shape_type == MSO_SHAPE_TYPE.TABLE:\n",
        "                table = shape.table\n",
        "                for row in table.rows:\n",
        "                    row_text = [cell.text for cell in row.cells]\n",
        "                    print(\"Table row:\", row_text)\n",
        "            if shape.shape_type == MSO_SHAPE_TYPE.PICTURE:\n",
        "                image = shape.image\n",
        "                image_bytes = image.blob\n",
        "                image_filename = f\"slide{slide_index}_image{shape.shape_id}.png\"\n",
        "                with open(f\"images/{image_filename}\", \"wb\") as f:\n",
        "                    f.write(image_bytes)\n",
        "                print(\"Saved image:\", image_filename)\n",
        "    print(\"-\" * 40)\n"
      ],
      "metadata": {
        "id": "N8SIO4u5Q0j0",
        "colab": {
          "base_uri": "https://localhost:8080/"
        },
        "outputId": "2162bdc5-bd9f-41e8-99c8-5a9c2c9b7e3b"
      },
      "execution_count": 15,
      "outputs": [
        {
          "output_type": "stream",
          "name": "stdout",
          "text": [
            "Slide 1:\n",
            "Text: October 2024\n",
            "Text: PRESTO Customer Experience & Digital Channel\n",
            "Text: PRESTO SOL 258 App Copy Deck\n",
            "Saved image: slide1_image7.png\n",
            "----------------------------------------\n",
            "Slide 2:\n",
            "Text: Converting Physical CC to MWC\n",
            "Text: Confirm English and French content and screen design for both iOS and Android.\u000b\u000bPRESTO Decision: Refer to copy deck at the end of the deck\n",
            "----------------------------------------\n",
            "Slide 3:\n",
            "Text: Unlinking Physical CC from Account\n",
            "Text: 1. Confirm placement and look of Unlink button.\n",
            "\n",
            "PRESTO Decision: Change the look and feel of the unlink and report lost card so its consistent.\n",
            "Saved image: slide3_image4.png\n",
            "Saved image: slide3_image5.png\n",
            "Saved image: slide3_image7.png\n",
            "Saved image: slide3_image8.png\n",
            "Saved image: slide3_image2050.png\n",
            "Text: 2. Confirm English and French content and screen design for both iOS and Android.\u000b\u000bPRESTO Decision: Refer to copy deck at the end of the deck\n",
            "Text: 2\n",
            "----------------------------------------\n",
            "Slide 4:\n",
            "Text: Visual Icons\n",
            "Text: Confirm design of visual icon, including placement on physical CC visual in the mobile app.\n",
            "\n",
            "PRESTO Decision: We are not going to touch the credential card display. So please disregard image 4. \n",
            "\n",
            "New visual display will only be on the NON-migrated SVC cards during the migration period. For SVC cards that have not migrated to credential cards, we will display a 1 red circle message alert, when they click into the card details, there will be a text island with a red 1 to explain. This interaction remains until the card has been migrated.  Look at picture 6 new.  When the card is migrated, we show a success screen.\n",
            "Saved image: slide4_image3.png\n",
            "Text: 4\n",
            "Saved image: slide4_image7.png\n",
            "Text: 4 (new)\n",
            "Text: FPO\n",
            "----------------------------------------\n",
            "Slide 5:\n",
            "Text: OP Fare Type & Fare Type expiry\n",
            "Text: Confirm location of Fare Type and Expiry fields for registered and anonymous users.\u000b\u000bPRESTO Decision: Follow the MWC pattern for disapplying fare type and fare type expiry. Fix the UI issues for the placement of adult. remove the ability to expand/collapse the fare type area if there are multiple fare types associated with the card.\n",
            "Saved image: slide5_image16.png\n",
            "Text: Adult\n",
            "Saved image: slide5_image13.png\n",
            "Text: Adult\n",
            "Saved image: slide5_image8.png\n",
            "Saved image: slide5_image9.png\n",
            "Text: Adult\n",
            "Text: 5\n",
            "Text: 6\n",
            "Text: 7\n",
            "Saved image: slide5_image21.png\n",
            "Text: 7 (new)\n",
            "----------------------------------------\n",
            "Slide 6:\n",
            "Text: OP Fare Type & Fare Type expiry\n",
            "Text: Confirm location of Fare Type and Expiry fields for registered users.\u000b\u000bPRESTO Decision: Follow the MWC pattern for disapplying fare type and fare type expiry, see images 7(new).  Fix the UI issues for the placement of adults in all views. Remove the ability to expand/collapse the fare type area if there are multiple fare types associated with the card. We’ve mocked it up without the expand/collapse for reference 7(new).\n",
            "Saved image: slide6_image16.png\n",
            "Text: Adult\n",
            "Saved image: slide6_image13.png\n",
            "Text: Adult\n",
            "Saved image: slide6_image8.png\n",
            "Saved image: slide6_image9.png\n",
            "Text: Adult\n",
            "Text: 5\n",
            "Text: 6\n",
            "Text: 7\n",
            "Saved image: slide6_image21.png\n",
            "Saved image: slide6_image24.png\n",
            "Text: Name + Concession should be realigned to the box, see mock up\n",
            "Text: Adult should be listed under the card name, then the bottom should say PRESTO contactless.\n",
            "Text: 7 (new)\n",
            "----------------------------------------\n",
            "Slide 7:\n",
            "Saved image: slide7_image30.png\n",
            "Text: Credential Card Fare Type + MWC Fare Type\n",
            "Text: The way fare type and fare type expiry is displayed should be universal for all products (now that we are allowing OP cards to set fare types)\n",
            "Saved image: slide7_image24.png\n",
            "Text: Should apply to MWC too\n",
            "----------------------------------------\n",
            "Slide 8:\n",
            "Text: OP Fare Type & Fare Type expiry\n",
            "Text: Confirm location of Fare Type and Expiry fields for anonymous users.\u000b\u000bPRESTO Decision: Follow the MWC pattern for disapplying fare type and fare type expiry, see below.\n",
            "Saved image: slide8_image46.png\n",
            "Text: 8\n",
            "Text: 9\n",
            "Text: 10\n",
            "Saved image: slide8_image48.png\n",
            "Saved image: slide8_image49.png\n",
            "Text: 10 (new)\n",
            "----------------------------------------\n",
            "Slide 9:\n",
            "Text: Physical CC Welcome Message\n",
            "Text: Confirm English and French content for pop up message (will be the same for both iOS and Android).\n",
            "\n",
            "PRESTO Decision: See copy deck.\n",
            "----------------------------------------\n",
            "Slide 10:\n",
            "Text: Check Balance (NEW ADDITION)\n",
            "Text: Include the fare type island into the check balance output for physical credential cards.\n",
            "Saved image: slide10_image5.png\n",
            "----------------------------------------\n",
            "Slide 11:\n",
            "Text: Copy Deck\n",
            "Text: 11\n",
            "Text: Insert Footer\n",
            "Table row: ['REF#', 'ENGLISH FINAL', 'ACCESSIBILITY ENGLISH', 'FRENCH FINAL', 'ACCESSIBILITY FRENCH', 'Image']\n",
            "Table row: ['T1', 'Add Card to Apple Wallet', '[Same as EN]', '', '', '']\n",
            "Table row: ['IMG1', '', '[ignore: alt=\"\"]', '', '', '']\n",
            "Table row: ['T2', 'Add your card to Apple Wallet.\\x0b\\x0bYour physical card has been converted to PRESTO in Apple Wallet and can no longer be used to pay for transit.\\x0b\\x0bPlease dispose of your physical PRESTO card.', '[Same as EN]', '', '', '']\n",
            "Table row: ['B1', 'Add to Apple Wallet', '[Same as EN] [code as button]', '', '', '']\n",
            "Table row: ['T3', 'Unlink Card', '[Same as EN]', '', '', '']\n",
            "Table row: ['T4', 'What you should know about unlinking\\x0byour card from your PRESTO account:', '[Same as EN]', '', '', '']\n",
            "Table row: ['T5', 'This action removes this card from your PRESTO account.\\nThis card will stay in Apple Wallet and can be registered to a PRESTO account again at any time.\\nWe only recommend this action if you want to move this card to a different PRESTO account.', '[Same as EN]', '', '', '']\n",
            "Table row: ['B2', 'UNLINK CARD', '[Same as EN] [code as button]', '', '', '']\n",
            "Table row: ['B3', 'CANCEL', '[Same as EN] [code as button]', '', '', '']\n",
            "Saved image: slide11_image9.png\n",
            "----------------------------------------\n",
            "Slide 12:\n",
            "Text: 12\n",
            "Text: Insert Footer\n",
            "Table row: ['REF#', 'ENGLISH FINAL', 'ACCESSIBILITY ENGLISH', 'FRENCH FINAL', 'ACCESSIBILITY FRENCH', 'IMAGE']\n",
            "Table row: ['IMG2', '', '[Alt=\"PRESTO card with confetti\"]', '', '', '']\n",
            "Table row: ['T6', 'Your PRESTO card has been updated!', '[Same as EN] \\n', '', '', '']\n",
            "Table row: ['T7', 'This means instant loads and real-time balance and transaction history!\\xa0\\n\\n[Question for Accenture: Can you please apply this to the overlay Confetti | Magic UI]', '[Same as EN]', '', '', '']\n",
            "Table row: ['B4', 'Close', '[Same as EN] [code as button]', '', '', '']\n",
            "Table row: ['T8', 'Add Card to Google Wallet', '[Same as EN]', '', '', '']\n",
            "Table row: ['IMG3', '', '[ignore: alt=\"\"]', '', '', '']\n",
            "Table row: ['T9', 'Just one more step:\\x0bAdd your card to Google Wallet', '[Same as EN]', '', '', '']\n",
            "Table row: ['T10', 'Your physical card has been converted to PRESTO in Google Wallet. Once you add it to Google Wallet you can use it to pay for transit.\\x0b\\x0bYour physical card can no longer be used to pay for transit.\\x0b\\x0bPlease dispose of your physical PRESTO card', '[Same as EN]', '', '', '']\n",
            "Table row: ['B5', 'Add to Google Wallet', '[Same as EN] [code as button]', '', '', '']\n",
            "Table row: ['T11', 'Unlink Card', '[Same as EN]', '', '', '']\n",
            "Table row: ['T12', 'Unlink this card from your PRESTO account?', '[Same as EN]', '', '', '']\n",
            "Saved image: slide12_image9.png\n",
            "Saved image: slide12_image11.png\n",
            "----------------------------------------\n",
            "Slide 13:\n",
            "Text: 13\n",
            "Text: Insert Footer\n",
            "Table row: ['REF#', 'ENGLISH FINAL', 'ACCESSIBILITY ENGLISH', 'FRENCH FINAL', 'ACCESSIBILITY FRENCH', 'IMAGES']\n",
            "Table row: ['T13', \"Here's what you should know about unlinking your card:\", '[Same as EN]', '', '', '']\n",
            "Table row: ['T14', 'This action unlinks your card from your PRESTO account.\\nThis card will stay in Google Wallet and can be registered to a PRESTO account again at anytime.\\nWe only recommend this action if you want to transfer this card to a different PRESTO account.', '[Same as EN]', '', '', '']\n",
            "Table row: ['L1', 'Learn more about managing PRESTO in Google Wallet.', '[Same as EN][code as link]', '', '', '']\n",
            "Table row: ['B6', 'UNLINK CARD', '[Same as EN][Code as button]', '', '', '']\n",
            "Table row: ['B8', '', '[Alt=\"You have one notification\"]', '', '', '']\n",
            "Table row: ['B9', '', '[Alt=\"Notification\"]', '', '', '']\n",
            "Table row: ['T15', 'Your card is upgrading soon!', '[Same as EN]', '', '', '']\n",
            "Table row: ['T16', \"\\x0bGreat news! PRESTO cards will soon be upgraded!\\xa0 That means instant loads, and real time balance and transaction history.\\x0b\\x0bThere's nothing you need to do! We'll let you know in the app when your card is automatically upgraded.\", '[Same as EN]', '', '', '']\n",
            "Table row: ['T17\\n', \"To set a fare type on your card, visit a participating Shoppers Drug Mart location or one of your transit agency's Customer Service Outlets. \\n\\nHow to set up a fare type\", '[Same as EN]', '', '', '']\n",
            "Saved image: slide13_image2.png\n",
            "Saved image: slide13_image4.png\n",
            "Saved image: slide13_image9.png\n",
            "----------------------------------------\n",
            "Slide 14:\n",
            "----------------------------------------\n"
          ]
        }
      ]
    },
    {
      "cell_type": "code",
      "source": [
        "from pptx import Presentation\n",
        "from pptx.enum.shapes import MSO_SHAPE_TYPE\n",
        "\n",
        "# Open the PowerPoint file\n",
        "prs = Presentation(\"MOBILE APP Sol 258 Copy Deck 2024.10.31 - ENGLISH.pptx\")\n",
        "\n",
        "# Iterate over slides (each slide can be considered a page)\n",
        "for slide_index, slide in enumerate(prs.slides, start=1):\n",
        "    print(f\"Slide {slide_index}:\")\n",
        "\n",
        "    for shape in slide.shapes:\n",
        "      print(shape.name, shape.shape_type, shape.width, shape.height)\n"
      ],
      "metadata": {
        "id": "vKt9SrTyRbaP",
        "colab": {
          "base_uri": "https://localhost:8080/"
        },
        "outputId": "58e04e1e-3d27-47e1-d69e-5c4cde97620b"
      },
      "execution_count": 14,
      "outputs": [
        {
          "output_type": "stream",
          "name": "stdout",
          "text": [
            "Slide 1:\n",
            "Date Placeholder 1 PLACEHOLDER (14) 4114800 203843\n",
            "Text Placeholder 5 PLACEHOLDER (14) 8372475 765685\n",
            "Title 2 PLACEHOLDER (14) 9956178 3236378\n",
            "Picture 6 PICTURE (13) 864435 166936\n",
            "Slide 2:\n",
            "Title 1 PLACEHOLDER (14) 11616079 314324\n",
            "TextBox 5 TEXT_BOX (17) 10400755 923330\n",
            "Slide 3:\n",
            "Title 1 PLACEHOLDER (14) 6826503 184721\n",
            "TextBox 5 TEXT_BOX (17) 10400755 1200329\n",
            "Group 2 GROUP (6) 1363078 3603558\n",
            "Picture 2 PICTURE (13) 4086225 1428750\n",
            "Straight Arrow Connector 9 LINE (9) 706007 478540\n",
            "TextBox 11 TEXT_BOX (17) 4086225 1754326\n",
            "Oval 12 AUTO_SHAPE (1) 342900 314325\n",
            "Slide 4:\n",
            "Title 1 PLACEHOLDER (14) 11616079 314324\n",
            "TextBox 5 TEXT_BOX (17) 11164234 1815882\n",
            "Picture 2 PICTURE (13) 3913822 1983940\n",
            "Oval 3 AUTO_SHAPE (1) 336714 314325\n",
            "Multiplication Sign 4 AUTO_SHAPE (1) 2267446 2286000\n",
            "Picture 6 PICTURE (13) 7542394 4278803\n",
            "Oval 7 AUTO_SHAPE (1) 1193957 739596\n",
            "TextBox 8 TEXT_BOX (17) 644728 369332\n",
            "Slide 5:\n",
            "Title 1 PLACEHOLDER (14) 11616079 314324\n",
            "TextBox 5 TEXT_BOX (17) 10400755 830997\n",
            "Group 2 GROUP (6) 1554714 3532830\n",
            "Group 3 GROUP (6) 1622279 3561579\n",
            "Group 4 GROUP (6) 1634511 3573755\n",
            "Oval 6 AUTO_SHAPE (1) 344721 306418\n",
            "Oval 18 AUTO_SHAPE (1) 344721 306418\n",
            "Oval 19 AUTO_SHAPE (1) 342900 314325\n",
            "Picture 20 PICTURE (13) 2704111 523875\n",
            "Oval 21 AUTO_SHAPE (1) 1088764 523876\n",
            "Slide 6:\n",
            "Title 1 PLACEHOLDER (14) 11616079 314324\n",
            "TextBox 5 TEXT_BOX (17) 10400755 1015663\n",
            "Group 2 GROUP (6) 1554714 3532830\n",
            "Group 3 GROUP (6) 1622279 3561579\n",
            "Group 4 GROUP (6) 1634511 3573755\n",
            "Oval 6 AUTO_SHAPE (1) 344721 306418\n",
            "Oval 18 AUTO_SHAPE (1) 344721 306418\n",
            "Oval 19 AUTO_SHAPE (1) 342900 314325\n",
            "Picture 20 PICTURE (13) 2704111 523875\n",
            "Picture 23 PICTURE (13) 5805806 4887557\n",
            "Speech Bubble: Oval 25 AUTO_SHAPE (1) 1848837 1011146\n",
            "Straight Arrow Connector 27 LINE (9) 1544798 410907\n",
            "Straight Arrow Connector 28 LINE (9) 3624493 988813\n",
            "Straight Arrow Connector 34 LINE (9) 497535 187929\n",
            "Speech Bubble: Oval 37 AUTO_SHAPE (1) 2491712 1011146\n",
            "Oval 21 AUTO_SHAPE (1) 1088764 523876\n",
            "Slide 7:\n",
            "Picture 29 PICTURE (13) 6355552 4360420\n",
            "Title 1 PLACEHOLDER (14) 11616079 314324\n",
            "TextBox 5 TEXT_BOX (17) 10400755 276999\n",
            "Picture 23 PICTURE (13) 5805806 4887557\n",
            "Speech Bubble: Oval 24 AUTO_SHAPE (1) 1195278 653709\n",
            "Slide 8:\n",
            "Title 1 PLACEHOLDER (14) 11616079 314324\n",
            "TextBox 5 TEXT_BOX (17) 10400755 830997\n",
            "Picture 45 PICTURE (13) 6320187 4433804\n",
            "Oval 29 AUTO_SHAPE (1) 342900 304800\n",
            "Oval 30 AUTO_SHAPE (1) 345622 314325\n",
            "Oval 31 AUTO_SHAPE (1) 488497 393701\n",
            "Picture 47 PICTURE (13) 3848100 1640283\n",
            "Picture 48 PICTURE (13) 3984509 2174932\n",
            "Oval 49 AUTO_SHAPE (1) 1114425 393701\n",
            "Slide 9:\n",
            "Title 1 PLACEHOLDER (14) 11616079 314324\n",
            "TextBox 5 TEXT_BOX (17) 10400755 646331\n",
            "Slide 10:\n",
            "Title 1 PLACEHOLDER (14) 11616079 314324\n",
            "TextBox 5 TEXT_BOX (17) 10400755 276999\n",
            "AutoShape 2 AUTO_SHAPE (1) 304800 304800\n",
            "Picture 4 PICTURE (13) 6835974 5116872\n",
            "Slide 11:\n",
            "Title 1 PLACEHOLDER (14) 11616079 314324\n",
            "Slide Number Placeholder 2 PLACEHOLDER (14) 372680 346965\n",
            "Footer Placeholder 4 PLACEHOLDER (14) 9651929 346965\n",
            "Table 6 TABLE (19) 12086313 5730017\n",
            "Picture 8 PICTURE (13) 3545395 4063443\n",
            "Slide 12:\n",
            "Slide Number Placeholder 2 PLACEHOLDER (14) 372680 346965\n",
            "Footer Placeholder 4 PLACEHOLDER (14) 9651929 346965\n",
            "Table 6 TABLE (19) 11987690 6032633\n",
            "Picture 8 PICTURE (13) 1401473 2717436\n",
            "Picture 10 PICTURE (13) 2895957 2925628\n",
            "Slide 13:\n",
            "Slide Number Placeholder 2 PLACEHOLDER (14) 372680 346965\n",
            "Footer Placeholder 4 PLACEHOLDER (14) 9651929 346965\n",
            "Table 6 TABLE (19) 12141657 6210980\n",
            "Picture 1 PICTURE (13) 1376729 2806945\n",
            "Picture 3 PICTURE (13) 2912879 3389030\n",
            "Picture 8 PICTURE (13) 5388615 2410696\n",
            "Slide 14:\n"
          ]
        }
      ]
    },
    {
      "cell_type": "code",
      "source": [],
      "metadata": {
        "id": "KHQ2uzuZQ0hc"
      },
      "execution_count": null,
      "outputs": []
    },
    {
      "cell_type": "code",
      "source": [],
      "metadata": {
        "id": "AWvcgdtalevv"
      },
      "execution_count": null,
      "outputs": []
    },
    {
      "cell_type": "code",
      "source": [],
      "metadata": {
        "id": "TKKAi6atlesH"
      },
      "execution_count": null,
      "outputs": []
    },
    {
      "cell_type": "code",
      "source": [],
      "metadata": {
        "id": "7g2gFAl3lep3"
      },
      "execution_count": null,
      "outputs": []
    }
  ]
}