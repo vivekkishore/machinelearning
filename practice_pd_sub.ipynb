{
  "nbformat": 4,
  "nbformat_minor": 0,
  "metadata": {
    "colab": {
      "provenance": [],
      "authorship_tag": "ABX9TyOQF6otTdYDnzIgP/fA6wij",
      "include_colab_link": true
    },
    "kernelspec": {
      "name": "python3",
      "display_name": "Python 3"
    },
    "language_info": {
      "name": "python"
    }
  },
  "cells": [
    {
      "cell_type": "markdown",
      "metadata": {
        "id": "view-in-github",
        "colab_type": "text"
      },
      "source": [
        "<a href=\"https://colab.research.google.com/github/vivekkishore/machinelearning/blob/main/practice_pd_sub.ipynb\" target=\"_parent\"><img src=\"https://colab.research.google.com/assets/colab-badge.svg\" alt=\"Open In Colab\"/></a>"
      ]
    },
    {
      "cell_type": "code",
      "execution_count": null,
      "metadata": {
        "id": "m4XaWkTO5nwn"
      },
      "outputs": [],
      "source": [
        "from abc import ABC,abstractmethod\n",
        "class shape(ABC):\n",
        "  def __init__(self,shapetype,color):\n",
        "    self.shapetype=shapetype\n",
        "    self.color=color\n",
        "\n",
        "  @abstractmethod\n",
        "  def area(self):\n",
        "    pass\n",
        "  def get_color(self):\n",
        "    return self.color\n",
        "  def get_shapetype(self):\n",
        "    return self.shapetype\n",
        "\n",
        "class square(shape):\n",
        "  def __init__(self,side,color):\n",
        "    self.side=side\n",
        "    super().__init__('square',color)\n",
        "  def area(self):\n",
        "    return self.side*self.side\n",
        "\n",
        "class circle(shape):\n",
        "  def __init__(self,radius,color):\n",
        "    self.radius=radius\n",
        "    super().__init__('circle',color)\n",
        "  def area(self):\n",
        "    return 3.14*self.radius*self.radius\n",
        "\n",
        "class rectangle(shape):\n",
        "  def __init__(self,length,width,color):\n",
        "    self.length=length\n",
        "    self.width=width\n",
        "    super().__init__('rectangle',color)\n",
        "  def area(self):\n",
        "    pass\n",
        "\n"
      ]
    },
    {
      "cell_type": "code",
      "source": [
        "# sq1=square(5,'red')\n",
        "print(sq1.area())\n",
        "print(sq1.get_color())\n",
        "print(sq1.get_shapetype())"
      ],
      "metadata": {
        "id": "64TFtFhN5unp",
        "outputId": "bf2ab1f0-8149-4071-f005-c4999488fc9d",
        "colab": {
          "base_uri": "https://localhost:8080/"
        }
      },
      "execution_count": null,
      "outputs": [
        {
          "output_type": "stream",
          "name": "stdout",
          "text": [
            "25\n",
            "red\n",
            "square\n"
          ]
        }
      ]
    },
    {
      "cell_type": "markdown",
      "source": [
        "###Agent and worflows"
      ],
      "metadata": {
        "id": "FpqCLhLsovnM"
      }
    },
    {
      "cell_type": "code",
      "source": [
        "# !pip install -qU langchain-groq\n",
        "from google.colab import userdata\n",
        "import os\n",
        "from langchain_groq import ChatGroq\n",
        "os.environ['GROQ_API_KEY']=userdata.get('groq_key')\n",
        "\n",
        "model=ChatGroq(model='llama-3.3-70b-versatile')\n"
      ],
      "metadata": {
        "id": "AWsJ_V5M5ur3",
        "outputId": "1f3a6b2d-fc6b-4d3f-b2b9-8af94a50ca36",
        "colab": {
          "base_uri": "https://localhost:8080/",
          "height": 35
        }
      },
      "execution_count": 26,
      "outputs": [
        {
          "output_type": "execute_result",
          "data": {
            "text/plain": [
              "'I\\'m an artificial intelligence model known as Llama. Llama stands for \"Large Language Model Meta AI.\"'"
            ],
            "application/vnd.google.colaboratory.intrinsic+json": {
              "type": "string"
            }
          },
          "metadata": {},
          "execution_count": 26
        }
      ]
    },
    {
      "cell_type": "code",
      "source": [],
      "metadata": {
        "id": "-QrNhrMEtPzC"
      },
      "execution_count": null,
      "outputs": []
    },
    {
      "cell_type": "code",
      "source": [],
      "metadata": {
        "id": "SXIVvk7QtPvn"
      },
      "execution_count": null,
      "outputs": []
    },
    {
      "cell_type": "code",
      "source": [],
      "metadata": {
        "id": "zDdZLSVetPtw"
      },
      "execution_count": null,
      "outputs": []
    },
    {
      "cell_type": "code",
      "source": [],
      "metadata": {
        "id": "yHCuykBatPsM"
      },
      "execution_count": null,
      "outputs": []
    },
    {
      "cell_type": "code",
      "source": [],
      "metadata": {
        "id": "FvfcwBtOtPp0"
      },
      "execution_count": null,
      "outputs": []
    }
  ]
}