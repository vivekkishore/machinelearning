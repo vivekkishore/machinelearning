{
  "nbformat": 4,
  "nbformat_minor": 0,
  "metadata": {
    "colab": {
      "provenance": [],
      "authorship_tag": "ABX9TyO2/Bbq/lhQr+A/xHfpmk8+",
      "include_colab_link": true
    },
    "kernelspec": {
      "name": "python3",
      "display_name": "Python 3"
    },
    "language_info": {
      "name": "python"
    }
  },
  "cells": [
    {
      "cell_type": "markdown",
      "metadata": {
        "id": "view-in-github",
        "colab_type": "text"
      },
      "source": [
        "<a href=\"https://colab.research.google.com/github/vivekkishore/machinelearning/blob/main/practice_pd_sub.ipynb\" target=\"_parent\"><img src=\"https://colab.research.google.com/assets/colab-badge.svg\" alt=\"Open In Colab\"/></a>"
      ]
    },
    {
      "cell_type": "markdown",
      "source": [
        "###SOLID"
      ],
      "metadata": {
        "id": "z4KU7DJK_M8w"
      }
    },
    {
      "cell_type": "code",
      "execution_count": null,
      "metadata": {
        "id": "m4XaWkTO5nwn"
      },
      "outputs": [],
      "source": [
        "from abc import ABC,abstractmethod\n",
        "class shape(ABC):\n",
        "  def __init__(self,shapetype,color):\n",
        "    self.shapetype=shapetype\n",
        "    self.color=color\n",
        "\n",
        "  @abstractmethod\n",
        "  def area(self):\n",
        "    pass\n",
        "  def get_color(self):\n",
        "    return self.color\n",
        "  def get_shapetype(self):\n",
        "    return self.shapetype\n",
        "\n",
        "class square(shape):\n",
        "  def __init__(self,side,color):\n",
        "    self.side=side\n",
        "    super().__init__('square',color)\n",
        "  def area(self):\n",
        "    return self.side*self.side\n",
        "\n",
        "class circle(shape):\n",
        "  def __init__(self,radius,color):\n",
        "    self.radius=radius\n",
        "    super().__init__('circle',color)\n",
        "  def area(self):\n",
        "    return 3.14*self.radius*self.radius\n",
        "\n",
        "class rectangle(shape):\n",
        "  def __init__(self,length,width,color):\n",
        "    self.length=length\n",
        "    self.width=width\n",
        "    super().__init__('rectangle',color)\n",
        "  def area(self):\n",
        "    pass\n",
        "\n"
      ]
    },
    {
      "cell_type": "code",
      "source": [
        "# sq1=square(5,'red')\n",
        "print(sq1.area())\n",
        "print(sq1.get_color())\n",
        "print(sq1.get_shapetype())"
      ],
      "metadata": {
        "id": "64TFtFhN5unp",
        "outputId": "bf2ab1f0-8149-4071-f005-c4999488fc9d",
        "colab": {
          "base_uri": "https://localhost:8080/"
        }
      },
      "execution_count": null,
      "outputs": [
        {
          "output_type": "stream",
          "name": "stdout",
          "text": [
            "25\n",
            "red\n",
            "square\n"
          ]
        }
      ]
    },
    {
      "cell_type": "markdown",
      "source": [
        "###Agent and worflows"
      ],
      "metadata": {
        "id": "FpqCLhLsovnM"
      }
    },
    {
      "cell_type": "code",
      "source": [
        "# !pip install -qU langchain-groq\n",
        "# from google.colab import userdata\n",
        "# import os\n",
        "# from langchain_groq import ChatGroq\n",
        "# from langchain_core.prompts import PromptTemplate\n",
        "# from langchain_core.output_parsers import StrOutputParser\n",
        "# from pprint import pprint\n",
        "# from IPython.display import display, Markdown\n",
        "\n",
        "# os.environ['GROQ_API_KEY']=userdata.get('groq_key')\n",
        "\n",
        "# model=ChatGroq(model='llama-3.3-70b-versatile')\n",
        "\n",
        "# basic_prompt = \"\"\"\n",
        "# You are a knowledgeable AI assistant specializing in trend analysis and reporting.\n",
        "# Please address the following inquiry:\n",
        "# Query: {query}\n",
        "# \"\"\"\n",
        "\n",
        "# template_obj = PromptTemplate(\n",
        "#     input_variables=[\"query\"],\n",
        "#     template=basic_prompt\n",
        "# )\n",
        "\n",
        "# llmchain= template_obj | model | StrOutputParser()\n",
        "result=llmchain.invoke({'query':'How does AI affect the global healthcare landscape?'})\n",
        "\n",
        "print(f\"Agent reply: {result}\")\n"
      ],
      "metadata": {
        "id": "AWsJ_V5M5ur3",
        "collapsed": true
      },
      "execution_count": null,
      "outputs": []
    },
    {
      "cell_type": "code",
      "source": [
        "# from langchain_core.messages import HumanMessage, SystemMessage\n",
        "\n",
        "# messages = [\n",
        "#     SystemMessage(\"Translate the following from English into Italian\"),\n",
        "#     HumanMessage(\"hi!\"),\n",
        "# ]\n",
        "# model.invoke(messages)\n",
        "\n",
        "# from groq import Groq\n",
        "\n",
        "# client = Groq()\n",
        "# completion = client.chat.completions.create(\n",
        "#     model=\"llama-3.3-70b-versatile\",\n",
        "#     messages=[\n",
        "#         {\n",
        "#             \"role\": \"user\",\n",
        "#             \"content\": \"who are you?\"\n",
        "#         }\n",
        "#     ],\n",
        "#     temperature=1,\n",
        "#     max_tokens=1024,\n",
        "#     top_p=1,\n",
        "#     stream=False,\n",
        "#     stop=None,\n",
        "# )\n",
        "\n",
        "# print(completion.choices[0].message)\n"
      ],
      "metadata": {
        "colab": {
          "base_uri": "https://localhost:8080/"
        },
        "id": "-QrNhrMEtPzC",
        "outputId": "0e407c9a-3ade-4aff-82cb-2fe92490fb63"
      },
      "execution_count": null,
      "outputs": [
        {
          "output_type": "stream",
          "name": "stdout",
          "text": [
            "ChatCompletionMessage(content='I\\'m an artificial intelligence model known as Llama. Llama stands for \"Large Language Model Meta AI.\"', role='assistant', function_call=None, tool_calls=None)\n"
          ]
        }
      ]
    },
    {
      "cell_type": "markdown",
      "source": [
        "###doc extraction"
      ],
      "metadata": {
        "id": "jXU-_KZQlZfO"
      }
    },
    {
      "cell_type": "code",
      "source": [
        "!pip install python-pptx"
      ],
      "metadata": {
        "id": "LDtkRSwtG2HP",
        "outputId": "4a568bc0-eabd-4c2b-9fd7-1b316d7a2d2b",
        "colab": {
          "base_uri": "https://localhost:8080/"
        }
      },
      "execution_count": 1,
      "outputs": [
        {
          "output_type": "stream",
          "name": "stdout",
          "text": [
            "Collecting python-pptx\n",
            "  Downloading python_pptx-1.0.2-py3-none-any.whl.metadata (2.5 kB)\n",
            "Requirement already satisfied: Pillow>=3.3.2 in /usr/local/lib/python3.11/dist-packages (from python-pptx) (11.1.0)\n",
            "Collecting XlsxWriter>=0.5.7 (from python-pptx)\n",
            "  Downloading XlsxWriter-3.2.2-py3-none-any.whl.metadata (2.8 kB)\n",
            "Requirement already satisfied: lxml>=3.1.0 in /usr/local/lib/python3.11/dist-packages (from python-pptx) (5.3.0)\n",
            "Requirement already satisfied: typing-extensions>=4.9.0 in /usr/local/lib/python3.11/dist-packages (from python-pptx) (4.12.2)\n",
            "Downloading python_pptx-1.0.2-py3-none-any.whl (472 kB)\n",
            "\u001b[?25l   \u001b[90m━━━━━━━━━━━━━━━━━━━━━━━━━━━━━━━━━━━━━━━━\u001b[0m \u001b[32m0.0/472.8 kB\u001b[0m \u001b[31m?\u001b[0m eta \u001b[36m-:--:--\u001b[0m\r\u001b[2K   \u001b[90m━━━━━━━━━━━━━━━━━━━━━━━━━━━━━━━━━━━━━━━━\u001b[0m \u001b[32m472.8/472.8 kB\u001b[0m \u001b[31m19.7 MB/s\u001b[0m eta \u001b[36m0:00:00\u001b[0m\n",
            "\u001b[?25hDownloading XlsxWriter-3.2.2-py3-none-any.whl (165 kB)\n",
            "\u001b[2K   \u001b[90m━━━━━━━━━━━━━━━━━━━━━━━━━━━━━━━━━━━━━━━━\u001b[0m \u001b[32m165.1/165.1 kB\u001b[0m \u001b[31m10.6 MB/s\u001b[0m eta \u001b[36m0:00:00\u001b[0m\n",
            "\u001b[?25hInstalling collected packages: XlsxWriter, python-pptx\n",
            "Successfully installed XlsxWriter-3.2.2 python-pptx-1.0.2\n"
          ]
        }
      ]
    },
    {
      "cell_type": "code",
      "source": [
        "from pptx import Presentation\n",
        "from pptx.enum.shapes import MSO_SHAPE_TYPE\n",
        "\n",
        "# Open the PowerPoint file\n",
        "prs = Presentation(\"MOBILE APP Sol 258 Copy Deck 2024.10.31 - ENGLISH.pptx\")\n",
        "\n",
        "# Iterate over slides (each slide can be considered a page)\n",
        "for slide_index, slide in enumerate(prs.slides, start=1):\n",
        "    print(f\"Slide {slide_index}:\")\n",
        "\n",
        "    for shape in slide.shapes:\n",
        "        # Extract text if available\n",
        "        if hasattr(shape, \"text\") and shape.text.strip():\n",
        "            print(\"Text:\", shape.text.strip())\n",
        "\n",
        "        # Check if the shape is a table\n",
        "        if shape.shape_type == MSO_SHAPE_TYPE.TABLE:\n",
        "            table = shape.table\n",
        "            for row in table.rows:\n",
        "                row_text = [cell.text for cell in row.cells]\n",
        "                print(\"Table row:\", row_text)\n",
        "\n",
        "        # Check if the shape is a picture\n",
        "        if shape.shape_type == MSO_SHAPE_TYPE.PICTURE:\n",
        "            image = shape.image\n",
        "            image_bytes = image.blob\n",
        "            image_filename = f\"slide{slide_index}_image{shape.shape_id}.png\"\n",
        "            with open(f\"images/{image_filename}\", \"wb\") as f:\n",
        "                f.write(image_bytes)\n",
        "            print(\"Saved image:\", image_filename)\n",
        "\n",
        "    print(\"-\" * 40)\n"
      ],
      "metadata": {
        "id": "N8SIO4u5Q0j0",
        "outputId": "4025b6ad-c281-4887-e64b-7cb41a74d210",
        "colab": {
          "base_uri": "https://localhost:8080/"
        }
      },
      "execution_count": 8,
      "outputs": [
        {
          "output_type": "stream",
          "name": "stdout",
          "text": [
            "Slide 1:\n",
            "Text: October 2024\n",
            "Text: PRESTO Customer Experience & Digital Channel\n",
            "Text: PRESTO SOL 258 App Copy Deck\n",
            "Saved image: slide1_image7.png\n",
            "----------------------------------------\n",
            "Slide 2:\n",
            "Text: Converting Physical CC to MWC\n",
            "Text: Confirm English and French content and screen design for both iOS and Android.\u000b\u000bPRESTO Decision: Refer to copy deck at the end of the deck\n",
            "----------------------------------------\n",
            "Slide 3:\n",
            "Text: Unlinking Physical CC from Account\n",
            "Text: 1. Confirm placement and look of Unlink button.\n",
            "\n",
            "PRESTO Decision: Change the look and feel of the unlink and report lost card so its consistent.\n",
            "Saved image: slide3_image2050.png\n",
            "Text: 2. Confirm English and French content and screen design for both iOS and Android.\u000b\u000bPRESTO Decision: Refer to copy deck at the end of the deck\n",
            "Text: 2\n",
            "----------------------------------------\n",
            "Slide 4:\n",
            "Text: Visual Icons\n",
            "Text: Confirm design of visual icon, including placement on physical CC visual in the mobile app.\n",
            "\n",
            "PRESTO Decision: We are not going to touch the credential card display. So please disregard image 4. \n",
            "\n",
            "New visual display will only be on the NON-migrated SVC cards during the migration period. For SVC cards that have not migrated to credential cards, we will display a 1 red circle message alert, when they click into the card details, there will be a text island with a red 1 to explain. This interaction remains until the card has been migrated.  Look at picture 6 new.  When the card is migrated, we show a success screen.\n",
            "Saved image: slide4_image3.png\n",
            "Text: 4\n",
            "Saved image: slide4_image7.png\n",
            "Text: 4 (new)\n",
            "Text: FPO\n",
            "----------------------------------------\n",
            "Slide 5:\n",
            "Text: OP Fare Type & Fare Type expiry\n",
            "Text: Confirm location of Fare Type and Expiry fields for registered and anonymous users.\u000b\u000bPRESTO Decision: Follow the MWC pattern for disapplying fare type and fare type expiry. Fix the UI issues for the placement of adult. remove the ability to expand/collapse the fare type area if there are multiple fare types associated with the card.\n",
            "Text: 5\n",
            "Text: 6\n",
            "Text: 7\n",
            "Saved image: slide5_image21.png\n",
            "Text: 7 (new)\n",
            "----------------------------------------\n",
            "Slide 6:\n",
            "Text: OP Fare Type & Fare Type expiry\n",
            "Text: Confirm location of Fare Type and Expiry fields for registered users.\u000b\u000bPRESTO Decision: Follow the MWC pattern for disapplying fare type and fare type expiry, see images 7(new).  Fix the UI issues for the placement of adults in all views. Remove the ability to expand/collapse the fare type area if there are multiple fare types associated with the card. We’ve mocked it up without the expand/collapse for reference 7(new).\n",
            "Text: 5\n",
            "Text: 6\n",
            "Text: 7\n",
            "Saved image: slide6_image21.png\n",
            "Saved image: slide6_image24.png\n",
            "Text: Name + Concession should be realigned to the box, see mock up\n",
            "Text: Adult should be listed under the card name, then the bottom should say PRESTO contactless.\n",
            "Text: 7 (new)\n",
            "----------------------------------------\n",
            "Slide 7:\n",
            "Saved image: slide7_image30.png\n",
            "Text: Credential Card Fare Type + MWC Fare Type\n",
            "Text: The way fare type and fare type expiry is displayed should be universal for all products (now that we are allowing OP cards to set fare types)\n",
            "Saved image: slide7_image24.png\n",
            "Text: Should apply to MWC too\n",
            "----------------------------------------\n",
            "Slide 8:\n",
            "Text: OP Fare Type & Fare Type expiry\n",
            "Text: Confirm location of Fare Type and Expiry fields for anonymous users.\u000b\u000bPRESTO Decision: Follow the MWC pattern for disapplying fare type and fare type expiry, see below.\n",
            "Saved image: slide8_image46.png\n",
            "Text: 8\n",
            "Text: 9\n",
            "Text: 10\n",
            "Saved image: slide8_image48.png\n",
            "Saved image: slide8_image49.png\n",
            "Text: 10 (new)\n",
            "----------------------------------------\n",
            "Slide 9:\n",
            "Text: Physical CC Welcome Message\n",
            "Text: Confirm English and French content for pop up message (will be the same for both iOS and Android).\n",
            "\n",
            "PRESTO Decision: See copy deck.\n",
            "----------------------------------------\n",
            "Slide 10:\n",
            "Text: Check Balance (NEW ADDITION)\n",
            "Text: Include the fare type island into the check balance output for physical credential cards.\n",
            "Saved image: slide10_image5.png\n",
            "----------------------------------------\n",
            "Slide 11:\n",
            "Text: Copy Deck\n",
            "Text: 11\n",
            "Text: Insert Footer\n",
            "Table row: ['REF#', 'ENGLISH FINAL', 'ACCESSIBILITY ENGLISH', 'FRENCH FINAL', 'ACCESSIBILITY FRENCH', 'Image']\n",
            "Table row: ['T1', 'Add Card to Apple Wallet', '[Same as EN]', '', '', '']\n",
            "Table row: ['IMG1', '', '[ignore: alt=\"\"]', '', '', '']\n",
            "Table row: ['T2', 'Add your card to Apple Wallet.\\x0b\\x0bYour physical card has been converted to PRESTO in Apple Wallet and can no longer be used to pay for transit.\\x0b\\x0bPlease dispose of your physical PRESTO card.', '[Same as EN]', '', '', '']\n",
            "Table row: ['B1', 'Add to Apple Wallet', '[Same as EN] [code as button]', '', '', '']\n",
            "Table row: ['T3', 'Unlink Card', '[Same as EN]', '', '', '']\n",
            "Table row: ['T4', 'What you should know about unlinking\\x0byour card from your PRESTO account:', '[Same as EN]', '', '', '']\n",
            "Table row: ['T5', 'This action removes this card from your PRESTO account.\\nThis card will stay in Apple Wallet and can be registered to a PRESTO account again at any time.\\nWe only recommend this action if you want to move this card to a different PRESTO account.', '[Same as EN]', '', '', '']\n",
            "Table row: ['B2', 'UNLINK CARD', '[Same as EN] [code as button]', '', '', '']\n",
            "Table row: ['B3', 'CANCEL', '[Same as EN] [code as button]', '', '', '']\n",
            "Saved image: slide11_image9.png\n",
            "----------------------------------------\n",
            "Slide 12:\n",
            "Text: 12\n",
            "Text: Insert Footer\n",
            "Table row: ['REF#', 'ENGLISH FINAL', 'ACCESSIBILITY ENGLISH', 'FRENCH FINAL', 'ACCESSIBILITY FRENCH', 'IMAGE']\n",
            "Table row: ['IMG2', '', '[Alt=\"PRESTO card with confetti\"]', '', '', '']\n",
            "Table row: ['T6', 'Your PRESTO card has been updated!', '[Same as EN] \\n', '', '', '']\n",
            "Table row: ['T7', 'This means instant loads and real-time balance and transaction history!\\xa0\\n\\n[Question for Accenture: Can you please apply this to the overlay Confetti | Magic UI]', '[Same as EN]', '', '', '']\n",
            "Table row: ['B4', 'Close', '[Same as EN] [code as button]', '', '', '']\n",
            "Table row: ['T8', 'Add Card to Google Wallet', '[Same as EN]', '', '', '']\n",
            "Table row: ['IMG3', '', '[ignore: alt=\"\"]', '', '', '']\n",
            "Table row: ['T9', 'Just one more step:\\x0bAdd your card to Google Wallet', '[Same as EN]', '', '', '']\n",
            "Table row: ['T10', 'Your physical card has been converted to PRESTO in Google Wallet. Once you add it to Google Wallet you can use it to pay for transit.\\x0b\\x0bYour physical card can no longer be used to pay for transit.\\x0b\\x0bPlease dispose of your physical PRESTO card', '[Same as EN]', '', '', '']\n",
            "Table row: ['B5', 'Add to Google Wallet', '[Same as EN] [code as button]', '', '', '']\n",
            "Table row: ['T11', 'Unlink Card', '[Same as EN]', '', '', '']\n",
            "Table row: ['T12', 'Unlink this card from your PRESTO account?', '[Same as EN]', '', '', '']\n",
            "Saved image: slide12_image9.png\n",
            "Saved image: slide12_image11.png\n",
            "----------------------------------------\n",
            "Slide 13:\n",
            "Text: 13\n",
            "Text: Insert Footer\n",
            "Table row: ['REF#', 'ENGLISH FINAL', 'ACCESSIBILITY ENGLISH', 'FRENCH FINAL', 'ACCESSIBILITY FRENCH', 'IMAGES']\n",
            "Table row: ['T13', \"Here's what you should know about unlinking your card:\", '[Same as EN]', '', '', '']\n",
            "Table row: ['T14', 'This action unlinks your card from your PRESTO account.\\nThis card will stay in Google Wallet and can be registered to a PRESTO account again at anytime.\\nWe only recommend this action if you want to transfer this card to a different PRESTO account.', '[Same as EN]', '', '', '']\n",
            "Table row: ['L1', 'Learn more about managing PRESTO in Google Wallet.', '[Same as EN][code as link]', '', '', '']\n",
            "Table row: ['B6', 'UNLINK CARD', '[Same as EN][Code as button]', '', '', '']\n",
            "Table row: ['B8', '', '[Alt=\"You have one notification\"]', '', '', '']\n",
            "Table row: ['B9', '', '[Alt=\"Notification\"]', '', '', '']\n",
            "Table row: ['T15', 'Your card is upgrading soon!', '[Same as EN]', '', '', '']\n",
            "Table row: ['T16', \"\\x0bGreat news! PRESTO cards will soon be upgraded!\\xa0 That means instant loads, and real time balance and transaction history.\\x0b\\x0bThere's nothing you need to do! We'll let you know in the app when your card is automatically upgraded.\", '[Same as EN]', '', '', '']\n",
            "Table row: ['T17\\n', \"To set a fare type on your card, visit a participating Shoppers Drug Mart location or one of your transit agency's Customer Service Outlets. \\n\\nHow to set up a fare type\", '[Same as EN]', '', '', '']\n",
            "Saved image: slide13_image2.png\n",
            "Saved image: slide13_image4.png\n",
            "Saved image: slide13_image9.png\n",
            "----------------------------------------\n",
            "Slide 14:\n",
            "----------------------------------------\n"
          ]
        }
      ]
    },
    {
      "cell_type": "code",
      "source": [
        "from pptx.enum.shapes import MSO_SHAPE_TYPE, MSO_FILL_TYPE\n",
        "\n",
        "for shape in slide.shapes:\n",
        "    print(shape.name, shape.shape_type, shape.width, shape.height)\n"
      ],
      "metadata": {
        "id": "vKt9SrTyRbaP",
        "outputId": "dc233d45-8f0a-41bc-d0ca-aa7579677209",
        "colab": {
          "base_uri": "https://localhost:8080/",
          "height": 384
        }
      },
      "execution_count": 10,
      "outputs": [
        {
          "output_type": "error",
          "ename": "ImportError",
          "evalue": "cannot import name 'MSO_FILL_TYPE' from 'pptx.enum.shapes' (/usr/local/lib/python3.11/dist-packages/pptx/enum/shapes.py)",
          "traceback": [
            "\u001b[0;31m---------------------------------------------------------------------------\u001b[0m",
            "\u001b[0;31mImportError\u001b[0m                               Traceback (most recent call last)",
            "\u001b[0;32m<ipython-input-10-c53fa2d08349>\u001b[0m in \u001b[0;36m<cell line: 0>\u001b[0;34m()\u001b[0m\n\u001b[0;32m----> 1\u001b[0;31m \u001b[0;32mfrom\u001b[0m \u001b[0mpptx\u001b[0m\u001b[0;34m.\u001b[0m\u001b[0menum\u001b[0m\u001b[0;34m.\u001b[0m\u001b[0mshapes\u001b[0m \u001b[0;32mimport\u001b[0m \u001b[0mMSO_SHAPE_TYPE\u001b[0m\u001b[0;34m,\u001b[0m \u001b[0mMSO_FILL_TYPE\u001b[0m\u001b[0;34m\u001b[0m\u001b[0;34m\u001b[0m\u001b[0m\n\u001b[0m\u001b[1;32m      2\u001b[0m \u001b[0;34m\u001b[0m\u001b[0m\n\u001b[1;32m      3\u001b[0m \u001b[0;32mfor\u001b[0m \u001b[0mshape\u001b[0m \u001b[0;32min\u001b[0m \u001b[0mslide\u001b[0m\u001b[0;34m.\u001b[0m\u001b[0mshapes\u001b[0m\u001b[0;34m:\u001b[0m\u001b[0;34m\u001b[0m\u001b[0;34m\u001b[0m\u001b[0m\n\u001b[1;32m      4\u001b[0m     \u001b[0mprint\u001b[0m\u001b[0;34m(\u001b[0m\u001b[0mshape\u001b[0m\u001b[0;34m.\u001b[0m\u001b[0mname\u001b[0m\u001b[0;34m,\u001b[0m \u001b[0mshape\u001b[0m\u001b[0;34m.\u001b[0m\u001b[0mshape_type\u001b[0m\u001b[0;34m,\u001b[0m \u001b[0mshape\u001b[0m\u001b[0;34m.\u001b[0m\u001b[0mwidth\u001b[0m\u001b[0;34m,\u001b[0m \u001b[0mshape\u001b[0m\u001b[0;34m.\u001b[0m\u001b[0mheight\u001b[0m\u001b[0;34m)\u001b[0m\u001b[0;34m\u001b[0m\u001b[0;34m\u001b[0m\u001b[0m\n",
            "\u001b[0;31mImportError\u001b[0m: cannot import name 'MSO_FILL_TYPE' from 'pptx.enum.shapes' (/usr/local/lib/python3.11/dist-packages/pptx/enum/shapes.py)",
            "",
            "\u001b[0;31m---------------------------------------------------------------------------\u001b[0;32m\nNOTE: If your import is failing due to a missing package, you can\nmanually install dependencies using either !pip or !apt.\n\nTo view examples of installing some common dependencies, click the\n\"Open Examples\" button below.\n\u001b[0;31m---------------------------------------------------------------------------\u001b[0m\n"
          ],
          "errorDetails": {
            "actions": [
              {
                "action": "open_url",
                "actionText": "Open Examples",
                "url": "/notebooks/snippets/importing_libraries.ipynb"
              }
            ]
          }
        }
      ]
    },
    {
      "cell_type": "code",
      "source": [],
      "metadata": {
        "id": "KHQ2uzuZQ0hc"
      },
      "execution_count": null,
      "outputs": []
    },
    {
      "cell_type": "code",
      "source": [],
      "metadata": {
        "id": "AWvcgdtalevv"
      },
      "execution_count": null,
      "outputs": []
    },
    {
      "cell_type": "code",
      "source": [],
      "metadata": {
        "id": "TKKAi6atlesH"
      },
      "execution_count": null,
      "outputs": []
    },
    {
      "cell_type": "code",
      "source": [],
      "metadata": {
        "id": "7g2gFAl3lep3"
      },
      "execution_count": null,
      "outputs": []
    }
  ]
}