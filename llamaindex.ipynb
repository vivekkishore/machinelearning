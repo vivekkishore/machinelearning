{
  "nbformat": 4,
  "nbformat_minor": 0,
  "metadata": {
    "colab": {
      "provenance": [],
      "authorship_tag": "ABX9TyN3yDzAA30lD7pMtduuq9i0",
      "include_colab_link": true
    },
    "kernelspec": {
      "name": "python3",
      "display_name": "Python 3"
    },
    "language_info": {
      "name": "python"
    }
  },
  "cells": [
    {
      "cell_type": "markdown",
      "metadata": {
        "id": "view-in-github",
        "colab_type": "text"
      },
      "source": [
        "<a href=\"https://colab.research.google.com/github/vivekkishore/machinelearning/blob/main/llamaindex.ipynb\" target=\"_parent\"><img src=\"https://colab.research.google.com/assets/colab-badge.svg\" alt=\"Open In Colab\"/></a>"
      ]
    },
    {
      "cell_type": "markdown",
      "source": [
        "###LLama index"
      ],
      "metadata": {
        "id": "0qDz3eH74MKB"
      }
    },
    {
      "cell_type": "code",
      "execution_count": null,
      "metadata": {
        "id": "fF2mJWTtg8td"
      },
      "outputs": [],
      "source": [
        "# !pip install llama-index\n",
        "# !pip install llama-index-llms-azure-openai\n",
        "# !pip install llama-index-embeddings-azure-openai\n",
        "# !pip install sqlite-utils\n",
        "# !pip install python-dotenv"
      ]
    },
    {
      "cell_type": "code",
      "source": [
        "data=[\n",
        "    {'name':'charls','age':10,'city':'Newyork'},\n",
        "    {'name':'bob','age':15,'city':'delhi'},\n",
        "    {'name':'alice','age':20,'city':'mumbai'},\n",
        "     {'name':'john','age':25,'city':'chicago'},\n",
        "     {'name':'maddie','age':21,'city':'pune'}\n",
        "     ]"
      ],
      "metadata": {
        "id": "lAMizLp94KLc"
      },
      "execution_count": 3,
      "outputs": []
    },
    {
      "cell_type": "code",
      "source": [
        "from llama_index.llms.azure_openai import AzureOpenAI\n",
        "from llama_index.embeddings.azure_openai import AzureOpenAIEmbedding\n",
        "from dotenv import dotenv_values\n",
        "config = dotenv_values(\".env\")\n",
        "\n",
        "\n",
        "azure_openai_key = config[\"API_KEY\"]\n",
        "azure_openai_endpoint = config[\"ENDPOINT\"]\n",
        "azure_gpt_model_name=config[\"GPT_Model_Name\"]\n",
        "gpt_deployment_name=config[\"Deployment_Name\"]\n",
        "api_version=config['Model_Version']\n",
        "azure_embed_model_name=config[\"Embed_Model_Name\"]\n",
        "embedding_deployment_name=config[\"Embed_Deployment\"]\n",
        "\n",
        "llm = AzureOpenAI(\n",
        "    model=azure_gpt_model_name,\n",
        "    deployment_name=gpt_deployment_name,\n",
        "    api_key=azure_openai_key,\n",
        "    azure_endpoint=azure_openai_endpoint,\n",
        "    api_version=api_version,\n",
        ")\n",
        "\n",
        "embed_model = AzureOpenAIEmbedding(\n",
        "    model=azure_embed_model_name,\n",
        "    deployment_name=embedding_deployment_name,\n",
        "    api_key=azure_openai_key,\n",
        "    azure_endpoint=azure_openai_endpoint,\n",
        "    api_version=api_version,\n",
        ")"
      ],
      "metadata": {
        "id": "3o0B9vJk4KOK"
      },
      "execution_count": 18,
      "outputs": []
    },
    {
      "cell_type": "code",
      "source": [
        "from llama_index.core.query_engine import JSONalyzeQueryEngine"
      ],
      "metadata": {
        "id": "Rk3x6pq3FwcY"
      },
      "execution_count": 19,
      "outputs": []
    },
    {
      "cell_type": "code",
      "source": [],
      "metadata": {
        "id": "pAujX9VZFwe1"
      },
      "execution_count": null,
      "outputs": []
    },
    {
      "cell_type": "code",
      "source": [],
      "metadata": {
        "id": "b8zArcawFwgy"
      },
      "execution_count": null,
      "outputs": []
    },
    {
      "cell_type": "code",
      "source": [],
      "metadata": {
        "id": "lyZ6v74fFwkc"
      },
      "execution_count": null,
      "outputs": []
    }
  ]
}